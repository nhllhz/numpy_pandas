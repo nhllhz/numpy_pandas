{
 "cells": [
  {
   "cell_type": "markdown",
   "metadata": {},
   "source": [
    "# SP01 Ejercicios Vectores 1"
   ]
  },
  {
   "cell_type": "code",
   "execution_count": 3,
   "metadata": {
    "ExecuteTime": {
     "end_time": "2021-05-03T20:30:41.654891Z",
     "start_time": "2021-05-03T20:30:41.650901Z"
    }
   },
   "outputs": [],
   "source": [
    "# Importar las librería Numpy\n",
    "import numpy as np"
   ]
  },
  {
   "cell_type": "markdown",
   "metadata": {},
   "source": [
    "## Ej 1\n",
    "Cree el siguiente array de Numpy y llámelo v1\n",
    "\n",
    "$$ v1=[1,2,3,4,5,6,7,8,9,10, ..., 50] $$"
   ]
  },
  {
   "cell_type": "code",
   "execution_count": 4,
   "metadata": {
    "ExecuteTime": {
     "end_time": "2021-05-03T20:34:10.862099Z",
     "start_time": "2021-05-03T20:34:10.856114Z"
    }
   },
   "outputs": [
    {
     "data": {
      "text/plain": [
       "array([ 1,  2,  3,  4,  5,  6,  7,  8,  9, 10, 11, 12, 13, 14, 15, 16, 17,\n",
       "       18, 19, 20, 21, 22, 23, 24, 25, 26, 27, 28, 29, 30, 31, 32, 33, 34,\n",
       "       35, 36, 37, 38, 39, 40, 41, 42, 43, 44, 45, 46, 47, 48, 49, 50])"
      ]
     },
     "execution_count": 4,
     "metadata": {},
     "output_type": "execute_result"
    }
   ],
   "source": [
    "# Escriba aquí su código\n",
    "v1=np.arange(1,51,1)\n",
    "v1"
   ]
  },
  {
   "cell_type": "markdown",
   "metadata": {},
   "source": [
    "## Ej 2\n",
    "Cree el siguiente array de Numpy y llámelo v2\n",
    "\n",
    "$$ v2=[2,4,6,8,10,...,100] $$"
   ]
  },
  {
   "cell_type": "code",
   "execution_count": 5,
   "metadata": {
    "ExecuteTime": {
     "end_time": "2021-05-03T20:35:21.851421Z",
     "start_time": "2021-05-03T20:35:21.844441Z"
    }
   },
   "outputs": [
    {
     "data": {
      "text/plain": [
       "array([  2,   4,   6,   8,  10,  12,  14,  16,  18,  20,  22,  24,  26,\n",
       "        28,  30,  32,  34,  36,  38,  40,  42,  44,  46,  48,  50,  52,\n",
       "        54,  56,  58,  60,  62,  64,  66,  68,  70,  72,  74,  76,  78,\n",
       "        80,  82,  84,  86,  88,  90,  92,  94,  96,  98, 100])"
      ]
     },
     "execution_count": 5,
     "metadata": {},
     "output_type": "execute_result"
    }
   ],
   "source": [
    "# Escriba aquí su código\n",
    "v2=np.arange(2,101,2)\n",
    "v2"
   ]
  },
  {
   "cell_type": "markdown",
   "metadata": {},
   "source": [
    "## Ej 3\n",
    "Cree el siguiente array de Numpy y llámelo v3\n",
    "\n",
    "$$ v3=[3,6,9,12,...,150] $$"
   ]
  },
  {
   "cell_type": "code",
   "execution_count": 6,
   "metadata": {
    "ExecuteTime": {
     "end_time": "2021-05-03T20:42:53.769322Z",
     "start_time": "2021-05-03T20:42:53.765348Z"
    }
   },
   "outputs": [
    {
     "data": {
      "text/plain": [
       "array([  3,   6,   9,  12,  15,  18,  21,  24,  27,  30,  33,  36,  39,\n",
       "        42,  45,  48,  51,  54,  57,  60,  63,  66,  69,  72,  75,  78,\n",
       "        81,  84,  87,  90,  93,  96,  99, 102, 105, 108, 111, 114, 117,\n",
       "       120, 123, 126, 129, 132, 135, 138, 141, 144, 147, 150])"
      ]
     },
     "execution_count": 6,
     "metadata": {},
     "output_type": "execute_result"
    }
   ],
   "source": [
    "# Escriba aquí su código\n",
    "v3=np.arange(3,151,3)\n",
    "v3"
   ]
  },
  {
   "cell_type": "code",
   "execution_count": null,
   "metadata": {
    "ExecuteTime": {
     "end_time": "2021-05-03T20:43:17.422823Z",
     "start_time": "2021-05-03T20:43:17.416815Z"
    }
   },
   "outputs": [],
   "source": []
  },
  {
   "cell_type": "markdown",
   "metadata": {},
   "source": [
    "## Ej 4\n",
    "\n",
    "Calcule el módulo o norma de los vectores anteriores, llame a esto valores mod_v1 mod_v2 y mod_v3"
   ]
  },
  {
   "cell_type": "code",
   "execution_count": 7,
   "metadata": {
    "ExecuteTime": {
     "end_time": "2021-05-03T20:38:55.258400Z",
     "start_time": "2021-05-03T20:38:55.248426Z"
    }
   },
   "outputs": [
    {
     "data": {
      "text/plain": [
       "207.18349355100662"
      ]
     },
     "execution_count": 7,
     "metadata": {},
     "output_type": "execute_result"
    }
   ],
   "source": [
    "# Escriba aquí su código\n",
    "mod_v1=np.linalg.norm(v1)\n",
    "mod_v1"
   ]
  },
  {
   "cell_type": "code",
   "execution_count": 8,
   "metadata": {
    "ExecuteTime": {
     "end_time": "2021-05-03T20:39:09.167578Z",
     "start_time": "2021-05-03T20:39:09.161592Z"
    }
   },
   "outputs": [
    {
     "data": {
      "text/plain": [
       "414.36698710201324"
      ]
     },
     "execution_count": 8,
     "metadata": {},
     "output_type": "execute_result"
    }
   ],
   "source": [
    "# Escriba aquí su código\n",
    "mod_v2=np.linalg.norm(v2)\n",
    "mod_v2"
   ]
  },
  {
   "cell_type": "code",
   "execution_count": 9,
   "metadata": {
    "ExecuteTime": {
     "end_time": "2021-05-03T20:44:07.851099Z",
     "start_time": "2021-05-03T20:44:07.847088Z"
    }
   },
   "outputs": [
    {
     "data": {
      "text/plain": [
       "621.5504806530198"
      ]
     },
     "execution_count": 9,
     "metadata": {},
     "output_type": "execute_result"
    }
   ],
   "source": [
    "# Escriba aquí su código\n",
    "mod_v3=np.linalg.norm(v3)\n",
    "mod_v3"
   ]
  },
  {
   "cell_type": "markdown",
   "metadata": {
    "ExecuteTime": {
     "end_time": "2021-05-03T20:45:20.641502Z",
     "start_time": "2021-05-03T20:45:20.638510Z"
    }
   },
   "source": [
    "## Ej 5"
   ]
  },
  {
   "cell_type": "code",
   "execution_count": 10,
   "metadata": {},
   "outputs": [
    {
     "data": {
      "text/plain": [
       "50"
      ]
     },
     "execution_count": 10,
     "metadata": {},
     "output_type": "execute_result"
    }
   ],
   "source": [
    "v1.size"
   ]
  },
  {
   "cell_type": "markdown",
   "metadata": {},
   "source": [
    "Cree un vector que tenga la misma cantidad de elementos que los anteriores y que esté formado todo por números veinte, llámelo v_veintes.    \n",
    "\n",
    "- Cuál de los vectores anteriores es más cercano a v_veintes?   \n",
    "- Guarde el valor de la menor distancia en una variable llamada: min_dist \n",
    "- Cuál es el vector más lejaano a v_veintes? \n",
    "- Guarde este valor en nmax_dist"
   ]
  },
  {
   "cell_type": "code",
   "execution_count": 11,
   "metadata": {
    "ExecuteTime": {
     "end_time": "2021-05-03T20:50:43.808572Z",
     "start_time": "2021-05-03T20:50:43.802585Z"
    }
   },
   "outputs": [
    {
     "data": {
      "text/plain": [
       "array([20, 20, 20, 20, 20, 20, 20, 20, 20, 20, 20, 20, 20, 20, 20, 20, 20,\n",
       "       20, 20, 20, 20, 20, 20, 20, 20, 20, 20, 20, 20, 20, 20, 20, 20, 20,\n",
       "       20, 20, 20, 20, 20, 20, 20, 20, 20, 20, 20, 20, 20, 20, 20, 20])"
      ]
     },
     "execution_count": 11,
     "metadata": {},
     "output_type": "execute_result"
    }
   ],
   "source": [
    "# Escriba aquí su código\n",
    "v_veintes= np.full(50,20)\n",
    "v_veintes\n"
   ]
  },
  {
   "cell_type": "code",
   "execution_count": 12,
   "metadata": {
    "ExecuteTime": {
     "end_time": "2021-05-03T20:53:50.743356Z",
     "start_time": "2021-05-03T20:53:50.737371Z"
    }
   },
   "outputs": [
    {
     "data": {
      "text/plain": [
       "109.20164833920778"
      ]
     },
     "execution_count": 12,
     "metadata": {},
     "output_type": "execute_result"
    }
   ],
   "source": [
    "# Escriba aquí su código\n",
    "np.linalg.norm(v_veintes-v1)"
   ]
  },
  {
   "cell_type": "code",
   "execution_count": 13,
   "metadata": {
    "ExecuteTime": {
     "end_time": "2021-05-03T20:52:17.103824Z",
     "start_time": "2021-05-03T20:52:17.095843Z"
    }
   },
   "outputs": [
    {
     "data": {
      "text/plain": [
       "299.4995826374387"
      ]
     },
     "execution_count": 13,
     "metadata": {},
     "output_type": "execute_result"
    }
   ],
   "source": [
    "# Escriba aquí su código\n",
    "\n",
    "np.linalg.norm(v_veintes-v2)"
   ]
  },
  {
   "cell_type": "code",
   "execution_count": 14,
   "metadata": {
    "ExecuteTime": {
     "end_time": "2021-05-03T20:52:35.276521Z",
     "start_time": "2021-05-03T20:52:35.271534Z"
    }
   },
   "outputs": [
    {
     "data": {
      "text/plain": [
       "503.3140172894055"
      ]
     },
     "execution_count": 14,
     "metadata": {},
     "output_type": "execute_result"
    }
   ],
   "source": [
    "# Escriba aquí su código\n",
    "\n",
    "np.linalg.norm(v_veintes-v3)"
   ]
  },
  {
   "cell_type": "code",
   "execution_count": 15,
   "metadata": {
    "ExecuteTime": {
     "end_time": "2021-05-03T20:54:27.832201Z",
     "start_time": "2021-05-03T20:54:27.827214Z"
    }
   },
   "outputs": [
    {
     "data": {
      "text/plain": [
       "109.20164833920778"
      ]
     },
     "execution_count": 15,
     "metadata": {},
     "output_type": "execute_result"
    }
   ],
   "source": [
    "# Escriba aquí su código\n",
    "min_dist=np.linalg.norm(v_veintes-v1)\n",
    "min_dist"
   ]
  },
  {
   "cell_type": "code",
   "execution_count": 16,
   "metadata": {
    "ExecuteTime": {
     "end_time": "2021-05-03T20:55:18.063671Z",
     "start_time": "2021-05-03T20:55:18.058684Z"
    }
   },
   "outputs": [
    {
     "data": {
      "text/plain": [
       "503.3140172894055"
      ]
     },
     "execution_count": 16,
     "metadata": {},
     "output_type": "execute_result"
    }
   ],
   "source": [
    "# Escriba aquí su código\n",
    "nmax_dist=np.linalg.norm(v_veintes-v3)\n",
    "nmax_dist"
   ]
  },
  {
   "cell_type": "markdown",
   "metadata": {},
   "source": [
    "## Ej 6\n",
    "\n",
    "En álgebra se demuestra que el coseno del ángulo formado entre dos vectores puede calcularse a partir de la fórmula del producto interno de dos vectores:  \n",
    "\n",
    "$$ u * v = |u| |v| cos(\\alpha)$$  \n",
    "\n",
    "de donde podemos despejar que:  \n",
    "\n",
    "$$ cos(\\alpha) = \\frac {u * v}{|u| |v|}$$\n",
    "\n",
    "Siendo $ \\alpha$ el ángulo entre los vectores.  \n",
    "\n",
    "En base a lo anterior calcule el ángulo (en grados) formado entre:  \n",
    "\n",
    "- v1 y v2, llámelo alfa_12\n",
    "\n",
    "\n",
    "Nota: dado que la fórmula anterior le permite calcular el coseno del ángulo, deberá buscar cómo se calcula el arco coseno de un ángulo en Python!\n"
   ]
  },
  {
   "cell_type": "code",
   "execution_count": 17,
   "metadata": {
    "ExecuteTime": {
     "end_time": "2021-05-03T21:15:56.995907Z",
     "start_time": "2021-05-03T21:15:56.987929Z"
    }
   },
   "outputs": [
    {
     "data": {
      "text/plain": [
       "0.0"
      ]
     },
     "execution_count": 17,
     "metadata": {},
     "output_type": "execute_result"
    }
   ],
   "source": [
    "# Escriba aquí su código\n",
    "import math\n",
    "cos_alfa_12=(v1@v2/(mod_v1 * mod_v2))\n",
    "alfa_12=np.rad2deg(math.acos(cos_alfa_12))\n",
    "alfa_12"
   ]
  },
  {
   "cell_type": "code",
   "execution_count": 18,
   "metadata": {
    "ExecuteTime": {
     "end_time": "2021-05-03T21:13:51.373425Z",
     "start_time": "2021-05-03T21:13:51.365106Z"
    }
   },
   "outputs": [],
   "source": [
    "#Son paralelos"
   ]
  },
  {
   "cell_type": "code",
   "execution_count": 37,
   "metadata": {
    "ExecuteTime": {
     "end_time": "2021-05-03T21:07:19.690964Z",
     "start_time": "2021-05-03T21:07:19.685960Z"
    }
   },
   "outputs": [
    {
     "data": {
      "text/plain": [
       "85850.0"
      ]
     },
     "execution_count": 37,
     "metadata": {},
     "output_type": "execute_result"
    }
   ],
   "source": []
  },
  {
   "cell_type": "markdown",
   "metadata": {},
   "source": [
    "## Respuestas"
   ]
  },
  {
   "cell_type": "code",
   "execution_count": null,
   "metadata": {},
   "outputs": [],
   "source": []
  },
  {
   "cell_type": "code",
   "execution_count": null,
   "metadata": {},
   "outputs": [],
   "source": [
    "v1"
   ]
  },
  {
   "cell_type": "code",
   "execution_count": null,
   "metadata": {},
   "outputs": [],
   "source": [
    "v2"
   ]
  },
  {
   "cell_type": "code",
   "execution_count": null,
   "metadata": {},
   "outputs": [],
   "source": [
    "v3"
   ]
  },
  {
   "cell_type": "code",
   "execution_count": null,
   "metadata": {},
   "outputs": [],
   "source": [
    "mod_v1"
   ]
  },
  {
   "cell_type": "code",
   "execution_count": null,
   "metadata": {},
   "outputs": [],
   "source": [
    "mod_v2"
   ]
  },
  {
   "cell_type": "code",
   "execution_count": null,
   "metadata": {},
   "outputs": [],
   "source": [
    "mod_v3"
   ]
  },
  {
   "cell_type": "code",
   "execution_count": null,
   "metadata": {},
   "outputs": [],
   "source": [
    "v_veintes"
   ]
  },
  {
   "cell_type": "code",
   "execution_count": null,
   "metadata": {},
   "outputs": [],
   "source": [
    "min_dist"
   ]
  },
  {
   "cell_type": "code",
   "execution_count": null,
   "metadata": {},
   "outputs": [],
   "source": [
    "max_dist"
   ]
  },
  {
   "cell_type": "code",
   "execution_count": null,
   "metadata": {},
   "outputs": [],
   "source": [
    "alfa_12"
   ]
  },
  {
   "cell_type": "code",
   "execution_count": null,
   "metadata": {},
   "outputs": [],
   "source": []
  },
  {
   "cell_type": "code",
   "execution_count": null,
   "metadata": {},
   "outputs": [],
   "source": []
  },
  {
   "cell_type": "code",
   "execution_count": null,
   "metadata": {},
   "outputs": [],
   "source": []
  }
 ],
 "metadata": {
  "hide_input": false,
  "kernelspec": {
   "display_name": "Python 3",
   "language": "python",
   "name": "python3"
  },
  "language_info": {
   "codemirror_mode": {
    "name": "ipython",
    "version": 3
   },
   "file_extension": ".py",
   "mimetype": "text/x-python",
   "name": "python",
   "nbconvert_exporter": "python",
   "pygments_lexer": "ipython3",
   "version": "3.8.5"
  },
  "toc": {
   "base_numbering": 1,
   "nav_menu": {},
   "number_sections": true,
   "sideBar": true,
   "skip_h1_title": true,
   "title_cell": "Tabla de Contenidos",
   "title_sidebar": "Contenidos",
   "toc_cell": false,
   "toc_position": {},
   "toc_section_display": true,
   "toc_window_display": true
  },
  "varInspector": {
   "cols": {
    "lenName": 16,
    "lenType": 16,
    "lenVar": 40
   },
   "kernels_config": {
    "python": {
     "delete_cmd_postfix": "",
     "delete_cmd_prefix": "del ",
     "library": "var_list.py",
     "varRefreshCmd": "print(var_dic_list())"
    },
    "r": {
     "delete_cmd_postfix": ") ",
     "delete_cmd_prefix": "rm(",
     "library": "var_list.r",
     "varRefreshCmd": "cat(var_dic_list()) "
    }
   },
   "types_to_exclude": [
    "module",
    "function",
    "builtin_function_or_method",
    "instance",
    "_Feature"
   ],
   "window_display": false
  }
 },
 "nbformat": 4,
 "nbformat_minor": 5
}
