{
 "cells": [
  {
   "cell_type": "markdown",
   "metadata": {},
   "source": []
  },
  {
   "cell_type": "code",
   "execution_count": 1,
   "metadata": {
    "ExecuteTime": {
     "end_time": "2020-09-11T18:30:17.902500Z",
     "start_time": "2020-09-11T18:30:17.781799Z"
    }
   },
   "outputs": [],
   "source": [
    "import numpy as np"
   ]
  },
  {
   "cell_type": "markdown",
   "metadata": {
    "ExecuteTime": {
     "end_time": "2020-09-11T18:49:28.618586Z",
     "start_time": "2020-09-11T18:49:28.614595Z"
    }
   },
   "source": [
    "## EJERCICIOS PARA PRACTICAR \n",
    "correspondientes a las Clases 01 a 03."
   ]
  },
  {
   "cell_type": "markdown",
   "metadata": {},
   "source": [
    "### Cree una secuencia con todos los números enteros múltipos de 0 hasta el 100, llámela s1 "
   ]
  },
  {
   "cell_type": "code",
   "execution_count": 6,
   "metadata": {
    "ExecuteTime": {
     "end_time": "2020-09-11T18:31:31.641133Z",
     "start_time": "2020-09-11T18:31:31.629168Z"
    }
   },
   "outputs": [
    {
     "data": {
      "text/plain": [
       "array([  0,  10,  20,  30,  40,  50,  60,  70,  80,  90, 100])"
      ]
     },
     "execution_count": 6,
     "metadata": {},
     "output_type": "execute_result"
    }
   ],
   "source": [
    "# Escriba su código aquí\n",
    "s1=np.arange(0,101,10)\n",
    "s1"
   ]
  },
  {
   "cell_type": "markdown",
   "metadata": {},
   "source": [
    "### Cuántos elementos tiene?"
   ]
  },
  {
   "cell_type": "code",
   "execution_count": 8,
   "metadata": {
    "ExecuteTime": {
     "end_time": "2020-09-11T18:33:52.778418Z",
     "start_time": "2020-09-11T18:33:52.773434Z"
    }
   },
   "outputs": [
    {
     "data": {
      "text/plain": [
       "11"
      ]
     },
     "execution_count": 8,
     "metadata": {},
     "output_type": "execute_result"
    }
   ],
   "source": [
    "# Escriba su código aquí\n",
    "np.size(s1)"
   ]
  },
  {
   "cell_type": "markdown",
   "metadata": {},
   "source": [
    "### Utilice lo visto anteriormente para calcular cuántos numéros enteros múltiplos de 23 existen entre 0 y 15 millones."
   ]
  },
  {
   "cell_type": "code",
   "execution_count": 11,
   "metadata": {
    "ExecuteTime": {
     "end_time": "2020-09-11T18:36:03.500383Z",
     "start_time": "2020-09-11T18:36:03.493361Z"
    }
   },
   "outputs": [
    {
     "data": {
      "text/plain": [
       "652174"
      ]
     },
     "execution_count": 11,
     "metadata": {},
     "output_type": "execute_result"
    }
   ],
   "source": [
    "# Escriba su código aquí\n",
    "v1=np.arange(0,15000001,23)\n",
    "np.size(v1)"
   ]
  },
  {
   "cell_type": "markdown",
   "metadata": {},
   "source": [
    "### Cree la matriz M, esta matriz tiene 6 filas y 6 columnas y está formada por los números aleatorios enteros comprendidos entre -100 y 100 que se obtienen utilizando una semilla de valor 123. Luego calcule el determinante de dicha matriz."
   ]
  },
  {
   "cell_type": "code",
   "execution_count": 20,
   "metadata": {
    "ExecuteTime": {
     "end_time": "2020-09-11T18:43:04.382054Z",
     "start_time": "2020-09-11T18:43:04.376065Z"
    }
   },
   "outputs": [
    {
     "name": "stdout",
     "output_type": "stream",
     "text": [
      "[[  9  26 -34  -2 -83 -17]\n",
      " [  6  23 -43  -4  13  26]\n",
      " [-53 -27 -68  74  11  53]\n",
      " [-17 -22  64  -4 -32 -51]\n",
      " [-45  95 -98 -16 -61 -34]\n",
      " [-16 -53  89  76  35   5]]\n"
     ]
    },
    {
     "data": {
      "text/plain": [
       "-11801315701.999994"
      ]
     },
     "execution_count": 20,
     "metadata": {},
     "output_type": "execute_result"
    }
   ],
   "source": [
    "# Escriba su código aquí\n",
    "np.random.seed(123)\n",
    "M= np.random.randint(-100, 101, (6,6))\n",
    "print(M)\n",
    "Det=np.linalg.det(M)\n",
    "Det"
   ]
  },
  {
   "cell_type": "markdown",
   "metadata": {},
   "source": [
    "### Cuánto vale el elemento ubicado en la 2da fila y 3er columna?"
   ]
  },
  {
   "cell_type": "code",
   "execution_count": 21,
   "metadata": {
    "ExecuteTime": {
     "end_time": "2020-09-11T19:06:32.175159Z",
     "start_time": "2020-09-11T19:06:32.168179Z"
    }
   },
   "outputs": [
    {
     "data": {
      "text/plain": [
       "-43"
      ]
     },
     "execution_count": 21,
     "metadata": {},
     "output_type": "execute_result"
    }
   ],
   "source": [
    "# Escriba su código aquí\n",
    "M[1,2]"
   ]
  },
  {
   "cell_type": "markdown",
   "metadata": {},
   "source": [
    "### En qué posiciones de M los elementos son mayores que 0?"
   ]
  },
  {
   "cell_type": "code",
   "execution_count": 22,
   "metadata": {
    "ExecuteTime": {
     "end_time": "2020-09-11T18:44:53.550676Z",
     "start_time": "2020-09-11T18:44:53.545689Z"
    }
   },
   "outputs": [
    {
     "data": {
      "text/plain": [
       "array([[ True,  True, False, False, False, False],\n",
       "       [ True,  True, False, False,  True,  True],\n",
       "       [False, False, False,  True,  True,  True],\n",
       "       [False, False,  True, False, False, False],\n",
       "       [False,  True, False, False, False, False],\n",
       "       [False, False,  True,  True,  True,  True]])"
      ]
     },
     "execution_count": 22,
     "metadata": {},
     "output_type": "execute_result"
    }
   ],
   "source": [
    "# Escriba su código aquí\n",
    "M>0"
   ]
  },
  {
   "cell_type": "markdown",
   "metadata": {
    "ExecuteTime": {
     "end_time": "2020-09-11T18:46:00.179286Z",
     "start_time": "2020-09-11T18:46:00.173298Z"
    }
   },
   "source": [
    "### Ahora calcule \n",
    "\n",
    "sum(M>0)  \n",
    "\n",
    "e interprete el resultado"
   ]
  },
  {
   "cell_type": "code",
   "execution_count": 23,
   "metadata": {},
   "outputs": [
    {
     "data": {
      "text/plain": [
       "array([2, 3, 2, 2, 3, 3])"
      ]
     },
     "execution_count": 23,
     "metadata": {},
     "output_type": "execute_result"
    }
   ],
   "source": [
    "# Escriba aquí su código\n",
    "sum(M>0)\n"
   ]
  },
  {
   "cell_type": "markdown",
   "metadata": {},
   "source": [
    "Interpretación: El resultado que devuelve es un vector que indica cuantos True hay por cada columna. Es decir cuantas posiciones cumplen con la condicion de ser mayor a 0"
   ]
  },
  {
   "cell_type": "markdown",
   "metadata": {},
   "source": [
    "### En base a lo anterior, calcule cuántos elementos de M son mayores que 0"
   ]
  },
  {
   "cell_type": "code",
   "execution_count": 24,
   "metadata": {
    "ExecuteTime": {
     "end_time": "2020-09-11T18:49:12.657503Z",
     "start_time": "2020-09-11T18:49:12.652526Z"
    }
   },
   "outputs": [
    {
     "data": {
      "text/plain": [
       "15"
      ]
     },
     "execution_count": 24,
     "metadata": {},
     "output_type": "execute_result"
    }
   ],
   "source": [
    "# Escriba su código aquí\n",
    "\n",
    "sum(sum(M>0))"
   ]
  },
  {
   "cell_type": "markdown",
   "metadata": {},
   "source": [
    "### Calcule la inversa de M, llámela Minv"
   ]
  },
  {
   "cell_type": "code",
   "execution_count": 26,
   "metadata": {
    "ExecuteTime": {
     "end_time": "2020-09-11T18:51:16.589773Z",
     "start_time": "2020-09-11T18:51:16.583789Z"
    }
   },
   "outputs": [
    {
     "data": {
      "text/plain": [
       "array([[ 0.00567232, -0.15209764, -0.01189955, -0.09807115,  0.0094948 ,\n",
       "         0.0005678 ],\n",
       "       [ 0.00356053,  0.09779139, -0.007536  ,  0.04118487,  0.00169787,\n",
       "         0.01510337],\n",
       "       [ 0.00535678,  0.15178941, -0.00119136,  0.0840726 , -0.01295434,\n",
       "         0.01098753],\n",
       "       [ 0.00356338, -0.1129714 , -0.00469882, -0.07225267,  0.01452029,\n",
       "         0.01113511],\n",
       "       [-0.01516459, -0.1008491 , -0.00493096, -0.05994558,  0.01248359,\n",
       "        -0.00143263],\n",
       "       [ 0.0125311 ,  0.27113388,  0.00918477,  0.14409918, -0.02912547,\n",
       "         0.00710939]])"
      ]
     },
     "execution_count": 26,
     "metadata": {},
     "output_type": "execute_result"
    }
   ],
   "source": [
    "# Escriba su código aquí\n",
    "Minv=np.linalg.inv(M)\n",
    "Minv"
   ]
  },
  {
   "cell_type": "markdown",
   "metadata": {},
   "source": [
    "### Una propiedad de los determinantes dice que si multiplicamos el determinante de una matriz por el de su inversa, deberíamos obtener 1 por resultado. Verifíquelo."
   ]
  },
  {
   "cell_type": "code",
   "execution_count": 35,
   "metadata": {
    "ExecuteTime": {
     "end_time": "2020-09-11T18:53:27.838373Z",
     "start_time": "2020-09-11T18:53:27.832389Z"
    }
   },
   "outputs": [
    {
     "name": "stdout",
     "output_type": "stream",
     "text": [
      "-8.473631459842493e-11\n",
      "-11801315701.999994\n",
      "1.0000000000000033\n"
     ]
    }
   ],
   "source": [
    "# Escriba su código aquí\n",
    "\n",
    "Detinv=np.linalg.det(Minv)\n",
    "print (Detinv)\n",
    "print (Det)\n",
    "print (Det*Detinv)\n",
    "if (Det*Detinv)== 1:\n",
    "    print(\"Comprobado\")\n",
    "#No me da comprobado porque al final da 0033\n",
    "\n",
    "\n",
    "    "
   ]
  },
  {
   "cell_type": "markdown",
   "metadata": {},
   "source": [
    "### También sabemos que si multiplicamos una matriz por su inversa, deberíamos obtener la matriz identiad. Verifíquelo"
   ]
  },
  {
   "cell_type": "code",
   "execution_count": 37,
   "metadata": {
    "ExecuteTime": {
     "end_time": "2020-09-11T18:54:26.080750Z",
     "start_time": "2020-09-11T18:54:26.071775Z"
    }
   },
   "outputs": [
    {
     "data": {
      "text/plain": [
       "array([[ 5.10508990e-02, -3.95453866e+00,  4.04584751e-01,\n",
       "         1.96142294e-01, -7.88068257e-01, -9.65266186e-03],\n",
       "       [ 2.13631675e-02,  2.24920203e+00,  3.24047923e-01,\n",
       "        -1.64739488e-01,  2.20723542e-02,  3.92687564e-01],\n",
       "       [-2.83909268e-01, -4.09831395e+00,  8.10121834e-02,\n",
       "         6.22137272e+00, -1.42497787e-01,  5.82339178e-01],\n",
       "       [-6.05775171e-02,  2.48537079e+00, -3.00724625e-01,\n",
       "         2.89010664e-01, -4.64649428e-01, -5.67890413e-01],\n",
       "       [ 6.82406763e-01, -9.58066484e+00,  4.83233667e-01,\n",
       "         9.59129236e-01, -7.61498986e-01,  4.87093597e-02],\n",
       "       [-2.00497644e-01, -1.43700959e+01,  8.17444844e-01,\n",
       "         1.09515376e+01, -1.01939138e+00,  3.55469560e-02]])"
      ]
     },
     "execution_count": 37,
     "metadata": {},
     "output_type": "execute_result"
    }
   ],
   "source": [
    "# Escriba su código aquí\n",
    "Mat_id=(M*Minv)\n",
    "Mat_id"
   ]
  },
  {
   "cell_type": "markdown",
   "metadata": {},
   "source": [
    "Seguramente observó que las posiciones que deberían valer 0 dan valores como -5.22444512e-7 la última parte del número, e-7 indica que es por diez a la menos 7 es decir que el número es: -0.0000005244512 ... prácticamente el 0 que esperábamos. Acostúmbrese que con métodos numéricos los resultados serán siempre aproximados. "
   ]
  },
  {
   "cell_type": "code",
   "execution_count": null,
   "metadata": {},
   "outputs": [],
   "source": []
  },
  {
   "cell_type": "code",
   "execution_count": null,
   "metadata": {},
   "outputs": [],
   "source": []
  }
 ],
 "metadata": {
  "hide_input": false,
  "kernelspec": {
   "display_name": "Python 3",
   "language": "python",
   "name": "python3"
  },
  "language_info": {
   "codemirror_mode": {
    "name": "ipython",
    "version": 3
   },
   "file_extension": ".py",
   "mimetype": "text/x-python",
   "name": "python",
   "nbconvert_exporter": "python",
   "pygments_lexer": "ipython3",
   "version": "3.8.5"
  },
  "toc": {
   "base_numbering": 1,
   "nav_menu": {},
   "number_sections": true,
   "sideBar": true,
   "skip_h1_title": true,
   "title_cell": "Tabla de Contenidos",
   "title_sidebar": "Contenidos",
   "toc_cell": false,
   "toc_position": {},
   "toc_section_display": true,
   "toc_window_display": true
  }
 },
 "nbformat": 4,
 "nbformat_minor": 4
}
