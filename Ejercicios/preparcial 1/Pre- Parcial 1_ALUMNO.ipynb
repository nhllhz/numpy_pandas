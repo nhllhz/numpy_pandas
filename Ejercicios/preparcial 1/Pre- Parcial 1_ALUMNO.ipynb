{
 "cells": [
  {
   "cell_type": "markdown",
   "metadata": {},
   "source": [
    "![IES21](img/logo_ies.png)"
   ]
  },
  {
   "cell_type": "markdown",
   "metadata": {
    "ExecuteTime": {
     "end_time": "2019-09-27T20:21:36.851765Z",
     "start_time": "2019-09-27T20:21:36.847777Z"
    }
   },
   "source": [
    "# COMPUTACIÓN CIENTÍFICA\n",
    "## Práctica para el Parcial 1\n",
    "\n",
    "#### Prof. Ricardo Piña"
   ]
  },
  {
   "cell_type": "markdown",
   "metadata": {
    "ExecuteTime": {
     "end_time": "2019-09-27T17:50:49.760504Z",
     "start_time": "2019-09-27T17:50:49.754520Z"
    }
   },
   "source": [
    "En la carpeta data encontrará el archivo de Numpy *ratings_movie_lens.npy* con los datos correspondientes a clasificaciones de peliculas reales. "
   ]
  },
  {
   "cell_type": "code",
   "execution_count": 1,
   "metadata": {
    "ExecuteTime": {
     "end_time": "2021-05-10T21:50:32.334111Z",
     "start_time": "2021-05-10T21:50:32.330123Z"
    }
   },
   "outputs": [],
   "source": [
    "import numpy as np"
   ]
  },
  {
   "cell_type": "markdown",
   "metadata": {},
   "source": [
    "Cargue el array de datos ratings_movie_lens.npy en un array denominado calificaciones\n",
    "\n",
    "Numpy cuenta con \n",
    "\n",
    "np.load('path') \n",
    "\n",
    "para leer archivos con extensión .npy. \n",
    "\n",
    "El path puede ser absoluto o relativo a la ubicación del archivo desde el cual se ejecuta np.load(), generalmente ésta es la opción que se utiliza.\n",
    "\n",
    "En nuestro caso la disposición de los archivos es la siguiente:  \n",
    "\n",
    "\n",
    "su_carpeta ______\n",
    "                 |\n",
    "                 |__Preparcial_1ALUMNO\n",
    "                 |\n",
    "                 |__data___\n",
    "                           |\n",
    "                           |_ratings_movie_lens.npy\n",
    "                           \n",
    "                           \n",
    "Por lo cual el camino o path para acceder desde  este archivo, Preparcial_1ALUMNO hasta   ratings_movie_lens.npy es:\n",
    "\n",
    "'data/ratings_movie_lens.npy'\n",
    "                 "
   ]
  },
  {
   "cell_type": "code",
   "execution_count": 3,
   "metadata": {
    "ExecuteTime": {
     "end_time": "2021-05-10T21:51:46.480476Z",
     "start_time": "2021-05-10T21:51:46.462524Z"
    }
   },
   "outputs": [
    {
     "data": {
      "text/plain": [
       "array([[5., 3., 4., ..., 0., 0., 0.],\n",
       "       [4., 0., 0., ..., 0., 0., 0.],\n",
       "       [0., 0., 0., ..., 0., 0., 0.],\n",
       "       ...,\n",
       "       [5., 0., 0., ..., 0., 0., 0.],\n",
       "       [0., 0., 0., ..., 0., 0., 0.],\n",
       "       [0., 5., 0., ..., 0., 0., 0.]])"
      ]
     },
     "execution_count": 3,
     "metadata": {},
     "output_type": "execute_result"
    }
   ],
   "source": [
    "# Escriba aquí su código\n",
    "\n",
    "calificaciones=np.load('data/ratings_movie_lens.npy')\n",
    "calificaciones"
   ]
  },
  {
   "cell_type": "markdown",
   "metadata": {},
   "source": [
    "Muestre algunos elementos de calificaciones"
   ]
  },
  {
   "cell_type": "code",
   "execution_count": 3,
   "metadata": {
    "ExecuteTime": {
     "end_time": "2019-09-27T20:30:27.670268Z",
     "start_time": "2019-09-27T20:30:27.666305Z"
    }
   },
   "outputs": [],
   "source": [
    "# Escriba aquí su código\n"
   ]
  },
  {
   "cell_type": "markdown",
   "metadata": {},
   "source": [
    "Cada fila de *calificaciones* corresponde a un usuario y cada columna a una película reales.\n",
    "Cuántos usuarios hay y cuántas películas hay?\n",
    "- guarde el valor la cantidad de usuarios en la variable q_usuarios\n",
    "- guarde la cantidad de películas en la variable q_peliculas"
   ]
  },
  {
   "cell_type": "code",
   "execution_count": 6,
   "metadata": {
    "ExecuteTime": {
     "end_time": "2019-09-27T20:30:27.677251Z",
     "start_time": "2019-09-27T20:30:27.673260Z"
    }
   },
   "outputs": [
    {
     "data": {
      "text/plain": [
       "(943, 1682)"
      ]
     },
     "execution_count": 6,
     "metadata": {},
     "output_type": "execute_result"
    }
   ],
   "source": [
    "# Escriba aquí su código\n",
    "q_usuarios= calificaciones.shape[0]\n",
    "\n",
    "q_peliculas= calificaciones.shape[1]\n",
    "# Muestre la cantidad de usuarios y de películas\n",
    "q_usuarios, q_peliculas\n"
   ]
  },
  {
   "cell_type": "markdown",
   "metadata": {
    "ExecuteTime": {
     "end_time": "2019-09-27T17:56:55.805602Z",
     "start_time": "2019-09-27T17:56:55.799653Z"
    }
   },
   "source": [
    "Los valores van de 0 a 5:  \n",
    "- el 0 indica que no se ha calificado a la película, \n",
    "- luego las calificaciones son de 1 a 5 siendo el 5 la mejor calificación."
   ]
  },
  {
   "cell_type": "markdown",
   "metadata": {},
   "source": [
    "Cuántas calificaciones \"reales\" (distintas de cero) ha hecho cada usuario?\n",
    "Guarde el resultado en la variable q_calificaciones_reales"
   ]
  },
  {
   "cell_type": "code",
   "execution_count": 10,
   "metadata": {
    "ExecuteTime": {
     "end_time": "2019-09-27T20:30:27.683234Z",
     "start_time": "2019-09-27T20:30:27.679245Z"
    }
   },
   "outputs": [
    {
     "data": {
      "text/plain": [
       "100000"
      ]
     },
     "execution_count": 10,
     "metadata": {},
     "output_type": "execute_result"
    }
   ],
   "source": [
    "# Escriba aquí su código\n",
    "\n",
    "q_calificaciones_reales=np.sum(calificaciones>0)\n",
    "q_calificaciones_reales #todas\n"
   ]
  },
  {
   "cell_type": "code",
   "execution_count": 17,
   "metadata": {},
   "outputs": [
    {
     "data": {
      "text/plain": [
       "array([[ True,  True,  True, ..., False, False, False],\n",
       "       [ True, False, False, ..., False, False, False],\n",
       "       [False, False, False, ..., False, False, False],\n",
       "       ...,\n",
       "       [ True, False, False, ..., False, False, False],\n",
       "       [False, False, False, ..., False, False, False],\n",
       "       [False,  True, False, ..., False, False, False]])"
      ]
     },
     "execution_count": 17,
     "metadata": {},
     "output_type": "execute_result"
    }
   ],
   "source": [
    "calificacion_real=calificaciones>0\n",
    "calificacion_real"
   ]
  },
  {
   "cell_type": "code",
   "execution_count": 18,
   "metadata": {
    "ExecuteTime": {
     "end_time": "2019-09-27T20:30:27.690250Z",
     "start_time": "2019-09-27T20:30:27.685240Z"
    }
   },
   "outputs": [
    {
     "data": {
      "text/plain": [
       "array([272,  62,  54,  24, 175, 211, 403,  59,  22, 184, 181,  51, 636,\n",
       "        98, 104, 140,  28, 277,  20,  48, 179, 128, 151,  68,  78, 107,\n",
       "        25,  79,  34,  43,  36,  41,  24,  20,  25,  20,  57, 121,  22,\n",
       "        35,  52, 183, 221, 151,  48,  27,  25,  66, 215,  24,  23,  56,\n",
       "        28,  65,  21, 187, 106, 154, 382, 208,  21, 232,  93, 200,  80,\n",
       "        38,  30,  34,  65, 131,  38, 137,  66,  39,  79,  82,  72,  21,\n",
       "        55,  29,  58, 168, 155,  68, 288,  23, 211,  21,  76, 300,  98,\n",
       "       388,  20, 400, 278,  56,  63,  27, 136,  59,  67, 216,  29, 111,\n",
       "        23,  64,  22,  33, 234, 133,  24,  46,  51,  48,  92, 143,  86,\n",
       "        71, 181,  26,  74,  61,  54,  24, 182,  45,  23, 184,  30, 353,\n",
       "        30,  22,  26,  25,  55,  35,  47,  51,  24,  21, 107,  33,  20,\n",
       "       206, 316,  29,  20,  65,  36,  32, 307, 106,  23,  51,  22,  37,\n",
       "        51, 173, 107, 120,  58,  42,  23,  63,  30,  20,  69,  69,  37,\n",
       "        22,  28,  27,  43, 177,  38,  63, 115, 273,  42,  63, 435,  28,\n",
       "        53, 251,  48,  92,  56, 112, 187,  59,  27,  35, 121, 305,  96,\n",
       "        39, 118, 181,  40, 216, 386,  20,  43,  42,  22,  64, 230,  33,\n",
       "        33, 132,  37,  25, 126, 128,  93, 131,  76,  53,  28,  22, 146,\n",
       "       387, 105, 141,  27,  50,  58,  21,  30, 133,  21,  93, 110, 480,\n",
       "        94, 124,  48,  29, 159,  24,  23,  20,  81, 238,  22, 195,  26,\n",
       "        56, 161, 122,  77,  21,  97, 159,  83, 207,  57,  23,  46,  24,\n",
       "        27, 160, 123, 120,  46,  23, 185, 328, 323, 138, 278,  51,  22,\n",
       "        71,  95, 518,  54,  23, 434, 258,  26,  22,  53,  47,  32, 288,\n",
       "        62,  75,  27, 150, 296, 124, 388, 150, 196, 147, 192, 127, 280,\n",
       "        20, 275,  21, 484,  26, 222,  32, 112, 397,  20,  21, 294, 223,\n",
       "       262, 245,  87,  75,  22, 174,  23, 154, 125,  51,  89,  66, 142,\n",
       "       187, 284, 283,  65, 147,  70, 183,  26, 333,  22, 130,  34,  75,\n",
       "       254,  44,  21, 201, 237, 190, 232, 193, 199,  58,  41,  50,  44,\n",
       "        42,  25, 233,  26,  24,  76,  43,  27, 102, 121,  25, 311,  20,\n",
       "        58,  33,  58,  45,  22,  75,  51,  66, 233, 274,  28,  30,  33,\n",
       "       375, 196, 162, 127,  53,  71,  22, 281,  23, 304,  52, 271,  31,\n",
       "       121, 111, 448, 149,  57,  54, 102, 172, 319,  22, 153,  68,  50,\n",
       "        44, 737, 342, 226,  27, 203,  28,  58,  51,  50,  25,  24, 493,\n",
       "       365,  20,  32,  36,  62,  97,  64,  44, 204, 101,  31,  55, 414,\n",
       "        65,  21,  62,  41,  44, 379, 145, 263,  33,  31,  51,  20, 143,\n",
       "        24,  24, 135,  36, 139,  38,  75, 540,  98, 206, 156, 236, 189,\n",
       "       217, 277, 183, 118,  68,  23,  33, 133,  53,  80, 101,  44, 143,\n",
       "        43,  57,  31, 263,  35, 327,  20,  83,  35, 113, 202,  60,  56,\n",
       "        26,  59, 139,  26, 189, 231, 154, 109,  57,  33,  55, 135,  47,\n",
       "       213, 129, 279, 149, 102, 225,  73,  37, 160, 251, 112, 242,  58,\n",
       "        87,  33,  30,  24,  21,  22, 194,  40,  21,  37,  73,  49,  23,\n",
       "       150,  30, 100, 306,  54,  68, 137,  53,  43,  45,  30, 274, 260,\n",
       "        80, 218, 163, 490,  81,  56,  63, 133, 135, 197,  31, 162,  59,\n",
       "        23, 155,  25,  40, 334,  84, 100, 114,  52,  44,  53,  20,  76,\n",
       "       101, 357,  72,  30,  34,  35, 149, 155,  81,  70,  22,  20,  20,\n",
       "        51,  46,  26,  36, 188,  24,  74,  47,  28,  62,  27,  24,  80,\n",
       "       166,  98, 225,  43,  48,  84, 360, 156,  25,  96,  20,  41,  25,\n",
       "        47,  89, 148,  29,  47,  27,  90, 236,  37, 163,  28,  75,  42,\n",
       "        27,  28,  39, 103,  43, 108, 216,  89, 110, 171, 228,  45, 141,\n",
       "       106,  32, 181,  27, 121, 108,  20, 118,  58, 135,  34,  20, 104,\n",
       "        67, 148, 109,  40, 318, 206,  42, 122,  38,  58, 297,  24, 311,\n",
       "        21,  22, 283, 147, 685,  24,  29,  71, 191, 224, 121,  23, 158,\n",
       "       166, 142, 245,  47,  46, 100,  46, 124,  29,  35,  41,  34,  77,\n",
       "        49,  28,  62,  38,  22, 399,  75,  86,  20,  71,  21,  24,  36,\n",
       "       115,  32,  40, 154, 157,  38,  29, 105, 127, 149,  21,  33,  31,\n",
       "        47,  90, 114,  29, 236, 105, 138,  86, 221, 162,  30,  44, 167,\n",
       "       269,  93,  39,  67,  30, 168,  42,  22,  85,  25,  24, 322,  26,\n",
       "        21,  38,  83,  20, 107,  64,  53,  24,  33, 148,  35,  20, 104,\n",
       "        26,  35,  27,  60,  67, 293, 108, 305,  33, 168,  73,  57,  34,\n",
       "        38, 109, 166, 357,  32,  41,  66,  21, 129, 109,  23, 175,  37,\n",
       "        64,  29,  64,  70,  33, 161, 224,  28, 105,  36,  65,  37,  55,\n",
       "        42, 232,  30,  39,  27, 117,  57, 249,  33, 231,  25,  47,  55,\n",
       "        39, 159, 358,  26, 239,  24,  28,  26,  75,  33, 332, 273, 140,\n",
       "       204,  23,  20,  26,  21,  20,  29,  35, 183,  25,  36,  21,  28,\n",
       "        21,  62,  25, 185,  20, 145, 115,  28, 104,  64, 106,  73,  25,\n",
       "       267,  54, 102,  50,  46,  93,  57, 197,  31,  27, 204,  81,  31,\n",
       "       405, 146, 150,  23,  51, 209,  49,  41, 217,  23,  26,  22,  21,\n",
       "        39,  71,  43, 165, 107, 294,  66,  20,  95, 208,  47, 269, 115,\n",
       "        71,  20,  34,  89,  21,  81, 134,  29, 368, 259, 137, 268,  43,\n",
       "       102, 240, 171,  20, 326, 119,  47, 226,  59, 245,  20, 362, 185,\n",
       "        30, 135,  45, 124,  49, 136,  47,  40,  41, 147,  74,  26,  60,\n",
       "        98,  53, 132,  23,  26, 317,  35, 103, 217,  26, 110, 127,  74,\n",
       "        82,  32,  20, 120,  32,  49,  63,  61, 241, 184, 174,  39, 142,\n",
       "        40, 108,  49, 107,  22,  79, 168])"
      ]
     },
     "execution_count": 18,
     "metadata": {},
     "output_type": "execute_result"
    }
   ],
   "source": [
    "#Escriba aqui su código\n",
    "q_calificaciones_usuario= np.sum(calificacion_real, axis=1)\n",
    "q_calificaciones_usuario"
   ]
  },
  {
   "cell_type": "code",
   "execution_count": 22,
   "metadata": {
    "ExecuteTime": {
     "end_time": "2019-09-27T20:30:27.695216Z",
     "start_time": "2019-09-27T20:30:27.692215Z"
    }
   },
   "outputs": [
    {
     "data": {
      "text/plain": [
       "array([452, 131,  90, ...,   1,   1,   1])"
      ]
     },
     "execution_count": 22,
     "metadata": {},
     "output_type": "execute_result"
    }
   ],
   "source": [
    "#Escriba aqui su codigo\n",
    "q_calificaciones_peliculas= np.sum(calificacion_real, axis=0)\n",
    "q_calificaciones_peliculas"
   ]
  },
  {
   "cell_type": "code",
   "execution_count": 8,
   "metadata": {
    "ExecuteTime": {
     "end_time": "2019-09-27T20:30:27.704177Z",
     "start_time": "2019-09-27T20:30:27.699192Z"
    }
   },
   "outputs": [],
   "source": [
    "# q_calificaciones_reales"
   ]
  },
  {
   "cell_type": "markdown",
   "metadata": {},
   "source": [
    "Muestre la cantidad de calificaciones reales de los primeros 10 usuarios.\n",
    "Guarde este resultado en la variable q_users_10"
   ]
  },
  {
   "cell_type": "code",
   "execution_count": 26,
   "metadata": {
    "ExecuteTime": {
     "end_time": "2019-09-27T20:30:27.712158Z",
     "start_time": "2019-09-27T20:30:27.708168Z"
    }
   },
   "outputs": [
    {
     "data": {
      "text/plain": [
       "array([272,  62,  54,  24, 175, 211, 403,  59,  22, 184])"
      ]
     },
     "execution_count": 26,
     "metadata": {},
     "output_type": "execute_result"
    }
   ],
   "source": [
    "# Escriba aquí su código\n",
    "q_users_10= q_calificaciones_usuario[0:10]\n",
    "q_users_10"
   ]
  },
  {
   "cell_type": "markdown",
   "metadata": {},
   "source": [
    "En promedio cuántas películas ha calificado cada usuario?\n",
    "guarde el resultado en la variable q_promedio_pelis_xusuario"
   ]
  },
  {
   "cell_type": "code",
   "execution_count": 33,
   "metadata": {
    "ExecuteTime": {
     "end_time": "2019-09-27T20:30:27.718146Z",
     "start_time": "2019-09-27T20:30:27.715149Z"
    }
   },
   "outputs": [
    {
     "data": {
      "text/plain": [
       "106.04453870625663"
      ]
     },
     "execution_count": 33,
     "metadata": {},
     "output_type": "execute_result"
    }
   ],
   "source": [
    "# Escriba aquí su código\n",
    "q_promedio_pelis_xusuario=np.mean(q_calificaciones_usuario)\n",
    "q_promedio_pelis_xusuario"
   ]
  },
  {
   "cell_type": "markdown",
   "metadata": {},
   "source": [
    "Qué cantidad de calificaciones reales tiene cada una de las películas?"
   ]
  },
  {
   "cell_type": "code",
   "execution_count": 30,
   "metadata": {
    "ExecuteTime": {
     "end_time": "2019-09-27T20:30:27.726119Z",
     "start_time": "2019-09-27T20:30:27.721132Z"
    }
   },
   "outputs": [
    {
     "data": {
      "text/plain": [
       "array([452, 131,  90, ...,   1,   1,   1])"
      ]
     },
     "execution_count": 30,
     "metadata": {},
     "output_type": "execute_result"
    }
   ],
   "source": [
    "# Escriba aquí su código\n",
    "q_calificaciones_peliculas= np.sum(calificacion_real, axis=0)\n",
    "q_calificaciones_peliculas"
   ]
  },
  {
   "cell_type": "markdown",
   "metadata": {},
   "source": [
    "Muestre la cantidad de calificaciones reales de las primeras 10 películas.\n",
    "Guarde este resultado en la variable q_calif_10_pelis"
   ]
  },
  {
   "cell_type": "code",
   "execution_count": 32,
   "metadata": {
    "ExecuteTime": {
     "end_time": "2019-09-27T20:30:27.733099Z",
     "start_time": "2019-09-27T20:30:27.729111Z"
    }
   },
   "outputs": [
    {
     "data": {
      "text/plain": [
       "array([452, 131,  90, 209,  86,  26, 392, 219, 299,  89])"
      ]
     },
     "execution_count": 32,
     "metadata": {},
     "output_type": "execute_result"
    }
   ],
   "source": [
    "# Escriba aquí su código\n",
    "q_calif_10_pelis=q_calificaciones_peliculas[0:10]\n",
    "q_calif_10_pelis"
   ]
  },
  {
   "cell_type": "markdown",
   "metadata": {},
   "source": [
    "## Problema 1: Sistemas de Recomendación  con Promedio"
   ]
  },
  {
   "cell_type": "markdown",
   "metadata": {},
   "source": [
    "En este caso sencillamente deberá calcular la calificación promedio para cada una de las películas utilizando para ello las calificaciones válidas.  \n",
    "- Deberá indicar cuál es el valor del **mejor promedio** entre todas las películas, guardándolo en la variable best_mean_rating\n",
    "- y en qué número de columna se encuentra, guardando este valor en la varibale id_best_mean_rating"
   ]
  },
  {
   "cell_type": "code",
   "execution_count": 34,
   "metadata": {
    "ExecuteTime": {
     "end_time": "2019-09-27T20:30:27.740081Z",
     "start_time": "2019-09-27T20:30:27.735095Z"
    }
   },
   "outputs": [
    {
     "data": {
      "text/plain": [
       "array([[ 5.,  3.,  4., ..., nan, nan, nan],\n",
       "       [ 4., nan, nan, ..., nan, nan, nan],\n",
       "       [nan, nan, nan, ..., nan, nan, nan],\n",
       "       ...,\n",
       "       [ 5., nan, nan, ..., nan, nan, nan],\n",
       "       [nan, nan, nan, ..., nan, nan, nan],\n",
       "       [nan,  5., nan, ..., nan, nan, nan]])"
      ]
     },
     "execution_count": 34,
     "metadata": {},
     "output_type": "execute_result"
    }
   ],
   "source": [
    "# Escriba aquí su código\n",
    "sin_ceros=np.where(calificaciones==0,np.nan,calificaciones)\n",
    "sin_ceros"
   ]
  },
  {
   "cell_type": "code",
   "execution_count": 37,
   "metadata": {
    "ExecuteTime": {
     "end_time": "2019-09-27T20:30:27.746066Z",
     "start_time": "2019-09-27T20:30:27.742076Z"
    }
   },
   "outputs": [
    {
     "data": {
      "text/plain": [
       "array([3.87831858, 3.20610687, 3.03333333, ..., 2.        , 3.        ,\n",
       "       3.        ])"
      ]
     },
     "execution_count": 37,
     "metadata": {},
     "output_type": "execute_result"
    }
   ],
   "source": [
    "# Escriba aquí su código\n",
    "promedios_pelis=np.nanmean(sin_ceros,axis=0)\n",
    "promedios_pelis"
   ]
  },
  {
   "cell_type": "code",
   "execution_count": 38,
   "metadata": {
    "ExecuteTime": {
     "end_time": "2019-09-27T20:30:27.752049Z",
     "start_time": "2019-09-27T20:30:27.748060Z"
    }
   },
   "outputs": [
    {
     "data": {
      "text/plain": [
       "5.0"
      ]
     },
     "execution_count": 38,
     "metadata": {},
     "output_type": "execute_result"
    }
   ],
   "source": [
    "# Escriba aquí su código para obtener best_mean rating\n",
    "\n",
    "best_mean_rating=np.max(promedios_pelis)\n",
    "best_mean_rating"
   ]
  },
  {
   "cell_type": "code",
   "execution_count": 39,
   "metadata": {
    "ExecuteTime": {
     "end_time": "2019-09-27T20:30:27.757045Z",
     "start_time": "2019-09-27T20:30:27.754044Z"
    }
   },
   "outputs": [
    {
     "data": {
      "text/plain": [
       "813"
      ]
     },
     "execution_count": 39,
     "metadata": {},
     "output_type": "execute_result"
    }
   ],
   "source": [
    "# Escriba aquí su código\n",
    "\n",
    "id_best_mean_rating=np.argmax(promedios_pelis)\n",
    "id_best_mean_rating"
   ]
  },
  {
   "cell_type": "code",
   "execution_count": 17,
   "metadata": {
    "ExecuteTime": {
     "end_time": "2019-09-27T20:30:27.763021Z",
     "start_time": "2019-09-27T20:30:27.759030Z"
    }
   },
   "outputs": [],
   "source": []
  },
  {
   "cell_type": "markdown",
   "metadata": {},
   "source": [
    "Cuántas películas obtuvieron calificación promedio mayor o igual a 3?"
   ]
  },
  {
   "cell_type": "code",
   "execution_count": 42,
   "metadata": {
    "ExecuteTime": {
     "end_time": "2019-09-27T20:30:27.768006Z",
     "start_time": "2019-09-27T20:30:27.765014Z"
    }
   },
   "outputs": [
    {
     "data": {
      "text/plain": [
       "1054"
      ]
     },
     "execution_count": 42,
     "metadata": {},
     "output_type": "execute_result"
    }
   ],
   "source": [
    "# Escriba aquí su código\n",
    "np.sum(promedios_pelis>=3)\n"
   ]
  },
  {
   "cell_type": "markdown",
   "metadata": {
    "ExecuteTime": {
     "end_time": "2019-09-27T18:38:09.257326Z",
     "start_time": "2019-09-27T18:38:09.253336Z"
    }
   },
   "source": [
    "## REPORTE FINAL"
   ]
  },
  {
   "cell_type": "markdown",
   "metadata": {
    "ExecuteTime": {
     "end_time": "2019-09-27T18:50:40.449735Z",
     "start_time": "2019-09-27T18:50:40.443751Z"
    }
   },
   "source": [
    "Quite todos los comentarios a las celdas siguientes"
   ]
  },
  {
   "cell_type": "code",
   "execution_count": 27,
   "metadata": {
    "ExecuteTime": {
     "end_time": "2019-09-27T20:30:27.822861Z",
     "start_time": "2019-09-27T20:30:27.818871Z"
    }
   },
   "outputs": [],
   "source": [
    "# q_usuarios"
   ]
  },
  {
   "cell_type": "code",
   "execution_count": 28,
   "metadata": {
    "ExecuteTime": {
     "end_time": "2019-09-27T20:30:27.827847Z",
     "start_time": "2019-09-27T20:30:27.824855Z"
    }
   },
   "outputs": [],
   "source": [
    "# q_peliculas"
   ]
  },
  {
   "cell_type": "code",
   "execution_count": 29,
   "metadata": {
    "ExecuteTime": {
     "end_time": "2019-09-27T20:30:27.833831Z",
     "start_time": "2019-09-27T20:30:27.829843Z"
    }
   },
   "outputs": [],
   "source": [
    "# q_calificaciones_reales"
   ]
  },
  {
   "cell_type": "code",
   "execution_count": 30,
   "metadata": {
    "ExecuteTime": {
     "end_time": "2019-09-27T20:30:27.839815Z",
     "start_time": "2019-09-27T20:30:27.835826Z"
    }
   },
   "outputs": [],
   "source": [
    "# q_users_10"
   ]
  },
  {
   "cell_type": "code",
   "execution_count": 31,
   "metadata": {
    "ExecuteTime": {
     "end_time": "2019-09-27T20:30:27.845799Z",
     "start_time": "2019-09-27T20:30:27.841810Z"
    }
   },
   "outputs": [],
   "source": [
    "# q_promedio_pelis_xusuario"
   ]
  },
  {
   "cell_type": "code",
   "execution_count": 32,
   "metadata": {
    "ExecuteTime": {
     "end_time": "2019-09-27T20:30:27.850786Z",
     "start_time": "2019-09-27T20:30:27.847795Z"
    }
   },
   "outputs": [],
   "source": [
    "# q_calif_10_pelis"
   ]
  },
  {
   "cell_type": "markdown",
   "metadata": {},
   "source": [
    "### PROBLEMA 1"
   ]
  },
  {
   "cell_type": "code",
   "execution_count": 33,
   "metadata": {
    "ExecuteTime": {
     "end_time": "2019-09-27T20:30:27.856769Z",
     "start_time": "2019-09-27T20:30:27.852780Z"
    }
   },
   "outputs": [],
   "source": [
    "# best_mean_rating"
   ]
  },
  {
   "cell_type": "code",
   "execution_count": 34,
   "metadata": {
    "ExecuteTime": {
     "end_time": "2019-09-27T20:30:27.861756Z",
     "start_time": "2019-09-27T20:30:27.857766Z"
    }
   },
   "outputs": [],
   "source": [
    "# id_best_mean_rating"
   ]
  }
 ],
 "metadata": {
  "hide_input": false,
  "kernelspec": {
   "display_name": "Python 3",
   "language": "python",
   "name": "python3"
  },
  "language_info": {
   "codemirror_mode": {
    "name": "ipython",
    "version": 3
   },
   "file_extension": ".py",
   "mimetype": "text/x-python",
   "name": "python",
   "nbconvert_exporter": "python",
   "pygments_lexer": "ipython3",
   "version": "3.8.5"
  },
  "toc": {
   "base_numbering": 1,
   "nav_menu": {},
   "number_sections": true,
   "sideBar": true,
   "skip_h1_title": true,
   "title_cell": "Tabla de Contenidos",
   "title_sidebar": "Contenidos",
   "toc_cell": false,
   "toc_position": {
    "height": "calc(100% - 180px)",
    "left": "10px",
    "top": "150px",
    "width": "207.1px"
   },
   "toc_section_display": true,
   "toc_window_display": true
  },
  "varInspector": {
   "cols": {
    "lenName": 16,
    "lenType": 16,
    "lenVar": 40
   },
   "kernels_config": {
    "python": {
     "delete_cmd_postfix": "",
     "delete_cmd_prefix": "del ",
     "library": "var_list.py",
     "varRefreshCmd": "print(var_dic_list())"
    },
    "r": {
     "delete_cmd_postfix": ") ",
     "delete_cmd_prefix": "rm(",
     "library": "var_list.r",
     "varRefreshCmd": "cat(var_dic_list()) "
    }
   },
   "types_to_exclude": [
    "module",
    "function",
    "builtin_function_or_method",
    "instance",
    "_Feature"
   ],
   "window_display": false
  }
 },
 "nbformat": 4,
 "nbformat_minor": 2
}
