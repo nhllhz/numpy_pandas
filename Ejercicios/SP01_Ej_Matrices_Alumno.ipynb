{
 "cells": [
  {
   "cell_type": "markdown",
   "metadata": {},
   "source": [
    "# Ejercicios de arrays com Numpy"
   ]
  },
  {
   "cell_type": "markdown",
   "metadata": {},
   "source": [
    "## Ej1\n",
    "\n",
    "Cree una matriz M que tenga 10 filas y 10 columnas. La primer fila deben ser los números del 1 al 10, la segunda los números del 11 al 20 y así sucesivamente hasta que la décima fila deben ser los números del 91 hasta el 100.  \n",
    "\n",
    "Por supuesto que no la va a cargar \"manualmente\" elemento por elemento ... deberá pensar una forma que le abrevie el trabajo ..."
   ]
  },
  {
   "cell_type": "code",
   "execution_count": 1,
   "metadata": {
    "ExecuteTime": {
     "end_time": "2021-05-03T21:56:58.705620Z",
     "start_time": "2021-05-03T21:56:58.701629Z"
    }
   },
   "outputs": [],
   "source": [
    "# importe la librería Numpy\n",
    "import numpy as np"
   ]
  },
  {
   "cell_type": "code",
   "execution_count": 4,
   "metadata": {
    "ExecuteTime": {
     "end_time": "2021-05-03T21:58:09.201752Z",
     "start_time": "2021-05-03T21:58:09.195767Z"
    }
   },
   "outputs": [
    {
     "data": {
      "text/plain": [
       "array([  1,   2,   3,   4,   5,   6,   7,   8,   9,  10,  11,  12,  13,\n",
       "        14,  15,  16,  17,  18,  19,  20,  21,  22,  23,  24,  25,  26,\n",
       "        27,  28,  29,  30,  31,  32,  33,  34,  35,  36,  37,  38,  39,\n",
       "        40,  41,  42,  43,  44,  45,  46,  47,  48,  49,  50,  51,  52,\n",
       "        53,  54,  55,  56,  57,  58,  59,  60,  61,  62,  63,  64,  65,\n",
       "        66,  67,  68,  69,  70,  71,  72,  73,  74,  75,  76,  77,  78,\n",
       "        79,  80,  81,  82,  83,  84,  85,  86,  87,  88,  89,  90,  91,\n",
       "        92,  93,  94,  95,  96,  97,  98,  99, 100])"
      ]
     },
     "execution_count": 4,
     "metadata": {},
     "output_type": "execute_result"
    }
   ],
   "source": [
    "# Escriba aquí su código\n",
    "V_100=np.arange(1,101)\n",
    "V_100"
   ]
  },
  {
   "cell_type": "code",
   "execution_count": 5,
   "metadata": {
    "ExecuteTime": {
     "end_time": "2021-05-03T22:02:29.310755Z",
     "start_time": "2021-05-03T22:02:29.305769Z"
    }
   },
   "outputs": [
    {
     "data": {
      "text/plain": [
       "array([[  1,   2,   3,   4,   5,   6,   7,   8,   9,  10],\n",
       "       [ 11,  12,  13,  14,  15,  16,  17,  18,  19,  20],\n",
       "       [ 21,  22,  23,  24,  25,  26,  27,  28,  29,  30],\n",
       "       [ 31,  32,  33,  34,  35,  36,  37,  38,  39,  40],\n",
       "       [ 41,  42,  43,  44,  45,  46,  47,  48,  49,  50],\n",
       "       [ 51,  52,  53,  54,  55,  56,  57,  58,  59,  60],\n",
       "       [ 61,  62,  63,  64,  65,  66,  67,  68,  69,  70],\n",
       "       [ 71,  72,  73,  74,  75,  76,  77,  78,  79,  80],\n",
       "       [ 81,  82,  83,  84,  85,  86,  87,  88,  89,  90],\n",
       "       [ 91,  92,  93,  94,  95,  96,  97,  98,  99, 100]])"
      ]
     },
     "execution_count": 5,
     "metadata": {},
     "output_type": "execute_result"
    }
   ],
   "source": [
    "# Escriba aquí su código\n",
    "M_100=np.reshape(V_100,[10,10])\n",
    "M_100"
   ]
  },
  {
   "cell_type": "markdown",
   "metadata": {},
   "source": [
    "## Ej2\n",
    "Utilice un if para resolver el siguiente problema: Si el determinante de M es distinto de cero, entonces calcular la matriz inversa de M, si el determinante de M es cero imprima el mensaje \"No se puede calcular la inversa\"."
   ]
  },
  {
   "cell_type": "code",
   "execution_count": 7,
   "metadata": {
    "ExecuteTime": {
     "end_time": "2021-05-03T22:04:40.869522Z",
     "start_time": "2021-05-03T22:04:40.864537Z"
    }
   },
   "outputs": [
    {
     "name": "stdout",
     "output_type": "stream",
     "text": [
      "Inersa de la matriz: [[-5.63448427e+14  5.80276616e+14 -8.24866133e+13 -1.23590530e+11\n",
      "   5.58755451e+13  1.65220408e+14  1.96005322e+13 -1.08291643e+12\n",
      "   1.00756268e+13 -1.83907181e+14]\n",
      " [-7.32720305e+14  8.29599678e+14 -4.95547522e+13  2.50547885e+12\n",
      "   8.13481004e+13  9.40985468e+13 -1.11082775e+14 -5.18499799e+13\n",
      "  -5.66506864e+13 -5.69330476e+12]\n",
      " [ 1.86479826e+15 -1.92622785e+15  2.10056204e+14 -4.30953584e+12\n",
      "  -3.31564914e+14 -4.11493336e+14  7.00299574e+13  1.20389241e+14\n",
      "   3.50318128e+13  3.73290162e+14]\n",
      " [ 1.56605946e+15 -1.70008524e+15  1.03548453e+14 -2.86881536e+12\n",
      "  -1.65010893e+14 -2.01359275e+14  8.18026217e+13  1.06255327e+14\n",
      "  -2.89064712e+13  2.40564830e+14]\n",
      " [ 4.43198485e+15 -6.55389778e+15  3.33224829e+15 -8.85755511e+12\n",
      "  -3.35498488e+14 -2.14318183e+15 -3.48645939e+14  3.39249867e+14\n",
      "  -1.11616207e+14  1.39821480e+15]\n",
      " [-7.11406330e+15  9.35089372e+15 -3.59882829e+15  1.57253167e+13\n",
      "   7.50124093e+14  2.66260632e+15  3.07413557e+14 -5.84430857e+14\n",
      "   1.62441444e+14 -1.95188199e+15]\n",
      " [-3.11097210e+14  3.22360155e+14 -1.54184622e+14  1.40686285e+14\n",
      "   1.00147609e+14  2.69966748e+13 -5.19444965e+13 -2.01475097e+13\n",
      "   4.35720622e+13 -9.63889473e+13]\n",
      " [ 5.75385383e+14 -6.76776691e+14  2.73431071e+14 -1.41316863e+14\n",
      "   1.11329676e+13 -2.64228416e+14  4.45992069e+13  4.22985432e+13\n",
      "  -4.75171218e+13  1.82991920e+14]\n",
      " [-5.43829642e+15  7.57720632e+15 -3.30310316e+15 -1.29590492e+14\n",
      "   5.11642348e+14  2.36178767e+15  3.11442524e+14 -4.38391023e+14\n",
      "   1.63374300e+14 -1.61607207e+15]\n",
      " [ 5.72139772e+15 -7.80334893e+15  3.26887342e+15  1.28149772e+14\n",
      "  -6.78196369e+14 -2.29044675e+15 -3.23215188e+14  4.87709308e+14\n",
      "  -1.69804760e+14  1.65888179e+15]]\n"
     ]
    }
   ],
   "source": [
    "# Escriba aquí su código\n",
    "Det_M=np.linalg.det(M_100)\n",
    "if Det_M!=0:\n",
    "    inv_100=np.linalg.inv(M_100)\n",
    "    print (\"Inersa de la matriz:\", inv_100)\n",
    "else:\n",
    "    print(\"No se puede calcular la inversa\")"
   ]
  },
  {
   "cell_type": "markdown",
   "metadata": {},
   "source": [
    "## Ej3\n",
    "Cree una matriz de 5 filas y 5 columnas, sus elementos deben ser números enteros elegidos al azar entre 1 y 100 (utilice np.random.seed([123]) en la celda donde la calcule para que a todos nos dé el mismo resultado). Llame M1 a esta matriz:"
   ]
  },
  {
   "cell_type": "code",
   "execution_count": 20,
   "metadata": {
    "ExecuteTime": {
     "end_time": "2021-05-03T22:12:31.152615Z",
     "start_time": "2021-05-03T22:12:31.145633Z"
    }
   },
   "outputs": [
    {
     "data": {
      "text/plain": [
       "array([[52, 47,  8, 11, 22],\n",
       "       [51, 16, 86, 86, 14],\n",
       "       [10, 80, 76, 25, 45],\n",
       "       [62, 74, 46, 50, 13],\n",
       "       [29, 53, 85, 33, 59]])"
      ]
     },
     "execution_count": 20,
     "metadata": {},
     "output_type": "execute_result"
    }
   ],
   "source": [
    "np.random.seed([123]) \n",
    "M1=np.random.randint(1,100,(5,5))\n",
    "M1"
   ]
  },
  {
   "cell_type": "markdown",
   "metadata": {
    "ExecuteTime": {
     "end_time": "2021-05-03T22:12:52.185632Z",
     "start_time": "2021-05-03T22:12:52.179649Z"
    }
   },
   "source": [
    "## Ej4\n",
    "Utilice un if para resolver el siguiente problema: Si el determinante de M1 es distinto de cero, entonces calcular la matriz inversa de M1 (llámela M1_inv), si el deterinante de M1 es cero imprima el mensaje \"No se puede calcular la inversa\"."
   ]
  },
  {
   "cell_type": "code",
   "execution_count": 21,
   "metadata": {
    "ExecuteTime": {
     "end_time": "2021-05-03T22:14:43.404983Z",
     "start_time": "2021-05-03T22:14:43.400993Z"
    }
   },
   "outputs": [
    {
     "name": "stdout",
     "output_type": "stream",
     "text": [
      "Inersa de la matriz: [[-0.12350131 -0.08131269 -0.13543418  0.14444672  0.13681589]\n",
      " [ 0.03019506  0.01388782  0.04158222 -0.02431963 -0.04091128]\n",
      " [-0.23691937 -0.13482613 -0.20104797  0.23862152  0.22109951]\n",
      " [ 0.26790316  0.17162105  0.24393015 -0.28141548 -0.26466135]\n",
      " [ 0.22506004  0.12574136  0.18242569 -0.23552767 -0.18405079]]\n"
     ]
    }
   ],
   "source": [
    "# Escriba aquí su código\n",
    "Det_M=np.linalg.det(M1)\n",
    "if Det_M!=0:\n",
    "    M1_inv=np.linalg.inv(M1)\n",
    "    print (\"Inersa de la matriz:\", M1_inv)\n",
    "else:\n",
    "    print(\"No se puede calcular la inversa\")"
   ]
  },
  {
   "cell_type": "markdown",
   "metadata": {},
   "source": [
    "## Ej5\n",
    "\n",
    "Si todo lo anterior salió bien Ud ha calculado la inversa de M1, M1_inv. Ahora queremos multiplicar matricialmente M por su inversa para ver si realmente da por resultado la matriz identidad (es posible que los valores que deberían ser cero no figuren como ceros sino como valores muy muy pequeños ... esto es así porque Numpy utiliza algoritmos especiales para acelererar el cálculo de la inversa!): "
   ]
  },
  {
   "cell_type": "code",
   "execution_count": 24,
   "metadata": {
    "ExecuteTime": {
     "end_time": "2021-05-03T22:16:29.737656Z",
     "start_time": "2021-05-03T22:16:29.701750Z"
    }
   },
   "outputs": [
    {
     "data": {
      "text/plain": [
       "array([[ 1.00000000e+00,  0.00000000e+00, -3.55271368e-15,\n",
       "         2.66453526e-15,  8.88178420e-16],\n",
       "       [ 3.10862447e-15,  1.00000000e+00,  0.00000000e+00,\n",
       "         4.44089210e-16,  4.88498131e-15],\n",
       "       [-1.77635684e-15, -8.88178420e-16,  1.00000000e+00,\n",
       "        -1.77635684e-15,  0.00000000e+00],\n",
       "       [ 0.00000000e+00, -2.22044605e-16, -4.44089210e-16,\n",
       "         1.00000000e+00, -4.44089210e-16],\n",
       "       [ 0.00000000e+00,  1.77635684e-15,  0.00000000e+00,\n",
       "        -1.77635684e-15,  1.00000000e+00]])"
      ]
     },
     "execution_count": 24,
     "metadata": {},
     "output_type": "execute_result"
    }
   ],
   "source": [
    "# Escriba aquí su código\n",
    "M_I=M1@M1_inv\n",
    "M_I\n"
   ]
  },
  {
   "cell_type": "markdown",
   "metadata": {},
   "source": [
    "## Ej6  \n",
    "\n",
    "Ahora vamos a calcular M2 a partir de M1. Para obtener M2 deberemos cambiar algunos valores de M1 de la siguiente manera:  \n",
    "\n",
    "- Todos los elementos de M1 cuyo valor sean menores o iguales a 30 deberán ser cambiados por 0, todos los valores de M1 que sean mayores que  30 y menores o iguales que 60 deberán ser cambiados por 1, todos los restantes deberán quedar sin modificar.   \n",
    "\n",
    "Sugerencia: si está tentado por usar un par de for anidados \"clásicos\"... piense nuevamente ... hay algo (mucho) más fácil de usar en numpy ..."
   ]
  },
  {
   "cell_type": "code",
   "execution_count": 45,
   "metadata": {
    "ExecuteTime": {
     "end_time": "2021-05-03T22:22:39.921612Z",
     "start_time": "2021-05-03T22:22:39.915625Z"
    }
   },
   "outputs": [
    {
     "ename": "SystemError",
     "evalue": "<built-in function where> returned a result with an error set",
     "output_type": "error",
     "traceback": [
      "\u001b[1;31m---------------------------------------------------------------------------\u001b[0m",
      "\u001b[1;31mValueError\u001b[0m                                Traceback (most recent call last)",
      "\u001b[1;31mValueError\u001b[0m: The truth value of an array with more than one element is ambiguous. Use a.any() or a.all()",
      "\nThe above exception was the direct cause of the following exception:\n",
      "\u001b[1;31mValueError\u001b[0m                                Traceback (most recent call last)",
      "\u001b[1;31mValueError\u001b[0m: setting an array element with a sequence.",
      "\nThe above exception was the direct cause of the following exception:\n",
      "\u001b[1;31mSystemError\u001b[0m                               Traceback (most recent call last)",
      "\u001b[1;32m<ipython-input-45-a0437c27586e>\u001b[0m in \u001b[0;36m<module>\u001b[1;34m\u001b[0m\n\u001b[0;32m      1\u001b[0m \u001b[1;31m# Escriba aquí su código\u001b[0m\u001b[1;33m\u001b[0m\u001b[1;33m\u001b[0m\u001b[1;33m\u001b[0m\u001b[0m\n\u001b[1;32m----> 2\u001b[1;33m \u001b[0mM2\u001b[0m\u001b[1;33m=\u001b[0m\u001b[0mnp\u001b[0m\u001b[1;33m.\u001b[0m\u001b[0mwhere\u001b[0m\u001b[1;33m(\u001b[0m\u001b[1;33m(\u001b[0m\u001b[0mM1\u001b[0m\u001b[1;33m<=\u001b[0m\u001b[1;36m30\u001b[0m\u001b[1;33m,\u001b[0m\u001b[1;36m0\u001b[0m\u001b[1;33m,\u001b[0m\u001b[0mM1\u001b[0m\u001b[1;33m)\u001b[0m\u001b[1;33m,\u001b[0m\u001b[1;33m(\u001b[0m\u001b[0mM1\u001b[0m\u001b[1;33m>\u001b[0m\u001b[1;36m30\u001b[0m\u001b[1;33m,\u001b[0m\u001b[1;36m1\u001b[0m\u001b[1;33m,\u001b[0m\u001b[0mM1\u001b[0m\u001b[1;33m)\u001b[0m\u001b[1;33m,\u001b[0m\u001b[1;33m(\u001b[0m\u001b[0mM1\u001b[0m\u001b[1;33m<=\u001b[0m\u001b[1;36m60\u001b[0m\u001b[1;33m,\u001b[0m\u001b[1;36m1\u001b[0m\u001b[1;33m,\u001b[0m\u001b[0mM1\u001b[0m\u001b[1;33m)\u001b[0m\u001b[1;33m)\u001b[0m\u001b[1;33m\u001b[0m\u001b[1;33m\u001b[0m\u001b[0m\n\u001b[0m\u001b[0;32m      3\u001b[0m \u001b[1;33m\u001b[0m\u001b[0m\n\u001b[0;32m      4\u001b[0m \u001b[0mM1\u001b[0m\u001b[1;33m,\u001b[0m\u001b[0mM2\u001b[0m\u001b[1;33m\u001b[0m\u001b[1;33m\u001b[0m\u001b[0m\n",
      "\u001b[1;32m<__array_function__ internals>\u001b[0m in \u001b[0;36mwhere\u001b[1;34m(*args, **kwargs)\u001b[0m\n",
      "\u001b[1;31mSystemError\u001b[0m: <built-in function where> returned a result with an error set"
     ]
    }
   ],
   "source": [
    "# Escriba aquí su código\n",
    "M2=np.where((M1<=30,0,M1),(M1>30,1,M1),(M1<=60,1,M1))\n",
    "\n",
    "M1,M2"
   ]
  },
  {
   "cell_type": "markdown",
   "metadata": {},
   "source": [
    "# Respuestas"
   ]
  },
  {
   "cell_type": "code",
   "execution_count": 36,
   "metadata": {
    "ExecuteTime": {
     "end_time": "2021-05-03T22:24:20.897278Z",
     "start_time": "2021-05-03T22:24:20.892291Z"
    }
   },
   "outputs": [
    {
     "data": {
      "text/plain": [
       "array([[  1,   2,   3,   4,   5,   6,   7,   8,   9,  10],\n",
       "       [ 11,  12,  13,  14,  15,  16,  17,  18,  19,  20],\n",
       "       [ 21,  22,  23,  24,  25,  26,  27,  28,  29,  30],\n",
       "       [ 31,  32,  33,  34,  35,  36,  37,  38,  39,  40],\n",
       "       [ 41,  42,  43,  44,  45,  46,  47,  48,  49,  50],\n",
       "       [ 51,  52,  53,  54,  55,  56,  57,  58,  59,  60],\n",
       "       [ 61,  62,  63,  64,  65,  66,  67,  68,  69,  70],\n",
       "       [ 71,  72,  73,  74,  75,  76,  77,  78,  79,  80],\n",
       "       [ 81,  82,  83,  84,  85,  86,  87,  88,  89,  90],\n",
       "       [ 91,  92,  93,  94,  95,  96,  97,  98,  99, 100]])"
      ]
     },
     "execution_count": 36,
     "metadata": {},
     "output_type": "execute_result"
    }
   ],
   "source": [
    "M"
   ]
  },
  {
   "cell_type": "code",
   "execution_count": 24,
   "metadata": {
    "ExecuteTime": {
     "end_time": "2021-05-03T22:12:34.622093Z",
     "start_time": "2021-05-03T22:12:34.616107Z"
    }
   },
   "outputs": [
    {
     "data": {
      "text/plain": [
       "array([[52, 47,  8, 11, 22],\n",
       "       [51, 16, 86, 86, 14],\n",
       "       [10, 80, 76, 25, 45],\n",
       "       [62, 74, 46, 50, 13],\n",
       "       [29, 53, 85, 33, 59]])"
      ]
     },
     "execution_count": 24,
     "metadata": {},
     "output_type": "execute_result"
    }
   ],
   "source": [
    "M1"
   ]
  },
  {
   "cell_type": "code",
   "execution_count": 29,
   "metadata": {
    "ExecuteTime": {
     "end_time": "2021-05-03T22:14:57.289847Z",
     "start_time": "2021-05-03T22:14:57.282721Z"
    }
   },
   "outputs": [
    {
     "data": {
      "text/plain": [
       "array([[-0.12350131, -0.08131269, -0.13543418,  0.14444672,  0.13681589],\n",
       "       [ 0.03019506,  0.01388782,  0.04158222, -0.02431963, -0.04091128],\n",
       "       [-0.23691937, -0.13482613, -0.20104797,  0.23862152,  0.22109951],\n",
       "       [ 0.26790316,  0.17162105,  0.24393015, -0.28141548, -0.26466135],\n",
       "       [ 0.22506004,  0.12574136,  0.18242569, -0.23552767, -0.18405079]])"
      ]
     },
     "execution_count": 29,
     "metadata": {},
     "output_type": "execute_result"
    }
   ],
   "source": [
    "M1_inv"
   ]
  },
  {
   "cell_type": "code",
   "execution_count": 32,
   "metadata": {
    "ExecuteTime": {
     "end_time": "2021-05-03T22:17:52.376799Z",
     "start_time": "2021-05-03T22:17:52.372797Z"
    }
   },
   "outputs": [
    {
     "data": {
      "text/plain": [
       "array([[ 1.00000000e+00,  4.44089210e-16,  1.16573418e-15,\n",
       "        -2.77555756e-16,  1.55431223e-15],\n",
       "       [ 2.94209102e-15,  1.00000000e+00,  5.55111512e-17,\n",
       "        -5.38458167e-15, -1.11022302e-15],\n",
       "       [-2.69229083e-15, -4.44089210e-16,  1.00000000e+00,\n",
       "         2.58126853e-15,  2.33146835e-15],\n",
       "       [ 4.16333634e-16,  4.44089210e-16,  2.30371278e-15,\n",
       "         1.00000000e+00, -1.22124533e-15],\n",
       "       [ 6.93889390e-16, -1.33226763e-15, -7.49400542e-16,\n",
       "        -1.47104551e-15,  1.00000000e+00]])"
      ]
     },
     "execution_count": 32,
     "metadata": {},
     "output_type": "execute_result"
    }
   ],
   "source": [
    "M1@M1_inv"
   ]
  },
  {
   "cell_type": "code",
   "execution_count": 35,
   "metadata": {
    "ExecuteTime": {
     "end_time": "2021-05-03T22:22:59.294530Z",
     "start_time": "2021-05-03T22:22:59.289533Z"
    }
   },
   "outputs": [
    {
     "data": {
      "text/plain": [
       "array([[ 1,  1,  0,  0,  0],\n",
       "       [ 1,  0, 86, 86,  0],\n",
       "       [ 0, 80, 76,  0,  1],\n",
       "       [62, 74,  1,  1,  0],\n",
       "       [ 0,  1, 85,  1,  1]])"
      ]
     },
     "execution_count": 35,
     "metadata": {},
     "output_type": "execute_result"
    }
   ],
   "source": [
    "M2"
   ]
  },
  {
   "cell_type": "code",
   "execution_count": null,
   "metadata": {},
   "outputs": [],
   "source": []
  }
 ],
 "metadata": {
  "hide_input": false,
  "kernelspec": {
   "display_name": "Python 3",
   "language": "python",
   "name": "python3"
  },
  "language_info": {
   "codemirror_mode": {
    "name": "ipython",
    "version": 3
   },
   "file_extension": ".py",
   "mimetype": "text/x-python",
   "name": "python",
   "nbconvert_exporter": "python",
   "pygments_lexer": "ipython3",
   "version": "3.8.5"
  },
  "toc": {
   "base_numbering": 1,
   "nav_menu": {},
   "number_sections": true,
   "sideBar": true,
   "skip_h1_title": true,
   "title_cell": "Tabla de Contenidos",
   "title_sidebar": "Contenidos",
   "toc_cell": false,
   "toc_position": {},
   "toc_section_display": true,
   "toc_window_display": true
  },
  "varInspector": {
   "cols": {
    "lenName": 16,
    "lenType": 16,
    "lenVar": 40
   },
   "kernels_config": {
    "python": {
     "delete_cmd_postfix": "",
     "delete_cmd_prefix": "del ",
     "library": "var_list.py",
     "varRefreshCmd": "print(var_dic_list())"
    },
    "r": {
     "delete_cmd_postfix": ") ",
     "delete_cmd_prefix": "rm(",
     "library": "var_list.r",
     "varRefreshCmd": "cat(var_dic_list()) "
    }
   },
   "types_to_exclude": [
    "module",
    "function",
    "builtin_function_or_method",
    "instance",
    "_Feature"
   ],
   "window_display": false
  }
 },
 "nbformat": 4,
 "nbformat_minor": 5
}
