{
 "cells": [
  {
   "cell_type": "markdown",
   "metadata": {
    "toc": true
   },
   "source": [
    "<h1>Tabla de Contenidos<span class=\"tocSkip\"></span></h1>\n",
    "<div class=\"toc\"><ul class=\"toc-item\"><li><span><a href=\"#SITUACIÓN-PROFESIONAL-1\" data-toc-modified-id=\"SITUACIÓN-PROFESIONAL-1-1\"><span class=\"toc-item-num\">1&nbsp;&nbsp;</span>SITUACIÓN PROFESIONAL 1</a></span><ul class=\"toc-item\"><li><span><a href=\"#CLASE-2\" data-toc-modified-id=\"CLASE-2-1.1\"><span class=\"toc-item-num\">1.1&nbsp;&nbsp;</span>CLASE 2</a></span><ul class=\"toc-item\"><li><span><a href=\"#Prof.-Ricardo-Piña\" data-toc-modified-id=\"Prof.-Ricardo-Piña-1.1.1\"><span class=\"toc-item-num\">1.1.1&nbsp;&nbsp;</span>Prof. Ricardo Piña</a></span></li></ul></li></ul></li><li><span><a href=\"#Operaciones-elemento-a-elemento-o-element---wise-operations\" data-toc-modified-id=\"Operaciones-elemento-a-elemento-o-element---wise-operations-2\"><span class=\"toc-item-num\">2&nbsp;&nbsp;</span>Operaciones elemento a elemento o element - wise operations</a></span><ul class=\"toc-item\"><li><span><a href=\"#Cuidado:-element---wise-product\" data-toc-modified-id=\"Cuidado:-element---wise-product-2.1\"><span class=\"toc-item-num\">2.1&nbsp;&nbsp;</span>Cuidado: element - wise product</a></span></li><li><span><a href=\"#Nota:\" data-toc-modified-id=\"Nota:-2.2\"><span class=\"toc-item-num\">2.2&nbsp;&nbsp;</span>Nota:</a></span></li></ul></li><li><span><a href=\"#Operaciones-con-Matrices\" data-toc-modified-id=\"Operaciones-con-Matrices-3\"><span class=\"toc-item-num\">3&nbsp;&nbsp;</span>Operaciones con Matrices</a></span><ul class=\"toc-item\"><li><span><a href=\"#Producto-de-un-escalar-por-una-matriz\" data-toc-modified-id=\"Producto-de-un-escalar-por-una-matriz-3.1\"><span class=\"toc-item-num\">3.1&nbsp;&nbsp;</span>Producto de un escalar por una matriz</a></span></li><li><span><a href=\"#Suma-de-matrices\" data-toc-modified-id=\"Suma-de-matrices-3.2\"><span class=\"toc-item-num\">3.2&nbsp;&nbsp;</span>Suma de matrices</a></span></li><li><span><a href=\"#Producto-de-2-Matrices\" data-toc-modified-id=\"Producto-de-2-Matrices-3.3\"><span class=\"toc-item-num\">3.3&nbsp;&nbsp;</span>Producto de 2 Matrices</a></span></li><li><span><a href=\"#Producto-elemento-a-elemento-&quot;element-wise&quot;de-matrices\" data-toc-modified-id=\"Producto-elemento-a-elemento-&quot;element-wise&quot;de-matrices-3.4\"><span class=\"toc-item-num\">3.4&nbsp;&nbsp;</span>Producto elemento a elemento \"element wise\"de matrices</a></span></li><li><span><a href=\"#Inversa-de-una-Matriz\" data-toc-modified-id=\"Inversa-de-una-Matriz-3.5\"><span class=\"toc-item-num\">3.5&nbsp;&nbsp;</span>Inversa de una Matriz</a></span></li><li><span><a href=\"#Determinante-de-una-matriz\" data-toc-modified-id=\"Determinante-de-una-matriz-3.6\"><span class=\"toc-item-num\">3.6&nbsp;&nbsp;</span>Determinante de una matriz</a></span></li></ul></li><li><span><a href=\"#Selección-de-elementos-de-un-array-(vector,-matriz,-tensor)\" data-toc-modified-id=\"Selección-de-elementos-de-un-array-(vector,-matriz,-tensor)-4\"><span class=\"toc-item-num\">4&nbsp;&nbsp;</span>Selección de elementos de un array (vector, matriz, tensor)</a></span><ul class=\"toc-item\"><li><span><a href=\"#IMPORTANTE:\" data-toc-modified-id=\"IMPORTANTE:-4.1\"><span class=\"toc-item-num\">4.1&nbsp;&nbsp;</span>IMPORTANTE:</a></span></li><li><span><a href=\"#Uso-de-[-----]-con-vectores-o-arrays-de-un-solo-eje-(unidimensionales)\" data-toc-modified-id=\"Uso-de-[-----]-con-vectores-o-arrays-de-un-solo-eje-(unidimensionales)-4.2\"><span class=\"toc-item-num\">4.2&nbsp;&nbsp;</span>Uso de <strong>[     ]</strong> con vectores o arrays de un solo eje (unidimensionales)</a></span></li><li><span><a href=\"#Uso-de-:-con-vectores-o-arrays-de-un-solo-eje--(unidimensionales)\" data-toc-modified-id=\"Uso-de-:-con-vectores-o-arrays-de-un-solo-eje--(unidimensionales)-4.3\"><span class=\"toc-item-num\">4.3&nbsp;&nbsp;</span>Uso de : con vectores o arrays de un solo eje  (unidimensionales)</a></span></li><li><span><a href=\"#Uso-de-[-----]-con-matrices-o-arrays-de-2-ejes-(bidimensionales)\" data-toc-modified-id=\"Uso-de-[-----]-con-matrices-o-arrays-de-2-ejes-(bidimensionales)-4.4\"><span class=\"toc-item-num\">4.4&nbsp;&nbsp;</span>Uso de <strong>[     ]</strong> con matrices o arrays de 2 ejes (bidimensionales)</a></span></li></ul></li></ul></div>"
   ]
  },
  {
   "cell_type": "markdown",
   "metadata": {},
   "source": [
    "![IES21](img/logo_ies.png)"
   ]
  },
  {
   "cell_type": "markdown",
   "metadata": {},
   "source": [
    "# COMPUTACIÓN CIENTÍFICA\n",
    "## SITUACIÓN PROFESIONAL 1\n",
    "### CLASE 2\n",
    "#### Prof. Ricardo Piña"
   ]
  },
  {
   "cell_type": "markdown",
   "metadata": {},
   "source": [
    "# Algebra en Python: Numpy"
   ]
  },
  {
   "cell_type": "markdown",
   "metadata": {},
   "source": [
    "## Operaciones elemento a elemento o element - wise operations "
   ]
  },
  {
   "cell_type": "code",
   "execution_count": 2,
   "metadata": {
    "ExecuteTime": {
     "end_time": "2021-04-12T21:35:12.595778Z",
     "start_time": "2021-04-12T21:35:12.590792Z"
    }
   },
   "outputs": [],
   "source": [
    "import numpy as np\n",
    "u=np.array([1,2,3])\n",
    "v=np.array([2,0,-4])\n",
    "M=np.array([[3,1,-1,4],[2,5,1,2],[0,2,4,1]])"
   ]
  },
  {
   "cell_type": "markdown",
   "metadata": {},
   "source": [
    "Los arrays de NumPy también incluyen otras operaciones que no están definidas en álgebra, pero que pueden resultarnos de utilidad al programar. "
   ]
  },
  {
   "cell_type": "markdown",
   "metadata": {},
   "source": [
    "Por ejemplo, para calcular la potencia de un número en Python, por ejemplo  $ 5^2 $ se utiliza doble asterisco **  "
   ]
  },
  {
   "cell_type": "code",
   "execution_count": 3,
   "metadata": {
    "ExecuteTime": {
     "end_time": "2021-04-12T21:35:14.608742Z",
     "start_time": "2021-04-12T21:35:14.599776Z"
    }
   },
   "outputs": [
    {
     "data": {
      "text/plain": [
       "25"
      ]
     },
     "execution_count": 3,
     "metadata": {},
     "output_type": "execute_result"
    }
   ],
   "source": [
    "5**2"
   ]
  },
  {
   "cell_type": "code",
   "execution_count": 4,
   "metadata": {
    "ExecuteTime": {
     "end_time": "2021-04-12T21:35:22.333806Z",
     "start_time": "2021-04-12T21:35:22.327823Z"
    }
   },
   "outputs": [
    {
     "data": {
      "text/plain": [
       "125"
      ]
     },
     "execution_count": 4,
     "metadata": {},
     "output_type": "execute_result"
    }
   ],
   "source": [
    "5**3"
   ]
  },
  {
   "cell_type": "markdown",
   "metadata": {},
   "source": [
    "También se puede utilizar la función pow(base, potencia)"
   ]
  },
  {
   "cell_type": "code",
   "execution_count": 125,
   "metadata": {
    "ExecuteTime": {
     "end_time": "2020-09-04T20:56:44.542887Z",
     "start_time": "2020-09-04T20:56:44.537432Z"
    }
   },
   "outputs": [
    {
     "data": {
      "text/plain": [
       "8"
      ]
     },
     "execution_count": 125,
     "metadata": {},
     "output_type": "execute_result"
    }
   ],
   "source": [
    "pow(2,3)"
   ]
  },
  {
   "cell_type": "markdown",
   "metadata": {},
   "source": [
    "NumPy permite aplicar esta operación de potenciación a __todos los elementos de un vector (o de un array en general)__  \n",
    "$$ u^2 $$ es decir $$(1,2,3)^2 $$ y efectuará la operación: \n",
    "$$ (1^2,2^2,3^2) $$"
   ]
  },
  {
   "cell_type": "code",
   "execution_count": 7,
   "metadata": {
    "ExecuteTime": {
     "end_time": "2021-04-12T21:37:12.278840Z",
     "start_time": "2021-04-12T21:37:12.272821Z"
    }
   },
   "outputs": [
    {
     "name": "stdout",
     "output_type": "stream",
     "text": [
      "u=  [1 2 3]\n"
     ]
    },
    {
     "data": {
      "text/plain": [
       "array([1, 4, 9], dtype=int32)"
      ]
     },
     "execution_count": 7,
     "metadata": {},
     "output_type": "execute_result"
    }
   ],
   "source": [
    "print(\"u= \", u)\n",
    "u**2"
   ]
  },
  {
   "cell_type": "markdown",
   "metadata": {},
   "source": [
    "El mismo concepto se aplica a operaciones como:  \n",
    "\n",
    "- raíz cuadrada: np.sqrt()\n",
    "- funciones trigonométricas como sin(), cos(), tan()\n",
    "- exponenciales"
   ]
  },
  {
   "cell_type": "code",
   "execution_count": 66,
   "metadata": {
    "ExecuteTime": {
     "end_time": "2020-09-04T20:51:30.874896Z",
     "start_time": "2020-09-04T20:51:30.867953Z"
    }
   },
   "outputs": [
    {
     "name": "stdout",
     "output_type": "stream",
     "text": [
      "[1 2 3]\n"
     ]
    },
    {
     "data": {
      "text/plain": [
       "array([1.        , 1.41421356, 1.73205081])"
      ]
     },
     "execution_count": 66,
     "metadata": {},
     "output_type": "execute_result"
    }
   ],
   "source": [
    "print(u)\n",
    "np.sqrt(u)"
   ]
  },
  {
   "cell_type": "code",
   "execution_count": 67,
   "metadata": {
    "ExecuteTime": {
     "end_time": "2020-09-04T20:51:30.886800Z",
     "start_time": "2020-09-04T20:51:30.879361Z"
    }
   },
   "outputs": [
    {
     "name": "stdout",
     "output_type": "stream",
     "text": [
      "[1 2 3]\n"
     ]
    },
    {
     "data": {
      "text/plain": [
       "array([0.84147098, 0.90929743, 0.14112001])"
      ]
     },
     "execution_count": 67,
     "metadata": {},
     "output_type": "execute_result"
    }
   ],
   "source": [
    "print(u)\n",
    "np.sin(u)      # por defecto toma los ángulos en radianes"
   ]
  },
  {
   "cell_type": "code",
   "execution_count": 68,
   "metadata": {
    "ExecuteTime": {
     "end_time": "2020-09-04T20:51:30.896721Z",
     "start_time": "2020-09-04T20:51:30.890273Z"
    }
   },
   "outputs": [
    {
     "name": "stdout",
     "output_type": "stream",
     "text": [
      "[1 2 3]\n"
     ]
    },
    {
     "data": {
      "text/plain": [
       "array([ 0.54030231, -0.41614684, -0.9899925 ])"
      ]
     },
     "execution_count": 68,
     "metadata": {},
     "output_type": "execute_result"
    }
   ],
   "source": [
    "print(u)\n",
    "np.cos(u)      # por defecto toma los ángulos en radianes"
   ]
  },
  {
   "cell_type": "code",
   "execution_count": 69,
   "metadata": {
    "ExecuteTime": {
     "end_time": "2020-09-04T20:51:30.906640Z",
     "start_time": "2020-09-04T20:51:30.899697Z"
    },
    "scrolled": true
   },
   "outputs": [
    {
     "name": "stdout",
     "output_type": "stream",
     "text": [
      "[1 2 3]\n"
     ]
    },
    {
     "data": {
      "text/plain": [
       "array([ 1.55740772, -2.18503986, -0.14254654])"
      ]
     },
     "execution_count": 69,
     "metadata": {},
     "output_type": "execute_result"
    }
   ],
   "source": [
    "print(u)\n",
    "np.tan(u)      # por defecto toma los ángulos en radianes"
   ]
  },
  {
   "cell_type": "markdown",
   "metadata": {},
   "source": [
    "Ahora veremos la función exponencial de un vector:\n",
    "\n",
    "$ e^u$  donde e=2,718182..."
   ]
  },
  {
   "cell_type": "code",
   "execution_count": 70,
   "metadata": {
    "ExecuteTime": {
     "end_time": "2020-09-04T20:51:30.916064Z",
     "start_time": "2020-09-04T20:51:30.909122Z"
    }
   },
   "outputs": [
    {
     "name": "stdout",
     "output_type": "stream",
     "text": [
      "[1 2 3]\n"
     ]
    },
    {
     "data": {
      "text/plain": [
       "array([ 2.71828183,  7.3890561 , 20.08553692])"
      ]
     },
     "execution_count": 70,
     "metadata": {},
     "output_type": "execute_result"
    }
   ],
   "source": [
    "print(u)\n",
    "np.exp(u)      "
   ]
  },
  {
   "cell_type": "code",
   "execution_count": 71,
   "metadata": {
    "ExecuteTime": {
     "end_time": "2020-09-04T20:51:30.925984Z",
     "start_time": "2020-09-04T20:51:30.919041Z"
    }
   },
   "outputs": [
    {
     "name": "stdout",
     "output_type": "stream",
     "text": [
      "[1 2 3]\n"
     ]
    },
    {
     "data": {
      "text/plain": [
       "array([2, 4, 8], dtype=int32)"
      ]
     },
     "execution_count": 71,
     "metadata": {},
     "output_type": "execute_result"
    }
   ],
   "source": [
    "print(u)\n",
    "2**u      "
   ]
  },
  {
   "cell_type": "markdown",
   "metadata": {},
   "source": [
    "### Cuidado: element - wise product "
   ]
  },
  {
   "cell_type": "markdown",
   "metadata": {},
   "source": [
    "Por ejemplo en álgebra no está definida la operación de \"producto de dos vectores\", pero en NumPy sí podemos multiplicarlos:"
   ]
  },
  {
   "cell_type": "markdown",
   "metadata": {},
   "source": [
    "Recordemos quiénes son u y v y veamos qué hace NumPy cuando los multiplicamos:"
   ]
  },
  {
   "cell_type": "code",
   "execution_count": 72,
   "metadata": {
    "ExecuteTime": {
     "end_time": "2020-09-04T20:51:31.452736Z",
     "start_time": "2020-09-04T20:51:31.447279Z"
    }
   },
   "outputs": [
    {
     "name": "stdout",
     "output_type": "stream",
     "text": [
      "[1 2 3]\n",
      "[ 2  0 -4]\n",
      "[  2   0 -12]\n"
     ]
    }
   ],
   "source": [
    "print(u)\n",
    "print(v)\n",
    "\n",
    "print(u*v)"
   ]
  },
  {
   "cell_type": "markdown",
   "metadata": {},
   "source": [
    "Observamos que el resultado es otro vector, cuyas componentes surgen de multiplicar componente a componente ambos vectores. "
   ]
  },
  {
   "cell_type": "markdown",
   "metadata": {},
   "source": [
    "### Nota:\n",
    "Si hubiera tenido que crear la función que calculara cualquiera de las operaciones anteriores sin NumPy, seguramente hubiera tenido que realizar un loop sobre los elementos del array. Computacionalmente los loops son costosos y si existe una función definida en NumPy que realiza la operación es **preferente** utilizarla, ya que en general están optimizadas. Además de ganar legibilidad en el código, mejoraremos los tiempos de ejecución!"
   ]
  },
  {
   "cell_type": "markdown",
   "metadata": {},
   "source": [
    "## Operaciones con Matrices"
   ]
  },
  {
   "cell_type": "markdown",
   "metadata": {},
   "source": [
    "### Producto de un escalar por una matriz"
   ]
  },
  {
   "cell_type": "markdown",
   "metadata": {},
   "source": [
    "Se procede de la misma manera que en el producto de una escalar por un vector.  \n",
    "Obtenga 5 M"
   ]
  },
  {
   "cell_type": "code",
   "execution_count": 3,
   "metadata": {
    "ExecuteTime": {
     "end_time": "2021-04-12T22:16:09.528090Z",
     "start_time": "2021-04-12T22:16:09.524143Z"
    }
   },
   "outputs": [
    {
     "data": {
      "text/plain": [
       "array([[15,  5, -5, 20],\n",
       "       [10, 25,  5, 10],\n",
       "       [ 0, 10, 20,  5]])"
      ]
     },
     "execution_count": 3,
     "metadata": {},
     "output_type": "execute_result"
    }
   ],
   "source": [
    "# Escriba aquí su código\n",
    "import numpy as np\n",
    "M=np.array([[3,1,-1,4],[2,5,1,2],[0,2,4,1]])\n",
    "5*M"
   ]
  },
  {
   "cell_type": "markdown",
   "metadata": {},
   "source": [
    "### Suma de matrices"
   ]
  },
  {
   "cell_type": "markdown",
   "metadata": {},
   "source": [
    "Se procede de la misma manera que para la suma de vectores\n",
    "\n",
    "Cree la matriz $$N=\\begin{bmatrix} 1 & -2 & 3 & 0\\\\ 0 & 2 & 1 & -2\\\\ 1 & 2 & 0 & 1 \\end{bmatrix}$$  \n",
    "\n",
    "y obtenga luego, M+N"
   ]
  },
  {
   "cell_type": "code",
   "execution_count": 4,
   "metadata": {
    "ExecuteTime": {
     "end_time": "2020-09-04T20:51:32.648097Z",
     "start_time": "2020-09-04T20:51:32.644625Z"
    }
   },
   "outputs": [
    {
     "data": {
      "text/plain": [
       "array([[ 4, -1,  2,  4],\n",
       "       [ 2,  7,  2,  0],\n",
       "       [ 1,  4,  4,  2]])"
      ]
     },
     "execution_count": 4,
     "metadata": {},
     "output_type": "execute_result"
    }
   ],
   "source": [
    "# Escriba aquí su código\n",
    "N=np.array([[1,-2,3,0],[0,2,1,-2],[1,2,0,1]])\n",
    "M+N"
   ]
  },
  {
   "cell_type": "markdown",
   "metadata": {},
   "source": [
    "### Producto de 2 Matrices"
   ]
  },
  {
   "cell_type": "markdown",
   "metadata": {},
   "source": [
    "> CUIDADO:para calcular el producto **algebraico** de 2 matrices debe efectuar el **producto punto o producto interno entre ellas** de la misma manera que se hace el producto punto o interno entre vectores (puede usar np.dot() o @ ) no use el *!.\n",
    "\n"
   ]
  },
  {
   "cell_type": "markdown",
   "metadata": {},
   "source": [
    "Cree la matriz $$P=\\begin{bmatrix} 2 & 1 & 0 \\\\ 1 & 1 & 3 \\end{bmatrix}$$  "
   ]
  },
  {
   "cell_type": "code",
   "execution_count": 5,
   "metadata": {
    "ExecuteTime": {
     "end_time": "2020-09-04T20:51:33.212545Z",
     "start_time": "2020-09-04T20:51:33.208576Z"
    }
   },
   "outputs": [
    {
     "data": {
      "text/plain": [
       "array([[2, 1, 0],\n",
       "       [1, 1, 3]])"
      ]
     },
     "execution_count": 5,
     "metadata": {},
     "output_type": "execute_result"
    }
   ],
   "source": [
    "# Escriba aquí su código\n",
    "P=np.array([[2,1,0],[1,1,3]])\n",
    "P"
   ]
  },
  {
   "cell_type": "markdown",
   "metadata": {},
   "source": [
    "Imprima N para que la tengamos presente:"
   ]
  },
  {
   "cell_type": "code",
   "execution_count": 7,
   "metadata": {},
   "outputs": [
    {
     "data": {
      "text/plain": [
       "array([[ 1, -2,  3,  0],\n",
       "       [ 0,  2,  1, -2],\n",
       "       [ 1,  2,  0,  1]])"
      ]
     },
     "execution_count": 7,
     "metadata": {},
     "output_type": "execute_result"
    }
   ],
   "source": [
    "N"
   ]
  },
  {
   "cell_type": "markdown",
   "metadata": {},
   "source": [
    "Ahora efectúe el producto P . N"
   ]
  },
  {
   "cell_type": "code",
   "execution_count": 8,
   "metadata": {
    "ExecuteTime": {
     "end_time": "2020-09-04T20:51:33.540909Z",
     "start_time": "2020-09-04T20:51:33.537921Z"
    }
   },
   "outputs": [
    {
     "data": {
      "text/plain": [
       "array([[ 2, -2,  7, -2],\n",
       "       [ 4,  6,  4,  1]])"
      ]
     },
     "execution_count": 8,
     "metadata": {},
     "output_type": "execute_result"
    }
   ],
   "source": [
    "# Escriba aquí su código\n",
    "np.dot(P,N)"
   ]
  },
  {
   "cell_type": "code",
   "execution_count": 9,
   "metadata": {
    "ExecuteTime": {
     "end_time": "2020-09-04T20:51:33.548832Z",
     "start_time": "2020-09-04T20:51:33.544370Z"
    }
   },
   "outputs": [
    {
     "data": {
      "text/plain": [
       "array([[ 2, -2,  7, -2],\n",
       "       [ 4,  6,  4,  1]])"
      ]
     },
     "execution_count": 9,
     "metadata": {},
     "output_type": "execute_result"
    }
   ],
   "source": [
    "# Escriba aquí su código\n",
    "P@N"
   ]
  },
  {
   "cell_type": "markdown",
   "metadata": {},
   "source": [
    "También podría hacerse con el símbolo @"
   ]
  },
  {
   "cell_type": "code",
   "execution_count": 78,
   "metadata": {
    "ExecuteTime": {
     "end_time": "2020-09-04T20:51:33.713008Z",
     "start_time": "2020-09-04T20:51:33.710045Z"
    }
   },
   "outputs": [],
   "source": [
    "# Escriba aquí su código\n"
   ]
  },
  {
   "cell_type": "markdown",
   "metadata": {},
   "source": [
    "Verifique que hizo la operación correcta.\n",
    "Qué pasaría si efectuara el producto NP?"
   ]
  },
  {
   "cell_type": "code",
   "execution_count": 79,
   "metadata": {
    "ExecuteTime": {
     "end_time": "2020-09-04T20:51:33.902480Z",
     "start_time": "2020-09-04T20:51:33.899009Z"
    }
   },
   "outputs": [],
   "source": [
    "# Escriba aquí su código\n",
    "# np.dot(N,P)\n",
    "# después comente su línea de código\n",
    "import numpy as np\n",
    "N=np.array([[1,-2,3,0],[0,2,1,-2],[1,2,0,1]])\n",
    "P=np.array([[2,1,0],[1,1,3]])\n",
    "N@P #AL intentar hacer la operacion punto de N y P no se puede ya que algebraicamente es inaplicable,\n",
    "#esto es porque la cantidad de columnas de N no coincide con la catidad de filas de P"
   ]
  },
  {
   "cell_type": "markdown",
   "metadata": {},
   "source": [
    "### Producto elemento a elemento \"element wise\"de matrices"
   ]
  },
  {
   "cell_type": "markdown",
   "metadata": {
    "ExecuteTime": {
     "end_time": "2020-04-13T21:33:30.929882Z",
     "start_time": "2020-04-13T21:33:30.923900Z"
    }
   },
   "source": [
    "Si efectuamos el producto con el *, el producto será elemento a elemento. \n",
    "\n",
    "Calcule M*N y verifíque lo dicho."
   ]
  },
  {
   "cell_type": "code",
   "execution_count": 10,
   "metadata": {
    "ExecuteTime": {
     "end_time": "2020-09-04T20:51:34.253665Z",
     "start_time": "2020-09-04T20:51:34.250673Z"
    }
   },
   "outputs": [
    {
     "data": {
      "text/plain": [
       "array([[ 3, -2, -3,  0],\n",
       "       [ 0, 10,  1, -4],\n",
       "       [ 0,  4,  0,  1]])"
      ]
     },
     "execution_count": 10,
     "metadata": {},
     "output_type": "execute_result"
    }
   ],
   "source": [
    "# Escriba aquí su código\n",
    "#M*N\n",
    "M*N"
   ]
  },
  {
   "cell_type": "code",
   "execution_count": 11,
   "metadata": {
    "ExecuteTime": {
     "end_time": "2020-09-04T20:51:34.264560Z",
     "start_time": "2020-09-04T20:51:34.260592Z"
    }
   },
   "outputs": [
    {
     "data": {
      "text/plain": [
       "array([[ 3, -2, -3,  0],\n",
       "       [ 0, 10,  1, -4],\n",
       "       [ 0,  4,  0,  1]])"
      ]
     },
     "execution_count": 11,
     "metadata": {},
     "output_type": "execute_result"
    }
   ],
   "source": [
    "# Escriba aquí su código\n",
    "#N*M\n",
    "N*M"
   ]
  },
  {
   "cell_type": "markdown",
   "metadata": {},
   "source": [
    "Las operaciones de potencia ** y de exponencial y trigonométricas funcionan de la misma manera que con los vectores, es decir se efectúan elemento a elemento:"
   ]
  },
  {
   "cell_type": "markdown",
   "metadata": {},
   "source": [
    "Calcule $$ P^2$$"
   ]
  },
  {
   "cell_type": "code",
   "execution_count": 12,
   "metadata": {
    "ExecuteTime": {
     "end_time": "2021-04-12T21:29:25.184892Z",
     "start_time": "2021-04-12T21:29:25.180865Z"
    }
   },
   "outputs": [
    {
     "name": "stdout",
     "output_type": "stream",
     "text": [
      "[[2 1 0]\n",
      " [1 1 3]]\n"
     ]
    }
   ],
   "source": [
    "print(P)"
   ]
  },
  {
   "cell_type": "code",
   "execution_count": 13,
   "metadata": {
    "ExecuteTime": {
     "end_time": "2020-09-04T20:51:34.654417Z",
     "start_time": "2020-09-04T20:51:34.644Z"
    }
   },
   "outputs": [
    {
     "data": {
      "text/plain": [
       "array([[4, 1, 0],\n",
       "       [1, 1, 9]], dtype=int32)"
      ]
     },
     "execution_count": 13,
     "metadata": {},
     "output_type": "execute_result"
    }
   ],
   "source": [
    "# Escriba aquí su código\n",
    "P**2"
   ]
  },
  {
   "cell_type": "markdown",
   "metadata": {},
   "source": [
    "Calcule $$ 2^P$$"
   ]
  },
  {
   "cell_type": "code",
   "execution_count": 14,
   "metadata": {
    "ExecuteTime": {
     "end_time": "2020-09-04T20:51:34.843394Z",
     "start_time": "2020-09-04T20:51:34.840418Z"
    }
   },
   "outputs": [
    {
     "data": {
      "text/plain": [
       "array([[4, 2, 1],\n",
       "       [2, 2, 8]], dtype=int32)"
      ]
     },
     "execution_count": 14,
     "metadata": {},
     "output_type": "execute_result"
    }
   ],
   "source": [
    "# Escriba aquí su código\n",
    "2**P\n"
   ]
  },
  {
   "cell_type": "markdown",
   "metadata": {},
   "source": [
    "Calcule $$ e^P$$"
   ]
  },
  {
   "cell_type": "code",
   "execution_count": 15,
   "metadata": {
    "ExecuteTime": {
     "end_time": "2020-09-04T20:51:35.022450Z",
     "start_time": "2020-09-04T20:51:35.018977Z"
    }
   },
   "outputs": [
    {
     "data": {
      "text/plain": [
       "array([[ 7.3890561 ,  2.71828183,  1.        ],\n",
       "       [ 2.71828183,  2.71828183, 20.08553692]])"
      ]
     },
     "execution_count": 15,
     "metadata": {},
     "output_type": "execute_result"
    }
   ],
   "source": [
    "# Escriba aquí su código\n",
    "np.exp(P)"
   ]
  },
  {
   "cell_type": "markdown",
   "metadata": {},
   "source": [
    "### Inversa de una Matriz"
   ]
  },
  {
   "cell_type": "markdown",
   "metadata": {},
   "source": [
    "Para obtener la inversa de una matriz, debemos recurrir al paquete de Álgebra Lineal  \n",
    "\n",
    "**linalg** ,  \n",
    "\n",
    "la sintaxis sería:  \n",
    "\n",
    "**np.linalg.inv(Matriz_Cuadrada)**"
   ]
  },
  {
   "cell_type": "markdown",
   "metadata": {},
   "source": [
    "Cree la matriz cuadrada Q:\n",
    "\n",
    "$$Q=\\begin{bmatrix} 2 & 1  \\\\ 1 & 2  \\end{bmatrix}$$  "
   ]
  },
  {
   "cell_type": "code",
   "execution_count": 16,
   "metadata": {
    "ExecuteTime": {
     "end_time": "2020-09-04T20:51:35.575503Z",
     "start_time": "2020-09-04T20:51:35.573022Z"
    }
   },
   "outputs": [
    {
     "data": {
      "text/plain": [
       "array([[2, 1],\n",
       "       [1, 2]])"
      ]
     },
     "execution_count": 16,
     "metadata": {},
     "output_type": "execute_result"
    }
   ],
   "source": [
    "# Escriba aquí su código\n",
    "Q=np.array([[2,1],[1,2]])\n",
    "Q"
   ]
  },
  {
   "cell_type": "markdown",
   "metadata": {},
   "source": [
    "Ahora calcula la matriz inversa de Q, es decir $$ Q^-1 $$"
   ]
  },
  {
   "cell_type": "code",
   "execution_count": 17,
   "metadata": {
    "ExecuteTime": {
     "end_time": "2020-09-04T20:51:35.746112Z",
     "start_time": "2020-09-04T20:51:35.742642Z"
    }
   },
   "outputs": [
    {
     "data": {
      "text/plain": [
       "array([[ 0.66666667, -0.33333333],\n",
       "       [-0.33333333,  0.66666667]])"
      ]
     },
     "execution_count": 17,
     "metadata": {},
     "output_type": "execute_result"
    }
   ],
   "source": [
    "# Escriba aquí su código\n",
    "np.linalg.inv(Q)"
   ]
  },
  {
   "cell_type": "markdown",
   "metadata": {},
   "source": [
    "### Determinante de una matriz"
   ]
  },
  {
   "cell_type": "markdown",
   "metadata": {},
   "source": [
    "Para obtener el determinante  de una matriz, debemos recurrir al paquete de Álgebra Lineal  \n",
    "\n",
    "**linalg** ,  \n",
    "\n",
    "la sintaxis sería:  \n",
    "\n",
    "**np.linalg.det(Matriz_Cuadrada)**"
   ]
  },
  {
   "cell_type": "markdown",
   "metadata": {},
   "source": [
    "Cree la matriz cuadrada R:\n",
    "\n",
    "$$R=\\begin{bmatrix} 3 & 2  \\\\ 1 & 5  \\end{bmatrix}$$  "
   ]
  },
  {
   "cell_type": "code",
   "execution_count": 22,
   "metadata": {
    "ExecuteTime": {
     "end_time": "2020-09-04T20:51:36.361153Z",
     "start_time": "2020-09-04T20:51:36.358177Z"
    }
   },
   "outputs": [
    {
     "data": {
      "text/plain": [
       "array([[3, 2],\n",
       "       [1, 5]])"
      ]
     },
     "execution_count": 22,
     "metadata": {},
     "output_type": "execute_result"
    }
   ],
   "source": [
    "# Escriba aquí su código\n",
    "R=np.array([[3,2],[1,5]])\n",
    "R"
   ]
  },
  {
   "cell_type": "markdown",
   "metadata": {},
   "source": [
    "Calcule el determinante de R"
   ]
  },
  {
   "cell_type": "code",
   "execution_count": 23,
   "metadata": {
    "ExecuteTime": {
     "end_time": "2020-09-04T20:51:36.558561Z",
     "start_time": "2020-09-04T20:51:36.555088Z"
    }
   },
   "outputs": [
    {
     "data": {
      "text/plain": [
       "13.0"
      ]
     },
     "execution_count": 23,
     "metadata": {},
     "output_type": "execute_result"
    }
   ],
   "source": [
    "# Escriba aquí su código\n",
    "\n",
    "np.linalg.det(R)\n"
   ]
  },
  {
   "cell_type": "markdown",
   "metadata": {
    "ExecuteTime": {
     "end_time": "2020-03-30T03:50:24.061600Z",
     "start_time": "2020-03-30T03:50:24.056615Z"
    }
   },
   "source": [
    "Calcule el determinante de Q"
   ]
  },
  {
   "cell_type": "code",
   "execution_count": 21,
   "metadata": {},
   "outputs": [
    {
     "data": {
      "text/plain": [
       "2.9999999999999996"
      ]
     },
     "execution_count": 21,
     "metadata": {},
     "output_type": "execute_result"
    }
   ],
   "source": [
    "np.linalg.det(Q)"
   ]
  },
  {
   "cell_type": "markdown",
   "metadata": {},
   "source": [
    "## Selección de elementos de un array (vector, matriz, tensor)"
   ]
  },
  {
   "cell_type": "markdown",
   "metadata": {},
   "source": [
    "### IMPORTANTE: \n",
    "lo primero que debemos saber al respecto es que en Python **los elementos de una secuencia se comienzan a enumerar o _indexar_ desde 0, no desde 1**.  \n",
    "\n",
    "Esto significa que **el primer elemento de una secuencia ocupa la posición 0**\n",
    "\n",
    "Así por ejemplo si tenemos el vector $$ w=(a,b,c) $$  \n",
    "su **primer elemento es $a$** y ocupa la **posicion 0** dentro del vector $w$"
   ]
  },
  {
   "cell_type": "markdown",
   "metadata": {},
   "source": [
    "Lo mismo ocurre para las matrices u otros arreglos. \n",
    "\n",
    "Por ejemplo en la matriz \n",
    "$$M=\\begin{bmatrix} 3 & 1 & -1 & 4\\\\ 2 & 5 & 1 & 2\\\\ 0 & 2 & 4 & 1 \\end{bmatrix}$$\n",
    "\n",
    "Las filas (y también las columnas) se enumeran desde 0.   \n",
    "Es decir que la primer fila es la fila 0:  \n",
    "$$fila \\, 0=\\begin{bmatrix} 3 & 1 & -1 & 4 \\end{bmatrix}$$  \n",
    "Y la columna 0 es: \n",
    "$$columna\\, 0=\\begin{bmatrix} 3 \\\\ 2 \\\\ 0  \\end{bmatrix}$$  \n",
    "\n",
    "El 3 es \"primer elemento de la matriz\" y ocupa la posición (0,0): fila 0 y columna 0.\n"
   ]
  },
  {
   "cell_type": "markdown",
   "metadata": {},
   "source": [
    "### Uso de **[     ]** con vectores o arrays de un solo eje (unidimensionales)"
   ]
  },
  {
   "cell_type": "markdown",
   "metadata": {},
   "source": [
    "Para acceder a una posición dentro de un array se utilizan los corchetes \n",
    "\n",
    "**[ posición del elemento en cada eje separado por comas ]**  \n",
    "\n",
    "Así por ejemplo si deseamos acceder al primer elemento de un vector como u=(1,2,3), como u tiene sólo un eje bastará escribir:  \n",
    "u[0]"
   ]
  },
  {
   "cell_type": "code",
   "execution_count": 129,
   "metadata": {
    "ExecuteTime": {
     "end_time": "2020-09-04T21:30:11.358411Z",
     "start_time": "2020-09-04T21:30:11.352954Z"
    }
   },
   "outputs": [
    {
     "data": {
      "text/plain": [
       "1"
      ]
     },
     "execution_count": 129,
     "metadata": {},
     "output_type": "execute_result"
    }
   ],
   "source": [
    "u[0]"
   ]
  },
  {
   "cell_type": "markdown",
   "metadata": {},
   "source": [
    "Obtenga el tercer elemento del vector u"
   ]
  },
  {
   "cell_type": "code",
   "execution_count": 25,
   "metadata": {
    "ExecuteTime": {
     "end_time": "2021-04-12T22:36:02.479883Z",
     "start_time": "2021-04-12T22:36:02.472890Z"
    }
   },
   "outputs": [
    {
     "data": {
      "text/plain": [
       "3"
      ]
     },
     "execution_count": 25,
     "metadata": {},
     "output_type": "execute_result"
    }
   ],
   "source": [
    "# Escibra aquí su código\n",
    "u=np.array([1,2,3])\n",
    "u[2]"
   ]
  },
  {
   "cell_type": "markdown",
   "metadata": {},
   "source": [
    "Vamos a cargar un vector un poco más largo para que se pongan de manifiesto algunas características:  \n",
    "\n",
    "$$ w=(10,20,30,40,50,60,70,80,90,100)$$\n"
   ]
  },
  {
   "cell_type": "code",
   "execution_count": 27,
   "metadata": {
    "ExecuteTime": {
     "end_time": "2021-04-12T22:37:33.797134Z",
     "start_time": "2021-04-12T22:37:33.789156Z"
    }
   },
   "outputs": [],
   "source": [
    "# Escriba aquí su código para crear el vector w \n",
    "\n",
    "w=np.array([10,20,30,40,50,60,70,80,90,100])\n",
    "# muéstrelo\n"
   ]
  },
  {
   "cell_type": "code",
   "execution_count": 28,
   "metadata": {
    "ExecuteTime": {
     "end_time": "2021-04-12T22:38:00.941144Z",
     "start_time": "2021-04-12T22:38:00.936166Z"
    }
   },
   "outputs": [
    {
     "data": {
      "text/plain": [
       "10"
      ]
     },
     "execution_count": 28,
     "metadata": {},
     "output_type": "execute_result"
    }
   ],
   "source": [
    "# Obtenga el primer elemento\n",
    "w[0]"
   ]
  },
  {
   "cell_type": "code",
   "execution_count": 30,
   "metadata": {
    "ExecuteTime": {
     "end_time": "2021-04-12T22:38:27.357425Z",
     "start_time": "2021-04-12T22:38:27.351441Z"
    }
   },
   "outputs": [
    {
     "data": {
      "text/plain": [
       "40"
      ]
     },
     "execution_count": 30,
     "metadata": {},
     "output_type": "execute_result"
    }
   ],
   "source": [
    "# Obtenga el cuarto elemento\n",
    "w[3]"
   ]
  },
  {
   "cell_type": "code",
   "execution_count": 31,
   "metadata": {
    "ExecuteTime": {
     "end_time": "2021-04-12T22:38:50.782539Z",
     "start_time": "2021-04-12T22:38:50.777553Z"
    }
   },
   "outputs": [
    {
     "data": {
      "text/plain": [
       "100"
      ]
     },
     "execution_count": 31,
     "metadata": {},
     "output_type": "execute_result"
    }
   ],
   "source": [
    "# Obtenga el décimo elemento\n",
    "w[9]"
   ]
  },
  {
   "cell_type": "markdown",
   "metadata": {},
   "source": [
    "### Uso de : con vectores o arrays de un solo eje  (unidimensionales)"
   ]
  },
  {
   "cell_type": "markdown",
   "metadata": {},
   "source": [
    "Como ya estará pensando, debería haber alguna forma de poder obtener varios elementos juntos, por ejemplo los primeros 5 elementos o cosas por el estilo.   \n",
    "Para ésto se utilizan los dos puntos **:**\n",
    "\n",
    "Observe cómo funcionan los **:** con nuestro conocido vector  \n",
    "\n",
    "$$ w=(10,20,30,40,50,60,70,80,90,100)$$"
   ]
  },
  {
   "cell_type": "code",
   "execution_count": 32,
   "metadata": {
    "ExecuteTime": {
     "end_time": "2021-04-12T22:40:05.653454Z",
     "start_time": "2021-04-12T22:40:05.647473Z"
    }
   },
   "outputs": [
    {
     "data": {
      "text/plain": [
       "array([30, 40, 50])"
      ]
     },
     "execution_count": 32,
     "metadata": {},
     "output_type": "execute_result"
    }
   ],
   "source": [
    "w[2:5]"
   ]
  },
  {
   "cell_type": "markdown",
   "metadata": {},
   "source": [
    "Como puede observar w[2:5] , devolvió los elementos con índices 2,3,y 4.  \n",
    "Observe que **no** incluyó al elemento con índice 5. \n",
    "\n",
    "Podríamos pensarlo así:  \n",
    "\n",
    "w[ desde este índice : hasta este índice pero **SIN** incluírlo ]\n"
   ]
  },
  {
   "cell_type": "markdown",
   "metadata": {},
   "source": [
    "Le recuerdo quién era w  \n",
    "\n",
    "$$ w=(10,20,30,40,50,60,70,80,90,100)$$\n",
    "\n",
    "Escriba el código que devuelva [ 60,70,80,90 ]"
   ]
  },
  {
   "cell_type": "code",
   "execution_count": 33,
   "metadata": {
    "ExecuteTime": {
     "end_time": "2021-04-12T22:43:18.488471Z",
     "start_time": "2021-04-12T22:43:18.482489Z"
    }
   },
   "outputs": [
    {
     "data": {
      "text/plain": [
       "array([60, 70, 80, 90])"
      ]
     },
     "execution_count": 33,
     "metadata": {},
     "output_type": "execute_result"
    }
   ],
   "source": [
    "# Escriba aquí su código:\n",
    "w[5:9]\n"
   ]
  },
  {
   "cell_type": "markdown",
   "metadata": {},
   "source": [
    "Otro, por las dudas ...\n",
    "Escriba el código que devuelva [20,30,40,50,60]"
   ]
  },
  {
   "cell_type": "code",
   "execution_count": 34,
   "metadata": {
    "ExecuteTime": {
     "end_time": "2021-04-12T22:45:33.889769Z",
     "start_time": "2021-04-12T22:45:33.884768Z"
    }
   },
   "outputs": [
    {
     "data": {
      "text/plain": [
       "array([20, 30, 40, 50, 60])"
      ]
     },
     "execution_count": 34,
     "metadata": {},
     "output_type": "execute_result"
    }
   ],
   "source": [
    "# Escriba aquí su código:\n",
    "w[1:6]"
   ]
  },
  {
   "cell_type": "markdown",
   "metadata": {},
   "source": [
    "Si se omite el valor \"desde\" asume que es desde el índice 0, es decir desde el primer elemento.\n"
   ]
  },
  {
   "cell_type": "code",
   "execution_count": 98,
   "metadata": {
    "ExecuteTime": {
     "end_time": "2020-09-04T20:51:39.003854Z",
     "start_time": "2020-09-04T20:51:38.997926Z"
    }
   },
   "outputs": [
    {
     "data": {
      "text/plain": [
       "array([10, 20, 30, 40])"
      ]
     },
     "execution_count": 98,
     "metadata": {},
     "output_type": "execute_result"
    }
   ],
   "source": [
    "w[:4]"
   ]
  },
  {
   "cell_type": "markdown",
   "metadata": {},
   "source": [
    "debería ser exactamente lo mismo que"
   ]
  },
  {
   "cell_type": "code",
   "execution_count": 99,
   "metadata": {
    "ExecuteTime": {
     "end_time": "2020-09-04T20:51:39.194345Z",
     "start_time": "2020-09-04T20:51:39.188354Z"
    }
   },
   "outputs": [
    {
     "data": {
      "text/plain": [
       "array([10, 20, 30, 40])"
      ]
     },
     "execution_count": 99,
     "metadata": {},
     "output_type": "execute_result"
    }
   ],
   "source": [
    "w[0:4]"
   ]
  },
  {
   "cell_type": "markdown",
   "metadata": {},
   "source": [
    "Obtenga los primeros seis elementos de w"
   ]
  },
  {
   "cell_type": "code",
   "execution_count": 35,
   "metadata": {
    "ExecuteTime": {
     "end_time": "2020-09-04T20:51:39.413543Z",
     "start_time": "2020-09-04T20:51:39.410561Z"
    }
   },
   "outputs": [
    {
     "data": {
      "text/plain": [
       "array([10, 20, 30, 40, 50, 60])"
      ]
     },
     "execution_count": 35,
     "metadata": {},
     "output_type": "execute_result"
    }
   ],
   "source": [
    "# Escriba aquí su código\n",
    "\n",
    "w[:6]"
   ]
  },
  {
   "cell_type": "markdown",
   "metadata": {},
   "source": [
    "Si se omite el valor \"hasta\", asume que es hasta el último elemento.\n",
    "Qué obtendríamos con  w[5: ]?"
   ]
  },
  {
   "cell_type": "code",
   "execution_count": 101,
   "metadata": {
    "ExecuteTime": {
     "end_time": "2020-09-04T20:51:39.618388Z",
     "start_time": "2020-09-04T20:51:39.611938Z"
    }
   },
   "outputs": [
    {
     "data": {
      "text/plain": [
       "array([ 60,  70,  80,  90, 100])"
      ]
     },
     "execution_count": 101,
     "metadata": {},
     "output_type": "execute_result"
    }
   ],
   "source": [
    "w[5:]"
   ]
  },
  {
   "cell_type": "markdown",
   "metadata": {},
   "source": [
    "Escriba el código para obtener los números desde el 40 hasta el 100, le recuerdo cómo era  \n",
    "\n",
    "$$ w=(10,20,30,40,50,60,70,80,90,100)$$\n",
    "\n"
   ]
  },
  {
   "cell_type": "code",
   "execution_count": 36,
   "metadata": {
    "ExecuteTime": {
     "end_time": "2020-09-04T20:51:39.793486Z",
     "start_time": "2020-09-04T20:51:39.791037Z"
    }
   },
   "outputs": [
    {
     "data": {
      "text/plain": [
       "array([ 40,  50,  60,  70,  80,  90, 100])"
      ]
     },
     "execution_count": 36,
     "metadata": {},
     "output_type": "execute_result"
    }
   ],
   "source": [
    "# Escriba aquí su código\n",
    "w[3:]"
   ]
  },
  {
   "cell_type": "markdown",
   "metadata": {},
   "source": [
    "Además puede indexarse contando desde el final ... usando índices negativos"
   ]
  },
  {
   "cell_type": "code",
   "execution_count": 103,
   "metadata": {
    "ExecuteTime": {
     "end_time": "2020-09-04T20:51:39.968065Z",
     "start_time": "2020-09-04T20:51:39.962609Z"
    }
   },
   "outputs": [
    {
     "data": {
      "text/plain": [
       "100"
      ]
     },
     "execution_count": 103,
     "metadata": {},
     "output_type": "execute_result"
    }
   ],
   "source": [
    "w[-1]"
   ]
  },
  {
   "cell_type": "code",
   "execution_count": 104,
   "metadata": {
    "ExecuteTime": {
     "end_time": "2020-09-04T20:51:39.977490Z",
     "start_time": "2020-09-04T20:51:39.971538Z"
    }
   },
   "outputs": [
    {
     "data": {
      "text/plain": [
       "90"
      ]
     },
     "execution_count": 104,
     "metadata": {},
     "output_type": "execute_result"
    }
   ],
   "source": [
    "w[-2]"
   ]
  },
  {
   "cell_type": "code",
   "execution_count": 133,
   "metadata": {
    "ExecuteTime": {
     "end_time": "2020-09-04T21:42:39.527082Z",
     "start_time": "2020-09-04T21:42:39.521616Z"
    }
   },
   "outputs": [
    {
     "data": {
      "text/plain": [
       "array([80, 90])"
      ]
     },
     "execution_count": 133,
     "metadata": {},
     "output_type": "execute_result"
    }
   ],
   "source": [
    "w[-3:-1]"
   ]
  },
  {
   "cell_type": "markdown",
   "metadata": {},
   "source": [
    "Cómo haría para obtener los 3 últimos elementos?"
   ]
  },
  {
   "cell_type": "code",
   "execution_count": 38,
   "metadata": {
    "ExecuteTime": {
     "end_time": "2020-09-04T21:42:14.058854Z",
     "start_time": "2020-09-04T21:42:14.053894Z"
    }
   },
   "outputs": [
    {
     "data": {
      "text/plain": [
       "array([ 80,  90, 100])"
      ]
     },
     "execution_count": 38,
     "metadata": {},
     "output_type": "execute_result"
    }
   ],
   "source": [
    "# Escriba aquí su código\n",
    "w[-3:]"
   ]
  },
  {
   "cell_type": "markdown",
   "metadata": {},
   "source": [
    "Cómo haría para obtener los primeros 3 elementos?"
   ]
  },
  {
   "cell_type": "code",
   "execution_count": 39,
   "metadata": {
    "ExecuteTime": {
     "end_time": "2020-09-04T20:51:40.330147Z",
     "start_time": "2020-09-04T20:51:40.327171Z"
    }
   },
   "outputs": [
    {
     "data": {
      "text/plain": [
       "array([10, 20, 30])"
      ]
     },
     "execution_count": 39,
     "metadata": {},
     "output_type": "execute_result"
    }
   ],
   "source": [
    "# Escriba aquí su código\n",
    "w[:3]"
   ]
  },
  {
   "cell_type": "markdown",
   "metadata": {},
   "source": [
    "Qué le parece que sería el resultado de w[ : ]?"
   ]
  },
  {
   "cell_type": "code",
   "execution_count": 41,
   "metadata": {
    "ExecuteTime": {
     "end_time": "2020-09-04T20:51:40.500772Z",
     "start_time": "2020-09-04T20:51:40.496803Z"
    }
   },
   "outputs": [
    {
     "data": {
      "text/plain": [
       "array([ 10,  20,  30,  40,  50,  60,  70,  80,  90, 100])"
      ]
     },
     "execution_count": 41,
     "metadata": {},
     "output_type": "execute_result"
    }
   ],
   "source": [
    "# Escriba aquí su código\n",
    "#La lista completa\n",
    "w[:]"
   ]
  },
  {
   "cell_type": "markdown",
   "metadata": {},
   "source": [
    "Tenga presente este resultado cuando investiguemos las matrices a continuación."
   ]
  },
  {
   "cell_type": "markdown",
   "metadata": {},
   "source": [
    "Hasta ahora hemos obtenido elementos que son contiguos. Cómo podríamos hacer si quisiéramos elementos que no son contiguos?  \n",
    "Supongamos que queremos el primer, tercer y quinto elementos de w.  \n",
    "\n",
    "1. Primero deberíamos crear un array con los índices que deseáramos obtener\n",
    "2. Luego pasaríamos estos índices como parámetro"
   ]
  },
  {
   "cell_type": "code",
   "execution_count": 109,
   "metadata": {
    "ExecuteTime": {
     "end_time": "2020-09-04T20:51:40.874296Z",
     "start_time": "2020-09-04T20:51:40.867811Z"
    }
   },
   "outputs": [
    {
     "data": {
      "text/plain": [
       "array([10, 30, 50])"
      ]
     },
     "execution_count": 109,
     "metadata": {},
     "output_type": "execute_result"
    }
   ],
   "source": [
    "indices_1=np.array([0,2,4])  # creamos el array de índices\n",
    "w[indices_1]"
   ]
  },
  {
   "cell_type": "markdown",
   "metadata": {},
   "source": [
    "Obtenga los elementos que se encuentran en las posiciones segunda, cuarta y octava de w"
   ]
  },
  {
   "cell_type": "code",
   "execution_count": 43,
   "metadata": {
    "ExecuteTime": {
     "end_time": "2020-09-04T20:51:41.127714Z",
     "start_time": "2020-09-04T20:51:41.124738Z"
    }
   },
   "outputs": [
    {
     "data": {
      "text/plain": [
       "array([20, 40, 80])"
      ]
     },
     "execution_count": 43,
     "metadata": {},
     "output_type": "execute_result"
    }
   ],
   "source": [
    "# Escriba aquí su código\n",
    "indices_2=np.array([1,3,7])\n",
    "w[indices_2]"
   ]
  },
  {
   "cell_type": "markdown",
   "metadata": {},
   "source": [
    "Por supuesto que no era necesario crear primero el array de índices, hubiera bastado con hacer:"
   ]
  },
  {
   "cell_type": "code",
   "execution_count": 111,
   "metadata": {
    "ExecuteTime": {
     "end_time": "2020-09-04T20:51:41.327613Z",
     "start_time": "2020-09-04T20:51:41.323671Z"
    }
   },
   "outputs": [
    {
     "data": {
      "text/plain": [
       "array([20, 40, 80])"
      ]
     },
     "execution_count": 111,
     "metadata": {},
     "output_type": "execute_result"
    }
   ],
   "source": [
    "w[[1,3,7]]"
   ]
  },
  {
   "cell_type": "code",
   "execution_count": 22,
   "metadata": {
    "ExecuteTime": {
     "end_time": "2021-04-12T23:08:18.144875Z",
     "start_time": "2021-04-12T23:08:18.139886Z"
    }
   },
   "outputs": [
    {
     "data": {
      "text/plain": [
       "array([20, 50, 70])"
      ]
     },
     "execution_count": 22,
     "metadata": {},
     "output_type": "execute_result"
    }
   ],
   "source": [
    "# quiero el 2do, 5to y 7mo elemento:\n",
    "w[[1,4,6]]"
   ]
  },
  {
   "cell_type": "markdown",
   "metadata": {},
   "source": [
    "### Uso de **[     ]** con matrices o arrays de 2 ejes (bidimensionales)"
   ]
  },
  {
   "cell_type": "markdown",
   "metadata": {},
   "source": [
    "Para acceder a una posición dentro de un array se utilizan los corchetes \n",
    "\n",
    "**[ posición del elemento en cada eje separado por comas ]**  "
   ]
  },
  {
   "cell_type": "markdown",
   "metadata": {},
   "source": [
    "M[0:3,1]"
   ]
  },
  {
   "cell_type": "markdown",
   "metadata": {},
   "source": [
    "Para el caso de las matrices es decir los arrays con 2 ejes deberemos indicar la posición del elemento en cada uno de los ejes.  \n",
    "$$M=\\begin{bmatrix} 3 & 1 & -1 & 4\\\\ 2 & 5 & 1 & 2\\\\ 0 & 2 & 4 & 1 \\end{bmatrix}$$\n",
    "\n",
    "**M[ fila, columna ]**  \n",
    "(recuerde que a diferencia del álgebra, aquí el primer elemento es el 0)\n",
    "\n",
    "\n",
    "Para acceder al primer elemento, el número 3, deberemos indicar que está en la fila 0 y en la columna 0:  \n",
    "\n",
    "**M[0,0]** \n",
    "\n"
   ]
  },
  {
   "cell_type": "code",
   "execution_count": 44,
   "metadata": {
    "ExecuteTime": {
     "end_time": "2020-09-04T20:51:42.037413Z",
     "start_time": "2020-09-04T20:51:42.031922Z"
    }
   },
   "outputs": [
    {
     "data": {
      "text/plain": [
       "3"
      ]
     },
     "execution_count": 44,
     "metadata": {},
     "output_type": "execute_result"
    }
   ],
   "source": [
    "M[0,0]"
   ]
  },
  {
   "cell_type": "code",
   "execution_count": 45,
   "metadata": {
    "ExecuteTime": {
     "end_time": "2020-09-04T20:51:42.046306Z",
     "start_time": "2020-09-04T20:51:42.040850Z"
    }
   },
   "outputs": [
    {
     "data": {
      "text/plain": [
       "-1"
      ]
     },
     "execution_count": 45,
     "metadata": {},
     "output_type": "execute_result"
    }
   ],
   "source": [
    "M[0,2]"
   ]
  },
  {
   "cell_type": "markdown",
   "metadata": {},
   "source": [
    "Obtenga el 5 de la matriz M"
   ]
  },
  {
   "cell_type": "code",
   "execution_count": 46,
   "metadata": {
    "ExecuteTime": {
     "end_time": "2020-09-04T20:51:42.230335Z",
     "start_time": "2020-09-04T20:51:42.226887Z"
    }
   },
   "outputs": [
    {
     "data": {
      "text/plain": [
       "5"
      ]
     },
     "execution_count": 46,
     "metadata": {},
     "output_type": "execute_result"
    }
   ],
   "source": [
    "# Escriba aquí su código\n",
    "M[1,1]"
   ]
  },
  {
   "cell_type": "markdown",
   "metadata": {},
   "source": [
    "Supongamos que queremos obtener toda una una fila de M, digamos la primer fila (la fila número 0).  \n",
    "Deberíamos indicar algo como esto:  \n",
    "M[ número de fila deseada, todas las columnas]"
   ]
  },
  {
   "cell_type": "markdown",
   "metadata": {},
   "source": [
    "Entonces para obtener la fila 0 podríamos escribir:"
   ]
  },
  {
   "cell_type": "code",
   "execution_count": 47,
   "metadata": {
    "ExecuteTime": {
     "end_time": "2020-09-04T20:51:42.607791Z",
     "start_time": "2020-09-04T20:51:42.602833Z"
    }
   },
   "outputs": [
    {
     "data": {
      "text/plain": [
       "array([ 3,  1, -1,  4])"
      ]
     },
     "execution_count": 47,
     "metadata": {},
     "output_type": "execute_result"
    }
   ],
   "source": [
    "M[0,:]"
   ]
  },
  {
   "cell_type": "markdown",
   "metadata": {},
   "source": [
    "Que es una nomenclatura bastante explícita, también soporta una nomenclatura como la siguiente, pero no la recomendamos."
   ]
  },
  {
   "cell_type": "code",
   "execution_count": 48,
   "metadata": {
    "ExecuteTime": {
     "end_time": "2020-09-04T20:51:42.881076Z",
     "start_time": "2020-09-04T20:51:42.875122Z"
    }
   },
   "outputs": [
    {
     "data": {
      "text/plain": [
       "array([ 3,  1, -1,  4])"
      ]
     },
     "execution_count": 48,
     "metadata": {},
     "output_type": "execute_result"
    }
   ],
   "source": [
    "M[0,]"
   ]
  },
  {
   "cell_type": "markdown",
   "metadata": {},
   "source": [
    "Cómo obtendría la segunda fila?"
   ]
  },
  {
   "cell_type": "code",
   "execution_count": 50,
   "metadata": {
    "ExecuteTime": {
     "end_time": "2020-09-04T20:51:43.069579Z",
     "start_time": "2020-09-04T20:51:43.066579Z"
    }
   },
   "outputs": [
    {
     "data": {
      "text/plain": [
       "array([2, 5, 1, 2])"
      ]
     },
     "execution_count": 50,
     "metadata": {},
     "output_type": "execute_result"
    }
   ],
   "source": [
    "# Escriba aquí su código\n",
    "M[1,:]          "
   ]
  },
  {
   "cell_type": "markdown",
   "metadata": {},
   "source": [
    "Cómo obtendría la última fila, sin importar cuántas filas tuviera la matriz?"
   ]
  },
  {
   "cell_type": "code",
   "execution_count": 51,
   "metadata": {
    "ExecuteTime": {
     "end_time": "2020-09-04T20:51:43.250099Z",
     "start_time": "2020-09-04T20:51:43.247180Z"
    }
   },
   "outputs": [
    {
     "data": {
      "text/plain": [
       "array([0, 2, 4, 1])"
      ]
     },
     "execution_count": 51,
     "metadata": {},
     "output_type": "execute_result"
    }
   ],
   "source": [
    "# Escriba aquí su código\n",
    "M[-1, :]"
   ]
  },
  {
   "cell_type": "markdown",
   "metadata": {},
   "source": [
    "Cómo obtendría las dos primeras filas?"
   ]
  },
  {
   "cell_type": "code",
   "execution_count": 56,
   "metadata": {
    "ExecuteTime": {
     "end_time": "2020-09-04T20:51:43.461891Z",
     "start_time": "2020-09-04T20:51:43.458953Z"
    }
   },
   "outputs": [
    {
     "data": {
      "text/plain": [
       "array([[ 3,  1, -1,  4],\n",
       "       [ 2,  5,  1,  2]])"
      ]
     },
     "execution_count": 56,
     "metadata": {},
     "output_type": "execute_result"
    }
   ],
   "source": [
    "# Escriba aquí su código\n",
    "\n",
    "M[0:2,:] "
   ]
  },
  {
   "cell_type": "markdown",
   "metadata": {},
   "source": [
    "La primer y tercer filas?"
   ]
  },
  {
   "cell_type": "code",
   "execution_count": 55,
   "metadata": {
    "ExecuteTime": {
     "end_time": "2020-09-04T20:51:43.660788Z",
     "start_time": "2020-09-04T20:51:43.657315Z"
    }
   },
   "outputs": [
    {
     "data": {
      "text/plain": [
       "array([[ 3,  1, -1,  4],\n",
       "       [ 0,  2,  4,  1]])"
      ]
     },
     "execution_count": 55,
     "metadata": {},
     "output_type": "execute_result"
    }
   ],
   "source": [
    "# Escriba aquí su código\n",
    "M[[0,2], :]"
   ]
  },
  {
   "cell_type": "markdown",
   "metadata": {},
   "source": [
    "Ahora practiquemos un poco con las columnas:  \n",
    "\n",
    "$$M=\\begin{bmatrix} 3 & 1 & -1 & 4\\\\ 2 & 5 & 1 & 2\\\\ 0 & 2 & 4 & 1 \\end{bmatrix}$$\n",
    "Obtenga la primer columna de M"
   ]
  },
  {
   "cell_type": "code",
   "execution_count": 59,
   "metadata": {
    "ExecuteTime": {
     "end_time": "2020-09-04T20:51:43.851780Z",
     "start_time": "2020-09-04T20:51:43.848770Z"
    }
   },
   "outputs": [
    {
     "data": {
      "text/plain": [
       "array([3, 2, 0])"
      ]
     },
     "execution_count": 59,
     "metadata": {},
     "output_type": "execute_result"
    }
   ],
   "source": [
    "# Escriba aquí su código\n",
    "M[:,0]"
   ]
  },
  {
   "cell_type": "markdown",
   "metadata": {},
   "source": [
    "**Nota:** Observe que no presenta el resultado como una \"columna\", sino como un array de un solo eje."
   ]
  },
  {
   "cell_type": "markdown",
   "metadata": {},
   "source": [
    "La segunda y tercer columnas?"
   ]
  },
  {
   "cell_type": "code",
   "execution_count": 63,
   "metadata": {
    "ExecuteTime": {
     "end_time": "2020-09-04T20:51:44.234689Z",
     "start_time": "2020-09-04T20:51:44.232179Z"
    }
   },
   "outputs": [
    {
     "data": {
      "text/plain": [
       "array([[ 1, -1],\n",
       "       [ 5,  1],\n",
       "       [ 2,  4]])"
      ]
     },
     "execution_count": 63,
     "metadata": {},
     "output_type": "execute_result"
    }
   ],
   "source": [
    "# Escriba aquí su código\n",
    "M[:,[1,2]]"
   ]
  },
  {
   "cell_type": "markdown",
   "metadata": {},
   "source": [
    "La segunda y la cuarta columnas?"
   ]
  },
  {
   "cell_type": "code",
   "execution_count": 64,
   "metadata": {
    "ExecuteTime": {
     "end_time": "2020-09-04T20:51:44.444471Z",
     "start_time": "2020-09-04T20:51:44.441491Z"
    }
   },
   "outputs": [
    {
     "data": {
      "text/plain": [
       "array([[1, 4],\n",
       "       [5, 2],\n",
       "       [2, 1]])"
      ]
     },
     "execution_count": 64,
     "metadata": {},
     "output_type": "execute_result"
    }
   ],
   "source": [
    "# Escriba aquí su código\n",
    "M[:,[1,3]]"
   ]
  },
  {
   "cell_type": "code",
   "execution_count": null,
   "metadata": {},
   "outputs": [],
   "source": []
  }
 ],
 "metadata": {
  "hide_input": false,
  "kernelspec": {
   "display_name": "Python 3",
   "language": "python",
   "name": "python3"
  },
  "language_info": {
   "codemirror_mode": {
    "name": "ipython",
    "version": 3
   },
   "file_extension": ".py",
   "mimetype": "text/x-python",
   "name": "python",
   "nbconvert_exporter": "python",
   "pygments_lexer": "ipython3",
   "version": "3.8.5"
  },
  "toc": {
   "base_numbering": 1,
   "nav_menu": {},
   "number_sections": true,
   "sideBar": true,
   "skip_h1_title": true,
   "title_cell": "Tabla de Contenidos",
   "title_sidebar": "Contenidos",
   "toc_cell": true,
   "toc_position": {
    "height": "calc(100% - 180px)",
    "left": "10px",
    "top": "150px",
    "width": "165px"
   },
   "toc_section_display": true,
   "toc_window_display": true
  },
  "varInspector": {
   "cols": {
    "lenName": 16,
    "lenType": 16,
    "lenVar": 40
   },
   "kernels_config": {
    "python": {
     "delete_cmd_postfix": "",
     "delete_cmd_prefix": "del ",
     "library": "var_list.py",
     "varRefreshCmd": "print(var_dic_list())"
    },
    "r": {
     "delete_cmd_postfix": ") ",
     "delete_cmd_prefix": "rm(",
     "library": "var_list.r",
     "varRefreshCmd": "cat(var_dic_list()) "
    }
   },
   "types_to_exclude": [
    "module",
    "function",
    "builtin_function_or_method",
    "instance",
    "_Feature"
   ],
   "window_display": false
  }
 },
 "nbformat": 4,
 "nbformat_minor": 2
}
