{
 "cells": [
  {
   "cell_type": "markdown",
   "metadata": {
    "toc": true
   },
   "source": [
    "<h1>Tabla de Contenidos<span class=\"tocSkip\"></span></h1>\n",
    "<div class=\"toc\"><ul class=\"toc-item\"><li><span><a href=\"#SITUACIÓN-PROFESIONAL-1\" data-toc-modified-id=\"SITUACIÓN-PROFESIONAL-1-1\"><span class=\"toc-item-num\">1&nbsp;&nbsp;</span>SITUACIÓN PROFESIONAL 1</a></span><ul class=\"toc-item\"><li><span><a href=\"#CLASE-4\" data-toc-modified-id=\"CLASE-4-1.1\"><span class=\"toc-item-num\">1.1&nbsp;&nbsp;</span>CLASE 4</a></span><ul class=\"toc-item\"><li><span><a href=\"#Prof.-Ricardo-Piña\" data-toc-modified-id=\"Prof.-Ricardo-Piña-1.1.1\"><span class=\"toc-item-num\">1.1.1&nbsp;&nbsp;</span>Prof. Ricardo Piña</a></span></li></ul></li></ul></li><li><span><a href=\"#NUMPY-EJERCICIOS\" data-toc-modified-id=\"NUMPY-EJERCICIOS-2\"><span class=\"toc-item-num\">2&nbsp;&nbsp;</span>NUMPY EJERCICIOS</a></span></li><li><span><a href=\"#Selección-de-elementos-de-un-array-según-su-valor\" data-toc-modified-id=\"Selección-de-elementos-de-un-array-según-su-valor-3\"><span class=\"toc-item-num\">3&nbsp;&nbsp;</span>Selección de elementos de un array según su valor</a></span><ul class=\"toc-item\"><li><ul class=\"toc-item\"><li><span><a href=\"#Selección-de-un-elemento-según-su-índice\" data-toc-modified-id=\"Selección-de-un-elemento-según-su-índice-3.0.1\"><span class=\"toc-item-num\">3.0.1&nbsp;&nbsp;</span>Selección de un elemento según su índice</a></span></li></ul></li><li><span><a href=\"#FUNCIONES-LÓGICAS-de-Numpy\" data-toc-modified-id=\"FUNCIONES-LÓGICAS-de-Numpy-3.1\"><span class=\"toc-item-num\">3.1&nbsp;&nbsp;</span>FUNCIONES LÓGICAS de Numpy</a></span></li></ul></li><li><span><a href=\"#Funciones-de-agregados-de-datos-(por-fila,-por-columna,-etc)-de-NumPy\" data-toc-modified-id=\"Funciones-de-agregados-de-datos-(por-fila,-por-columna,-etc)-de-NumPy-4\"><span class=\"toc-item-num\">4&nbsp;&nbsp;</span>Funciones de agregados de datos (por fila, por columna, etc) de NumPy</a></span><ul class=\"toc-item\"><li><span><a href=\"#Reemplazar-valores-en-un-array\" data-toc-modified-id=\"Reemplazar-valores-en-un-array-4.1\"><span class=\"toc-item-num\">4.1&nbsp;&nbsp;</span>Reemplazar valores en un array</a></span></li></ul></li><li><span><a href=\"#EXPRESIONES-VECTORIZADAS\" data-toc-modified-id=\"EXPRESIONES-VECTORIZADAS-5\"><span class=\"toc-item-num\">5&nbsp;&nbsp;</span>EXPRESIONES VECTORIZADAS</a></span><ul class=\"toc-item\"><li><span><a href=\"#where\" data-toc-modified-id=\"where-5.1\"><span class=\"toc-item-num\">5.1&nbsp;&nbsp;</span>where</a></span></li></ul></li><li><span><a href=\"#CASO-1:-Sistemas-de-Recomendación-sin-personalización\" data-toc-modified-id=\"CASO-1:-Sistemas-de-Recomendación-sin-personalización-6\"><span class=\"toc-item-num\">6&nbsp;&nbsp;</span>CASO 1: Sistemas de Recomendación sin personalización</a></span></li><li><span><a href=\"#Guardar-arrays-de-NumPy\" data-toc-modified-id=\"Guardar-arrays-de-NumPy-7\"><span class=\"toc-item-num\">7&nbsp;&nbsp;</span>Guardar arrays de NumPy</a></span></li></ul></div>"
   ]
  },
  {
   "cell_type": "markdown",
   "metadata": {},
   "source": [
    "![IES21](img/logo_ies.png)"
   ]
  },
  {
   "cell_type": "markdown",
   "metadata": {},
   "source": [
    "# COMPUTACIÓN CIENTÍFICA\n",
    "## SITUACIÓN PROFESIONAL 1\n",
    "### CLASE 4\n",
    "#### Prof. Ricardo Piña"
   ]
  },
  {
   "cell_type": "code",
   "execution_count": 2,
   "metadata": {
    "ExecuteTime": {
     "end_time": "2020-09-25T21:20:11.593868Z",
     "start_time": "2020-09-25T21:20:11.285182Z"
    }
   },
   "outputs": [],
   "source": [
    "import numpy as np"
   ]
  },
  {
   "cell_type": "markdown",
   "metadata": {
    "colab_type": "text",
    "id": "pdiqimfP3-hE"
   },
   "source": [
    "## NUMPY EJERCICIOS"
   ]
  },
  {
   "cell_type": "markdown",
   "metadata": {
    "colab_type": "text",
    "id": "ZDSCGJSp4DTy"
   },
   "source": [
    "Creemos un vector (array de un solo eje) como el siguiente:  \n",
    "\n",
    "vec_01=(0,10,20,...,100)\n"
   ]
  },
  {
   "cell_type": "code",
   "execution_count": 3,
   "metadata": {
    "ExecuteTime": {
     "end_time": "2020-09-25T21:20:11.644731Z",
     "start_time": "2020-09-25T21:20:11.632764Z"
    },
    "colab": {
     "base_uri": "https://localhost:8080/",
     "height": 34
    },
    "colab_type": "code",
    "id": "vN4vcU164LQs",
    "outputId": "2e85d772-7ff1-42c2-9aaa-1abb08bc7ae2"
   },
   "outputs": [
    {
     "data": {
      "text/plain": [
       "array([  0,  10,  20,  30,  40,  50,  60,  70,  80,  90, 100])"
      ]
     },
     "execution_count": 3,
     "metadata": {},
     "output_type": "execute_result"
    }
   ],
   "source": [
    "# Escriba aquí su código\n",
    "vec_01=np.arange(0,110,10)\n",
    "vec_01"
   ]
  },
  {
   "cell_type": "markdown",
   "metadata": {
    "colab_type": "text",
    "id": "SEcSz65K5cDr"
   },
   "source": [
    "## Selección de elementos de un array según su valor"
   ]
  },
  {
   "cell_type": "markdown",
   "metadata": {},
   "source": [
    "En la clase 2 habíamos visto cómo seleccionar elementos de un array, esencialmente según el valor del índice del elemento tanto para vectores como matrices o tensores.  \n",
    "Simplemente para recordar cómo se hacía:"
   ]
  },
  {
   "cell_type": "markdown",
   "metadata": {
    "colab_type": "text",
    "id": "DRBPqNAw5mTS"
   },
   "source": [
    "#### Selección de un elemento según su índice"
   ]
  },
  {
   "cell_type": "markdown",
   "metadata": {
    "colab_type": "text",
    "id": "KdljRS9K5t2S"
   },
   "source": [
    "Seleccionemos el elemento con índice 3 de vec_01"
   ]
  },
  {
   "cell_type": "code",
   "execution_count": 4,
   "metadata": {
    "ExecuteTime": {
     "end_time": "2020-09-25T21:20:12.187963Z",
     "start_time": "2020-09-25T21:20:12.182972Z"
    },
    "colab": {
     "base_uri": "https://localhost:8080/",
     "height": 34
    },
    "colab_type": "code",
    "id": "NuYwDQRl5xo8",
    "outputId": "aceac38f-ce29-4439-9616-0413b7fed5ea"
   },
   "outputs": [
    {
     "data": {
      "text/plain": [
       "30"
      ]
     },
     "execution_count": 4,
     "metadata": {},
     "output_type": "execute_result"
    }
   ],
   "source": [
    "# Escriba aquí su código\n",
    "vec_01[3]"
   ]
  },
  {
   "cell_type": "markdown",
   "metadata": {
    "colab_type": "text",
    "id": "N-iZM0CO6Byf"
   },
   "source": [
    "Seleccionemos los elementos con índice 0, 3 y 7 de vec_01.  \n",
    "Deberemos pasarle una secuencia con los índices deseados:"
   ]
  },
  {
   "cell_type": "code",
   "execution_count": 5,
   "metadata": {
    "ExecuteTime": {
     "end_time": "2020-09-25T21:20:12.335049Z",
     "start_time": "2020-09-25T21:20:12.329065Z"
    },
    "colab": {
     "base_uri": "https://localhost:8080/",
     "height": 34
    },
    "colab_type": "code",
    "id": "7rojSvMv6J7n",
    "outputId": "d8ae37aa-dace-46be-9074-78532dc9fd5c"
   },
   "outputs": [
    {
     "data": {
      "text/plain": [
       "array([ 0, 30, 70])"
      ]
     },
     "execution_count": 5,
     "metadata": {},
     "output_type": "execute_result"
    }
   ],
   "source": [
    "# Escriba aquí su código\n",
    "vec_01[[0,3,7]]"
   ]
  },
  {
   "cell_type": "markdown",
   "metadata": {
    "colab_type": "text",
    "id": "-apKefS15HJU"
   },
   "source": [
    "Seleccionemos los elementos de vec_01 con índice 1,3 y 4"
   ]
  },
  {
   "cell_type": "code",
   "execution_count": 6,
   "metadata": {
    "ExecuteTime": {
     "end_time": "2020-09-25T21:20:12.458719Z",
     "start_time": "2020-09-25T21:20:12.453734Z"
    },
    "colab": {
     "base_uri": "https://localhost:8080/",
     "height": 34
    },
    "colab_type": "code",
    "id": "DIQivLKJ4ser",
    "outputId": "912cffde-1ee2-48f3-bacd-2b8d7652afdd"
   },
   "outputs": [
    {
     "data": {
      "text/plain": [
       "array([10, 30, 40])"
      ]
     },
     "execution_count": 6,
     "metadata": {},
     "output_type": "execute_result"
    }
   ],
   "source": [
    "# Escriba aquí su código\n",
    "vec_01[[1,3,4]]"
   ]
  },
  {
   "cell_type": "markdown",
   "metadata": {
    "colab_type": "text",
    "id": "7COByTBu8Vpp"
   },
   "source": [
    "Hemos visto que si pasamos los índices de los elementos que deseamos, numpy nos devuelve los valores almacenados en las ubicaciones corrrespondientes a dichos índices.  \n",
    "\n",
    "Por otro lado, la clase pasada vimos que el resultado de una operación de comparación entre un array y un valor numérico por ejemplo nos daba un array con la secuencia True o False según correspondiera.  \n",
    "**Podemos valernos de estos dos hechos para conseguir que nos devuelva los valores de un array que verifican ciertas condiciones:** \n",
    "\n"
   ]
  },
  {
   "cell_type": "markdown",
   "metadata": {
    "colab_type": "text",
    "id": "v4U_ajIw9IUG"
   },
   "source": [
    "**Ejercicio:** Supongamos que queremos obtener todos los valors de vec_01 cuyo valor es menor que 60.  "
   ]
  },
  {
   "cell_type": "markdown",
   "metadata": {},
   "source": [
    "**Solución:**  \n",
    "\n",
    "1. Primero podemos obtener el array con valores booleanos True o False con respecto a la condición \"menor a 60\""
   ]
  },
  {
   "cell_type": "code",
   "execution_count": 7,
   "metadata": {
    "ExecuteTime": {
     "end_time": "2020-09-25T21:20:12.863439Z",
     "start_time": "2020-09-25T21:20:12.858456Z"
    },
    "colab": {
     "base_uri": "https://localhost:8080/",
     "height": 51
    },
    "colab_type": "code",
    "id": "FhkwcGE_4xe6",
    "outputId": "90db4e96-86c5-422b-946a-696fd36706bc"
   },
   "outputs": [
    {
     "data": {
      "text/plain": [
       "array([ True,  True,  True,  True,  True,  True, False, False, False,\n",
       "       False, False])"
      ]
     },
     "execution_count": 7,
     "metadata": {},
     "output_type": "execute_result"
    }
   ],
   "source": [
    "vec_01<60"
   ]
  },
  {
   "cell_type": "markdown",
   "metadata": {
    "colab_type": "text",
    "id": "e469vsLL9RxX"
   },
   "source": [
    "2. Luego pasamos este vector como los índices de los valores que queremos obtener "
   ]
  },
  {
   "cell_type": "code",
   "execution_count": 8,
   "metadata": {
    "ExecuteTime": {
     "end_time": "2020-09-25T21:20:13.006777Z",
     "start_time": "2020-09-25T21:20:13.000793Z"
    },
    "colab": {
     "base_uri": "https://localhost:8080/",
     "height": 34
    },
    "colab_type": "code",
    "id": "KOMHmI5576hr",
    "outputId": "565f2eb3-423c-4517-dd18-9d80e4aa9923"
   },
   "outputs": [
    {
     "data": {
      "text/plain": [
       "array([ 0, 10, 20, 30, 40, 50])"
      ]
     },
     "execution_count": 8,
     "metadata": {},
     "output_type": "execute_result"
    }
   ],
   "source": [
    "vec_01[ vec_01<60]"
   ]
  },
  {
   "cell_type": "markdown",
   "metadata": {
    "colab": {},
    "colab_type": "code",
    "id": "j1LadRAE8BQh"
   },
   "source": [
    "**Ejercicio:** queremos obtener todos los valors de vec_01 cuyo valor es mayor o igual a 30.  "
   ]
  },
  {
   "cell_type": "code",
   "execution_count": 9,
   "metadata": {
    "ExecuteTime": {
     "end_time": "2020-09-25T21:20:13.159369Z",
     "start_time": "2020-09-25T21:20:13.153385Z"
    }
   },
   "outputs": [
    {
     "data": {
      "text/plain": [
       "array([ 30,  40,  50,  60,  70,  80,  90, 100])"
      ]
     },
     "execution_count": 9,
     "metadata": {},
     "output_type": "execute_result"
    }
   ],
   "source": [
    "# Escriba aquí su código\n",
    "vec_01[vec_01>=30]"
   ]
  },
  {
   "cell_type": "markdown",
   "metadata": {},
   "source": [
    "### FUNCIONES LÓGICAS de Numpy"
   ]
  },
  {
   "cell_type": "markdown",
   "metadata": {},
   "source": [
    "Las funciones lógicas implementadas en NumPy son:\n",
    "\n",
    "- np.logical_and()   https://docs.scipy.org/doc/numpy/reference/generated/numpy.logical_and.html\n",
    "- np.logical_or()    https://docs.scipy.org/doc/numpy/reference/generated/numpy.logical_or.html#numpy.logical_or\n",
    "- logical_not()      https://docs.scipy.org/doc/numpy/reference/generated/numpy.logical_not.html#numpy.logical_not\n",
    "- logical_xor()      https://docs.scipy.org/doc/numpy/reference/generated/numpy.logical_xor.html#numpy.logical_xor\n",
    "- bitwise_and()      https://docs.scipy.org/doc/numpy/reference/generated/numpy.bitwise_and.html#numpy.bitwise_and\n",
    "- bitwise_or()       https://docs.scipy.org/doc/numpy/reference/generated/numpy.bitwise_xor.html#numpy.bitwise_or\n"
   ]
  },
  {
   "cell_type": "markdown",
   "metadata": {},
   "source": [
    "Ejercicio: En qué posiciones de vec_01 se encuentran los valores menores a 70?"
   ]
  },
  {
   "cell_type": "code",
   "execution_count": null,
   "metadata": {},
   "outputs": [],
   "source": []
  },
  {
   "cell_type": "markdown",
   "metadata": {},
   "source": [
    "**Ejercicio:** Cuál es el promedio de los valores de vec_01 menores a 70?  "
   ]
  },
  {
   "cell_type": "code",
   "execution_count": 12,
   "metadata": {
    "ExecuteTime": {
     "end_time": "2020-09-25T21:20:13.690989Z",
     "start_time": "2020-09-25T21:20:13.684010Z"
    }
   },
   "outputs": [
    {
     "data": {
      "text/plain": [
       "30.0"
      ]
     },
     "execution_count": 12,
     "metadata": {},
     "output_type": "execute_result"
    }
   ],
   "source": [
    "# Escriba aquí su código\n",
    "np.mean(vec_01[ vec_01<70])"
   ]
  },
  {
   "cell_type": "markdown",
   "metadata": {
    "colab_type": "text",
    "id": "xhQ62qwQXwZi"
   },
   "source": [
    "**Ejercicio:** Cuáles son los elementos de vec_01 mayores que 35 **y** menores o iguales que 60?\n"
   ]
  },
  {
   "cell_type": "markdown",
   "metadata": {},
   "source": [
    "Podemos resolverlo con np.logical_and ya que queremos que se cumplan ambas condiciones.  \n",
    "\n",
    "Primero podemos encontrar un array de True y False en las ubicaciones donde las condiciones se cumplen o no usando \n",
    "\n",
    "np.logical_and(condicion1,condicion2)\n"
   ]
  },
  {
   "cell_type": "code",
   "execution_count": 13,
   "metadata": {
    "ExecuteTime": {
     "end_time": "2020-09-25T21:20:13.965508Z",
     "start_time": "2020-09-25T21:20:13.960522Z"
    },
    "colab": {
     "base_uri": "https://localhost:8080/",
     "height": 34
    },
    "colab_type": "code",
    "id": "mU37y8mAX64P",
    "outputId": "ce5fc498-ca70-42e2-bed5-4d390ddb4c3c"
   },
   "outputs": [
    {
     "data": {
      "text/plain": [
       "array([False, False, False, False,  True,  True,  True, False, False,\n",
       "       False, False])"
      ]
     },
     "execution_count": 13,
     "metadata": {},
     "output_type": "execute_result"
    }
   ],
   "source": [
    "# Escriba aquí su código\n",
    "np.logical_and(vec_01>35,vec_01<=60) "
   ]
  },
  {
   "cell_type": "markdown",
   "metadata": {},
   "source": [
    "Si quisiéramos saber cuáles son estos valores:"
   ]
  },
  {
   "cell_type": "code",
   "execution_count": 14,
   "metadata": {
    "ExecuteTime": {
     "end_time": "2020-09-25T21:20:14.170411Z",
     "start_time": "2020-09-25T21:20:14.164488Z"
    }
   },
   "outputs": [
    {
     "data": {
      "text/plain": [
       "array([40, 50, 60])"
      ]
     },
     "execution_count": 14,
     "metadata": {},
     "output_type": "execute_result"
    }
   ],
   "source": [
    "# Escriba aquí su código\n",
    "vec_01[np.logical_and(vec_01>35,vec_01<=60)]"
   ]
  },
  {
   "cell_type": "markdown",
   "metadata": {
    "colab_type": "text",
    "id": "1g4twInfZIFg"
   },
   "source": [
    "**Ejercicio:**\n",
    "\n",
    "Cree la matriz mat_01 de 100 filas y 4 columnas, cuyos elementos son float (decimales) aleatorios de una distribución uniforme entre [0,100[ obtenidos con una semilla = (123)"
   ]
  },
  {
   "cell_type": "code",
   "execution_count": 15,
   "metadata": {
    "ExecuteTime": {
     "end_time": "2020-09-25T21:20:14.341944Z",
     "start_time": "2020-09-25T21:20:14.330974Z"
    },
    "colab": {
     "base_uri": "https://localhost:8080/",
     "height": 1000
    },
    "colab_type": "code",
    "id": "nxNJQKJ1Zal9",
    "outputId": "35bc3cf2-5c48-487f-84bc-e1e6ff444b62"
   },
   "outputs": [
    {
     "data": {
      "text/plain": [
       "array([[69.64691856, 28.6139335 , 22.68514536, 55.13147691],\n",
       "       [71.94689698, 42.31064601, 98.07641984, 68.48297386],\n",
       "       [48.09319015, 39.21175182, 34.31780162, 72.90497074],\n",
       "       [43.85722447,  5.96778966, 39.80442553, 73.79954057],\n",
       "       [18.24917305, 17.54517561, 53.15513738, 53.18275871],\n",
       "       [63.44009586, 84.94317941, 72.44553249, 61.10235107],\n",
       "       [72.24433826, 32.29589139, 36.17886556, 22.82632309],\n",
       "       [29.37140464, 63.09761239,  9.21049399, 43.37011727],\n",
       "       [43.08627633, 49.36850977, 42.58302903, 31.2261223 ],\n",
       "       [42.6351307 , 89.33891631, 94.41600182, 50.18366759],\n",
       "       [62.39529518, 11.56183951, 31.72854818, 41.4826212 ],\n",
       "       [86.63091579, 25.04553654, 48.30342643, 98.55597856],\n",
       "       [51.94851193, 61.28945258, 12.0628666 , 82.63408005],\n",
       "       [60.30601284, 54.50680065, 34.27638338, 30.4120789 ],\n",
       "       [41.7022211 , 68.13007658, 87.54568418, 51.04223375],\n",
       "       [66.9313783 , 58.59365526, 62.49035021, 67.4689051 ],\n",
       "       [84.23424376,  8.31949883, 76.36828414, 24.36663745],\n",
       "       [19.42229606, 57.24569575,  9.57125166, 88.53268263],\n",
       "       [62.72489721, 72.34163582,  1.61292067, 59.44318794],\n",
       "       [55.67851924, 15.89596441, 15.30705151, 69.55295288],\n",
       "       [31.87664264, 69.19702955, 55.43832497, 38.89505741],\n",
       "       [92.51324896, 84.16699969, 35.73975667,  4.35914638],\n",
       "       [30.47680734, 39.81856819, 70.49588305, 99.5358482 ],\n",
       "       [35.59148657, 76.25478138, 59.31769166, 69.17017987],\n",
       "       [15.11274523, 39.88762927, 24.08558977, 34.3456014 ],\n",
       "       [51.31281542, 66.66245502, 10.59084851, 13.08949507],\n",
       "       [32.19806065, 66.15643367, 84.65062253, 55.32573448],\n",
       "       [85.44524875, 38.48378113, 31.67878971, 35.42646756],\n",
       "       [17.10818292, 82.91126345, 33.86708459, 55.23700753],\n",
       "       [57.85514681, 52.15330594,  0.26880646, 98.83454193],\n",
       "       [90.53415757, 20.76358612, 29.24894128, 52.00101531],\n",
       "       [90.19113727, 98.36308849, 25.75420642, 56.43590429],\n",
       "       [80.69686841, 39.4370054 , 73.10730358, 16.10690144],\n",
       "       [60.06985678, 86.58644583, 98.35216092,  7.93657904],\n",
       "       [42.83472747, 20.45428595, 45.06364905, 54.77635726],\n",
       "       [ 9.33267104, 29.68607755, 92.75842402, 56.90037314],\n",
       "       [45.74119975, 75.35259908, 74.18621518,  4.85790328],\n",
       "       [70.86973954, 83.92433478, 16.59378842, 78.0997938 ],\n",
       "       [28.65366167, 30.64697533, 66.52614653, 11.13921716],\n",
       "       [66.48724488, 88.78567927, 69.63112682, 44.03278767],\n",
       "       [43.82143844, 76.50960952, 56.56420012,  8.49041632],\n",
       "       [58.26710879, 81.48437029, 33.70663834, 92.75765796],\n",
       "       [75.07170003, 57.40638251, 75.16439888,  7.91489607],\n",
       "       [85.93890757, 82.15041132, 90.98716596, 12.86311975],\n",
       "       [ 8.17800871, 13.84155728, 39.93787101, 42.43068611],\n",
       "       [56.22183787, 12.22435496, 20.13995014, 81.16443483],\n",
       "       [46.79875741, 80.79382095,  0.74263785, 55.1592726 ],\n",
       "       [93.19321481, 58.21754591, 20.60957274, 71.77575623],\n",
       "       [37.89858497, 66.83839473,  2.93197229, 63.59003594],\n",
       "       [ 3.21979349, 74.47806551, 47.29130022, 12.17543555],\n",
       "       [54.26359258,  6.67744432, 65.33648714, 99.60863274],\n",
       "       [76.93973371, 57.37741137, 10.26352592, 69.98340748],\n",
       "       [66.11678673,  4.90971306, 79.22993018, 51.87165909],\n",
       "       [42.58676942, 78.81871736, 41.15692232, 48.10262755],\n",
       "       [18.16288427, 32.13188995, 84.55329966, 18.69037489],\n",
       "       [41.72910609, 98.90345074, 23.65998117, 91.68323329],\n",
       "       [91.83974678,  9.12963422, 46.36527249, 50.22163353],\n",
       "       [31.36689501,  4.73395372, 24.16856372,  9.55296416],\n",
       "       [23.82499057, 80.77910863, 89.49782879,  4.32228921],\n",
       "       [30.19468363, 98.05821986, 53.95048226, 62.63093617],\n",
       "       [ 0.55454084, 48.49094434, 98.83285346, 37.51855275],\n",
       "       [ 9.70381586, 46.19087616, 96.3004466 , 34.18306136],\n",
       "       [79.89227332, 79.88463312, 20.82482967, 44.33677018],\n",
       "       [71.56012752, 41.05197854, 19.10069554, 96.74943068],\n",
       "       [65.07503665, 86.54598515,  2.52423578, 26.69058148],\n",
       "       [50.20711003,  6.74486351, 99.30332611, 23.64623962],\n",
       "       [37.42921823, 21.40119149, 10.54458661, 23.24797856],\n",
       "       [30.06101355, 63.44422679, 28.12347815, 36.2276761 ],\n",
       "       [ 0.59428437, 36.57191259, 53.38859817, 16.20158371],\n",
       "       [59.74331084, 29.31524686, 63.20504948,  2.61966053],\n",
       "       [88.75934605,  1.61186304, 12.6958031 , 77.71624616],\n",
       "       [ 4.58952322, 71.09986936, 97.10461405, 87.16829331],\n",
       "       [71.01616513, 95.8509743 , 42.98133379, 87.28789143],\n",
       "       [35.5957668 , 92.97636529, 14.87776562, 94.00290149],\n",
       "       [83.27161973, 84.60548382, 12.39230099, 59.64868983],\n",
       "       [ 1.63924809, 72.11843661,  0.77375141,  8.48222774],\n",
       "       [22.54984105, 87.51245339, 36.3576318 , 53.99599352],\n",
       "       [56.81032138, 22.54633603, 57.2146768 , 66.0951795 ],\n",
       "       [29.82453933, 41.8626859 , 45.30889245, 93.23506615],\n",
       "       [58.74937475, 94.82523716, 55.60347538, 50.05614208],\n",
       "       [ 0.3532211 , 48.08890439, 92.74549986, 19.8365689 ],\n",
       "       [ 5.20911344, 40.67788935, 37.23964806, 85.71530579],\n",
       "       [ 2.66111156, 92.01492298, 68.0902999 , 90.42259941],\n",
       "       [60.75290708, 81.19533124, 33.55438735, 34.9566228 ],\n",
       "       [38.98742303, 75.47970816, 36.92911744, 24.22198065],\n",
       "       [93.76683568, 90.80110837, 34.87973161, 63.46380703],\n",
       "       [27.38422117, 20.61151287, 33.6339529 , 32.70998926],\n",
       "       [88.22761012, 82.23038147, 70.96232286, 95.93452253],\n",
       "       [42.25433531, 24.50330386, 11.73984372, 30.10533582],\n",
       "       [14.5263734 ,  9.21860974, 60.29321967, 36.41874498],\n",
       "       [56.45703426, 19.13357207, 67.69058597, 21.55054473],\n",
       "       [27.80235937, 74.17604221, 55.97378956, 33.48364129],\n",
       "       [54.29887825, 69.39847029, 91.21321215, 58.07132134],\n",
       "       [23.26863789, 74.66976308, 77.77690176, 20.0401315 ],\n",
       "       [82.05742197, 46.49348547, 77.97666621, 23.747822  ],\n",
       "       [33.25802697, 95.36971193, 65.78150731, 77.28778305],\n",
       "       [68.83743432, 20.43041178, 47.06887484, 80.89638727],\n",
       "       [67.50351269,  0.60278857,  8.74077427, 34.67947202],\n",
       "       [94.43655396, 49.1190481 , 27.01762674, 36.04237195],\n",
       "       [21.06526276, 42.12000572, 21.80354395, 84.57525073]])"
      ]
     },
     "execution_count": 15,
     "metadata": {},
     "output_type": "execute_result"
    }
   ],
   "source": [
    "# Escriba aquí su código\n",
    "np.random.seed(123)\n",
    "mat_01=np.array(np.random.uniform(0,100,400).reshape(100,4))\n",
    "# también se podría usar:\n",
    "# mat_01=np.random.uniform(0,100,(100,4)\n",
    "\n",
    "# veamos la matriz mat_01\n",
    "mat_01"
   ]
  },
  {
   "cell_type": "markdown",
   "metadata": {
    "colab_type": "text",
    "id": "7qfXJN3LiffK"
   },
   "source": [
    "Cuántos elmentos mayores a 50 hay en total?"
   ]
  },
  {
   "cell_type": "markdown",
   "metadata": {
    "colab_type": "text",
    "id": "KWc722MmieTq"
   },
   "source": [
    "Primero podríamos encontrar una matriz como mat_01 poblada por valores True o False según se cumpla la condición indicada:"
   ]
  },
  {
   "cell_type": "code",
   "execution_count": 16,
   "metadata": {
    "ExecuteTime": {
     "end_time": "2020-09-25T21:20:14.686316Z",
     "start_time": "2020-09-25T21:20:14.680331Z"
    },
    "colab": {
     "base_uri": "https://localhost:8080/",
     "height": 1000
    },
    "colab_type": "code",
    "id": "97kx832bYrER",
    "outputId": "f5e5623f-b8f9-49e9-9865-d51e17528995"
   },
   "outputs": [
    {
     "data": {
      "text/plain": [
       "array([[ True, False, False,  True],\n",
       "       [ True, False,  True,  True],\n",
       "       [False, False, False,  True],\n",
       "       [False, False, False,  True],\n",
       "       [False, False,  True,  True],\n",
       "       [ True,  True,  True,  True],\n",
       "       [ True, False, False, False],\n",
       "       [False,  True, False, False],\n",
       "       [False, False, False, False],\n",
       "       [False,  True,  True,  True],\n",
       "       [ True, False, False, False],\n",
       "       [ True, False, False,  True],\n",
       "       [ True,  True, False,  True],\n",
       "       [ True,  True, False, False],\n",
       "       [False,  True,  True,  True],\n",
       "       [ True,  True,  True,  True],\n",
       "       [ True, False,  True, False],\n",
       "       [False,  True, False,  True],\n",
       "       [ True,  True, False,  True],\n",
       "       [ True, False, False,  True],\n",
       "       [False,  True,  True, False],\n",
       "       [ True,  True, False, False],\n",
       "       [False, False,  True,  True],\n",
       "       [False,  True,  True,  True],\n",
       "       [False, False, False, False],\n",
       "       [ True,  True, False, False],\n",
       "       [False,  True,  True,  True],\n",
       "       [ True, False, False, False],\n",
       "       [False,  True, False,  True],\n",
       "       [ True,  True, False,  True],\n",
       "       [ True, False, False,  True],\n",
       "       [ True,  True, False,  True],\n",
       "       [ True, False,  True, False],\n",
       "       [ True,  True,  True, False],\n",
       "       [False, False, False,  True],\n",
       "       [False, False,  True,  True],\n",
       "       [False,  True,  True, False],\n",
       "       [ True,  True, False,  True],\n",
       "       [False, False,  True, False],\n",
       "       [ True,  True,  True, False],\n",
       "       [False,  True,  True, False],\n",
       "       [ True,  True, False,  True],\n",
       "       [ True,  True,  True, False],\n",
       "       [ True,  True,  True, False],\n",
       "       [False, False, False, False],\n",
       "       [ True, False, False,  True],\n",
       "       [False,  True, False,  True],\n",
       "       [ True,  True, False,  True],\n",
       "       [False,  True, False,  True],\n",
       "       [False,  True, False, False],\n",
       "       [ True, False,  True,  True],\n",
       "       [ True,  True, False,  True],\n",
       "       [ True, False,  True,  True],\n",
       "       [False,  True, False, False],\n",
       "       [False, False,  True, False],\n",
       "       [False,  True, False,  True],\n",
       "       [ True, False, False,  True],\n",
       "       [False, False, False, False],\n",
       "       [False,  True,  True, False],\n",
       "       [False,  True,  True,  True],\n",
       "       [False, False,  True, False],\n",
       "       [False, False,  True, False],\n",
       "       [ True,  True, False, False],\n",
       "       [ True, False, False,  True],\n",
       "       [ True,  True, False, False],\n",
       "       [ True, False,  True, False],\n",
       "       [False, False, False, False],\n",
       "       [False,  True, False, False],\n",
       "       [False, False,  True, False],\n",
       "       [ True, False,  True, False],\n",
       "       [ True, False, False,  True],\n",
       "       [False,  True,  True,  True],\n",
       "       [ True,  True, False,  True],\n",
       "       [False,  True, False,  True],\n",
       "       [ True,  True, False,  True],\n",
       "       [False,  True, False, False],\n",
       "       [False,  True, False,  True],\n",
       "       [ True, False,  True,  True],\n",
       "       [False, False, False,  True],\n",
       "       [ True,  True,  True,  True],\n",
       "       [False, False,  True, False],\n",
       "       [False, False, False,  True],\n",
       "       [False,  True,  True,  True],\n",
       "       [ True,  True, False, False],\n",
       "       [False,  True, False, False],\n",
       "       [ True,  True, False,  True],\n",
       "       [False, False, False, False],\n",
       "       [ True,  True,  True,  True],\n",
       "       [False, False, False, False],\n",
       "       [False, False,  True, False],\n",
       "       [ True, False,  True, False],\n",
       "       [False,  True,  True, False],\n",
       "       [ True,  True,  True,  True],\n",
       "       [False,  True,  True, False],\n",
       "       [ True, False,  True, False],\n",
       "       [False,  True,  True,  True],\n",
       "       [ True, False, False,  True],\n",
       "       [ True, False, False, False],\n",
       "       [ True, False, False, False],\n",
       "       [False, False, False,  True]])"
      ]
     },
     "execution_count": 16,
     "metadata": {},
     "output_type": "execute_result"
    }
   ],
   "source": [
    "# Escriba aquí su código\n",
    "mat_01>50"
   ]
  },
  {
   "cell_type": "markdown",
   "metadata": {
    "colab_type": "text",
    "id": "TFrJYBvpjk11"
   },
   "source": [
    "**Use np.sum()**  \n",
    "np.sum(array, axis=\"eje por el que desea sumar\")  \n",
    "\n",
    "- Si omite axis entonces suma **todos** los elementos\n",
    "- axis=0 suma por columnas\n",
    "- axis= 1 suma por filas\n"
   ]
  },
  {
   "cell_type": "code",
   "execution_count": 17,
   "metadata": {
    "ExecuteTime": {
     "end_time": "2020-09-25T21:20:14.815977Z",
     "start_time": "2020-09-25T21:20:14.810984Z"
    },
    "colab": {
     "base_uri": "https://localhost:8080/",
     "height": 34
    },
    "colab_type": "code",
    "id": "7v9TFZL9iu8r",
    "outputId": "d7f57fbe-74e9-428e-8848-fcd04942193c"
   },
   "outputs": [
    {
     "data": {
      "text/plain": [
       "199"
      ]
     },
     "execution_count": 17,
     "metadata": {},
     "output_type": "execute_result"
    }
   ],
   "source": [
    "# Escriba aqui su código\n",
    "np.sum(mat_01>50)"
   ]
  },
  {
   "cell_type": "markdown",
   "metadata": {
    "colab_type": "text",
    "id": "cKD9-to9k-E2"
   },
   "source": [
    "Ejercicio:  \n",
    "\n",
    "Cuántos elementos mayores que 50 hay en cada columna?"
   ]
  },
  {
   "cell_type": "code",
   "execution_count": 18,
   "metadata": {
    "ExecuteTime": {
     "end_time": "2020-09-25T21:20:14.981198Z",
     "start_time": "2020-09-25T21:20:14.975215Z"
    },
    "colab": {
     "base_uri": "https://localhost:8080/",
     "height": 34
    },
    "colab_type": "code",
    "id": "yukjfVEmk9fb",
    "outputId": "f751275e-866c-4091-f6f6-a69ad736c8f1"
   },
   "outputs": [
    {
     "data": {
      "text/plain": [
       "array([50, 53, 43, 53])"
      ]
     },
     "execution_count": 18,
     "metadata": {},
     "output_type": "execute_result"
    }
   ],
   "source": [
    "# Escriba aqui su código\n",
    "np.sum(mat_01>50,axis=0)"
   ]
  },
  {
   "cell_type": "markdown",
   "metadata": {
    "colab_type": "text",
    "id": "6GlDjtHolPPi"
   },
   "source": [
    "Ejercicio:  \n",
    "\n",
    "Y cuántos en cada fila?"
   ]
  },
  {
   "cell_type": "code",
   "execution_count": 19,
   "metadata": {
    "ExecuteTime": {
     "end_time": "2020-09-25T21:20:15.125811Z",
     "start_time": "2020-09-25T21:20:15.118832Z"
    },
    "colab": {
     "base_uri": "https://localhost:8080/",
     "height": 102
    },
    "colab_type": "code",
    "id": "hg0meSOOlUjn",
    "outputId": "9597bf51-2e9f-4637-c37c-ae81eef1c7a1"
   },
   "outputs": [
    {
     "data": {
      "text/plain": [
       "array([2, 3, 1, 1, 2, 4, 1, 1, 0, 3, 1, 2, 3, 2, 3, 4, 2, 2, 3, 2, 2, 2,\n",
       "       2, 3, 0, 2, 3, 1, 2, 3, 2, 3, 2, 3, 1, 2, 2, 3, 1, 3, 2, 3, 3, 3,\n",
       "       0, 2, 2, 3, 2, 1, 3, 3, 3, 1, 1, 2, 2, 0, 2, 3, 1, 1, 2, 2, 2, 2,\n",
       "       0, 1, 1, 2, 2, 3, 3, 2, 3, 1, 2, 3, 1, 4, 1, 1, 3, 2, 1, 3, 0, 4,\n",
       "       0, 1, 2, 2, 4, 2, 2, 3, 2, 1, 1, 1])"
      ]
     },
     "execution_count": 19,
     "metadata": {},
     "output_type": "execute_result"
    }
   ],
   "source": [
    "# Escriba aqui su código\n",
    "np.sum(mat_01>50,axis=1)"
   ]
  },
  {
   "cell_type": "markdown",
   "metadata": {},
   "source": [
    "**Ejercicio:**  \n",
    "Cuántos elementos mayores que 20 y menores o iguales que 50 tiene mat_01?"
   ]
  },
  {
   "cell_type": "markdown",
   "metadata": {},
   "source": [
    "Podemos resolverlo por partes: \n",
    "\n",
    "- Primero podemos buscar qué elementos de mat_01 verifican o no las dos condiciones indicadas"
   ]
  },
  {
   "cell_type": "code",
   "execution_count": 20,
   "metadata": {
    "ExecuteTime": {
     "end_time": "2020-09-25T21:20:15.412319Z",
     "start_time": "2020-09-25T21:20:15.405338Z"
    }
   },
   "outputs": [
    {
     "data": {
      "text/plain": [
       "array([[False,  True,  True, False],\n",
       "       [False,  True, False, False],\n",
       "       [ True,  True,  True, False],\n",
       "       [ True, False,  True, False],\n",
       "       [False, False, False, False],\n",
       "       [False, False, False, False],\n",
       "       [False,  True,  True,  True],\n",
       "       [ True, False, False,  True],\n",
       "       [ True,  True,  True,  True],\n",
       "       [ True, False, False, False],\n",
       "       [False, False,  True,  True],\n",
       "       [False,  True,  True, False],\n",
       "       [False, False, False, False],\n",
       "       [False, False,  True,  True],\n",
       "       [ True, False, False, False],\n",
       "       [False, False, False, False],\n",
       "       [False, False, False,  True],\n",
       "       [False, False, False, False],\n",
       "       [False, False, False, False],\n",
       "       [False, False, False, False],\n",
       "       [ True, False, False,  True],\n",
       "       [False, False,  True, False],\n",
       "       [ True,  True, False, False],\n",
       "       [ True, False, False, False],\n",
       "       [False,  True,  True,  True],\n",
       "       [False, False, False, False],\n",
       "       [ True, False, False, False],\n",
       "       [False,  True,  True,  True],\n",
       "       [False, False,  True, False],\n",
       "       [False, False, False, False],\n",
       "       [False,  True,  True, False],\n",
       "       [False, False,  True, False],\n",
       "       [False,  True, False, False],\n",
       "       [False, False, False, False],\n",
       "       [ True,  True,  True, False],\n",
       "       [False,  True, False, False],\n",
       "       [ True, False, False, False],\n",
       "       [False, False, False, False],\n",
       "       [ True,  True, False, False],\n",
       "       [False, False, False,  True],\n",
       "       [ True, False, False, False],\n",
       "       [False, False,  True, False],\n",
       "       [False, False, False, False],\n",
       "       [False, False, False, False],\n",
       "       [False, False,  True,  True],\n",
       "       [False, False,  True, False],\n",
       "       [ True, False, False, False],\n",
       "       [False, False,  True, False],\n",
       "       [ True, False, False, False],\n",
       "       [False, False,  True, False],\n",
       "       [False, False, False, False],\n",
       "       [False, False, False, False],\n",
       "       [False, False, False, False],\n",
       "       [ True, False,  True,  True],\n",
       "       [False,  True, False, False],\n",
       "       [ True, False,  True, False],\n",
       "       [False, False,  True, False],\n",
       "       [ True, False,  True, False],\n",
       "       [ True, False, False, False],\n",
       "       [ True, False, False, False],\n",
       "       [False,  True, False,  True],\n",
       "       [False,  True, False,  True],\n",
       "       [False, False,  True,  True],\n",
       "       [False,  True, False, False],\n",
       "       [False, False, False,  True],\n",
       "       [False, False, False,  True],\n",
       "       [ True,  True, False,  True],\n",
       "       [ True, False,  True,  True],\n",
       "       [False,  True, False, False],\n",
       "       [False,  True, False, False],\n",
       "       [False, False, False, False],\n",
       "       [False, False, False, False],\n",
       "       [False, False,  True, False],\n",
       "       [ True, False, False, False],\n",
       "       [False, False, False, False],\n",
       "       [False, False, False, False],\n",
       "       [ True, False,  True, False],\n",
       "       [False,  True, False, False],\n",
       "       [ True,  True,  True, False],\n",
       "       [False, False, False, False],\n",
       "       [False,  True, False, False],\n",
       "       [False,  True,  True, False],\n",
       "       [False, False, False, False],\n",
       "       [False, False,  True,  True],\n",
       "       [ True, False,  True,  True],\n",
       "       [False, False,  True, False],\n",
       "       [ True,  True,  True,  True],\n",
       "       [False, False, False, False],\n",
       "       [ True,  True, False,  True],\n",
       "       [False, False, False,  True],\n",
       "       [False, False, False,  True],\n",
       "       [ True, False, False,  True],\n",
       "       [False, False, False, False],\n",
       "       [ True, False, False,  True],\n",
       "       [False,  True, False,  True],\n",
       "       [ True, False, False, False],\n",
       "       [False,  True,  True, False],\n",
       "       [False, False, False,  True],\n",
       "       [False,  True,  True,  True],\n",
       "       [ True,  True,  True, False]])"
      ]
     },
     "execution_count": 20,
     "metadata": {},
     "output_type": "execute_result"
    }
   ],
   "source": [
    "# Escriba aqui su código\n",
    "np.logical_and(mat_01>20,mat_01<=50)\n"
   ]
  },
  {
   "cell_type": "markdown",
   "metadata": {},
   "source": [
    "2- Luego podemos \"sumar los True\""
   ]
  },
  {
   "cell_type": "code",
   "execution_count": 21,
   "metadata": {
    "ExecuteTime": {
     "end_time": "2020-09-25T21:20:15.543486Z",
     "start_time": "2020-09-25T21:20:15.536506Z"
    }
   },
   "outputs": [
    {
     "data": {
      "text/plain": [
       "131"
      ]
     },
     "execution_count": 21,
     "metadata": {},
     "output_type": "execute_result"
    }
   ],
   "source": [
    "# Escriba aqui su código\n",
    "np.sum(np.logical_and(mat_01>20,mat_01<=50))"
   ]
  },
  {
   "cell_type": "markdown",
   "metadata": {},
   "source": [
    "Cuántos elementos mayores a 20 y menores o iguales a 50 hay en cada columna?"
   ]
  },
  {
   "cell_type": "code",
   "execution_count": 22,
   "metadata": {
    "ExecuteTime": {
     "end_time": "2020-09-25T21:20:15.679951Z",
     "start_time": "2020-09-25T21:20:15.672969Z"
    }
   },
   "outputs": [
    {
     "data": {
      "text/plain": [
       "array([33, 31, 37, 30])"
      ]
     },
     "execution_count": 22,
     "metadata": {},
     "output_type": "execute_result"
    }
   ],
   "source": [
    "# Escriba aqui su código\n",
    "np.sum(np.logical_and(mat_01>20,mat_01<=50),axis=0)"
   ]
  },
  {
   "cell_type": "markdown",
   "metadata": {},
   "source": [
    "y cuántos en cada fila?"
   ]
  },
  {
   "cell_type": "code",
   "execution_count": 23,
   "metadata": {
    "ExecuteTime": {
     "end_time": "2020-09-25T21:20:15.797638Z",
     "start_time": "2020-09-25T21:20:15.790654Z"
    }
   },
   "outputs": [
    {
     "data": {
      "text/plain": [
       "array([2, 1, 3, 2, 0, 0, 3, 2, 4, 1, 2, 2, 0, 2, 1, 0, 1, 0, 0, 0, 2, 1,\n",
       "       2, 1, 3, 0, 1, 3, 1, 0, 2, 1, 1, 0, 3, 1, 1, 0, 2, 1, 1, 1, 0, 0,\n",
       "       2, 1, 1, 1, 1, 1, 0, 0, 0, 3, 1, 2, 1, 2, 1, 1, 2, 2, 2, 1, 1, 1,\n",
       "       3, 3, 1, 1, 0, 0, 1, 1, 0, 0, 2, 1, 3, 0, 1, 2, 0, 2, 3, 1, 4, 0,\n",
       "       3, 1, 1, 2, 0, 2, 2, 1, 2, 1, 3, 3])"
      ]
     },
     "execution_count": 23,
     "metadata": {},
     "output_type": "execute_result"
    }
   ],
   "source": [
    "# Escriba aqui su código\n",
    "np.sum(np.logical_and(mat_01>20,mat_01<=50),axis=1)"
   ]
  },
  {
   "cell_type": "markdown",
   "metadata": {},
   "source": [
    "## Funciones de agregados de datos (por fila, por columna, etc) de NumPy"
   ]
  },
  {
   "cell_type": "markdown",
   "metadata": {
    "colab_type": "text",
    "id": "riUCBL-Tm5R6"
   },
   "source": [
    "Este tipo funciones que se aplican a las filas o columnas son muy utilizadas. \n",
    "\n",
    "Ya hemos utilizado una, **np.sum()**, otras que pueden ser de utilidad son:\n",
    "\n",
    "- np.sum()\n",
    "- np.min()\n",
    "- np.argmin() ojo sólo devuelve la primer ocurrencia\n",
    "- np.max()\n",
    "- np.argmax()ojo sólo devuelve la primer ocurrencia\n",
    "- np.mean()       \n",
    "- np.median()\n",
    "\n",
    "> Puede buscar su sintaxis en el manual de NumPy https://docs.scipy.org/doc/numpy/index.html reemplazando np por numpy  \n",
    "\n",
    "\n",
    "**Nota** también puede usarse la sintaxis array.funcion(), por ejemplo para calcular el menor valor en el array A, podemos usar:  \n",
    "- np.min(A)\n",
    "- A.min()\n",
    "\n"
   ]
  },
  {
   "cell_type": "markdown",
   "metadata": {},
   "source": [
    "**Ejercicios**"
   ]
  },
  {
   "cell_type": "markdown",
   "metadata": {},
   "source": [
    "Cuál es el menor valor que tiene la matriz mat_01?"
   ]
  },
  {
   "cell_type": "code",
   "execution_count": 24,
   "metadata": {
    "ExecuteTime": {
     "end_time": "2020-09-25T21:20:16.333131Z",
     "start_time": "2020-09-25T21:20:16.327148Z"
    },
    "colab": {
     "base_uri": "https://localhost:8080/",
     "height": 34
    },
    "colab_type": "code",
    "id": "vdIATtZwl9JT",
    "outputId": "860cf774-2325-4800-e515-6ad8763c7ba7"
   },
   "outputs": [
    {
     "data": {
      "text/plain": [
       "0.2688064574320692"
      ]
     },
     "execution_count": 24,
     "metadata": {},
     "output_type": "execute_result"
    }
   ],
   "source": [
    "# Escriba aqui su código\n",
    "np.min(mat_01)"
   ]
  },
  {
   "cell_type": "markdown",
   "metadata": {},
   "source": [
    "Cuál es el menor valor de cada una de las columnas de mat_01?"
   ]
  },
  {
   "cell_type": "code",
   "execution_count": 25,
   "metadata": {
    "ExecuteTime": {
     "end_time": "2020-09-25T21:20:16.467774Z",
     "start_time": "2020-09-25T21:20:16.460791Z"
    }
   },
   "outputs": [
    {
     "data": {
      "text/plain": [
       "array([0.3532211 , 0.60278857, 0.26880646, 2.61966053])"
      ]
     },
     "execution_count": 25,
     "metadata": {},
     "output_type": "execute_result"
    }
   ],
   "source": [
    "# Escriba aqui su código\n",
    "np.min(mat_01,axis=0)"
   ]
  },
  {
   "cell_type": "markdown",
   "metadata": {},
   "source": [
    "El menor valor de cada fila de mat_01?"
   ]
  },
  {
   "cell_type": "code",
   "execution_count": 26,
   "metadata": {
    "ExecuteTime": {
     "end_time": "2020-09-25T21:20:16.589445Z",
     "start_time": "2020-09-25T21:20:16.581467Z"
    }
   },
   "outputs": [
    {
     "data": {
      "text/plain": [
       "array([22.68514536, 42.31064601, 34.31780162,  5.96778966, 17.54517561,\n",
       "       61.10235107, 22.82632309,  9.21049399, 31.2261223 , 42.6351307 ,\n",
       "       11.56183951, 25.04553654, 12.0628666 , 30.4120789 , 41.7022211 ,\n",
       "       58.59365526,  8.31949883,  9.57125166,  1.61292067, 15.30705151,\n",
       "       31.87664264,  4.35914638, 30.47680734, 35.59148657, 15.11274523,\n",
       "       10.59084851, 32.19806065, 31.67878971, 17.10818292,  0.26880646,\n",
       "       20.76358612, 25.75420642, 16.10690144,  7.93657904, 20.45428595,\n",
       "        9.33267104,  4.85790328, 16.59378842, 11.13921716, 44.03278767,\n",
       "        8.49041632, 33.70663834,  7.91489607, 12.86311975,  8.17800871,\n",
       "       12.22435496,  0.74263785, 20.60957274,  2.93197229,  3.21979349,\n",
       "        6.67744432, 10.26352592,  4.90971306, 41.15692232, 18.16288427,\n",
       "       23.65998117,  9.12963422,  4.73395372,  4.32228921, 30.19468363,\n",
       "        0.55454084,  9.70381586, 20.82482967, 19.10069554,  2.52423578,\n",
       "        6.74486351, 10.54458661, 28.12347815,  0.59428437,  2.61966053,\n",
       "        1.61186304,  4.58952322, 42.98133379, 14.87776562, 12.39230099,\n",
       "        0.77375141, 22.54984105, 22.54633603, 29.82453933, 50.05614208,\n",
       "        0.3532211 ,  5.20911344,  2.66111156, 33.55438735, 24.22198065,\n",
       "       34.87973161, 20.61151287, 70.96232286, 11.73984372,  9.21860974,\n",
       "       19.13357207, 27.80235937, 54.29887825, 20.0401315 , 23.747822  ,\n",
       "       33.25802697, 20.43041178,  0.60278857, 27.01762674, 21.06526276])"
      ]
     },
     "execution_count": 26,
     "metadata": {},
     "output_type": "execute_result"
    }
   ],
   "source": [
    "# Escriba aqui su código\n",
    "np.min(mat_01,axis=1)"
   ]
  },
  {
   "cell_type": "markdown",
   "metadata": {},
   "source": [
    "Cuál es el promedio de cada columna de mat-01?"
   ]
  },
  {
   "cell_type": "code",
   "execution_count": 27,
   "metadata": {
    "ExecuteTime": {
     "end_time": "2020-09-25T21:20:16.756001Z",
     "start_time": "2020-09-25T21:20:16.750019Z"
    }
   },
   "outputs": [
    {
     "data": {
      "text/plain": [
       "array([48.75815882, 53.31766478, 46.74322832, 49.90467411])"
      ]
     },
     "execution_count": 27,
     "metadata": {},
     "output_type": "execute_result"
    }
   ],
   "source": [
    "# Escriba aqui su código\n",
    "np.mean(mat_01,axis=0)"
   ]
  },
  {
   "cell_type": "markdown",
   "metadata": {},
   "source": [
    "y el promedio de cada fila?"
   ]
  },
  {
   "cell_type": "code",
   "execution_count": 28,
   "metadata": {
    "ExecuteTime": {
     "end_time": "2020-09-25T21:20:16.933527Z",
     "start_time": "2020-09-25T21:20:16.926544Z"
    }
   },
   "outputs": [
    {
     "data": {
      "text/plain": [
       "array([44.01936858, 70.20423417, 48.63192858, 40.85724506, 35.53306119,\n",
       "       70.4827897 , 40.88635457, 36.26240707, 41.56598436, 69.1434291 ,\n",
       "       36.79207602, 64.63396433, 51.98372779, 44.87531894, 62.1050539 ,\n",
       "       63.87107222, 48.32216605, 43.69298152, 49.03066041, 39.10862201,\n",
       "       48.85176364, 54.19478793, 60.0817767 , 60.08353487, 28.35789142,\n",
       "       35.4139035 , 59.58271283, 47.75857179, 47.28088462, 52.27795028,\n",
       "       48.13692507, 67.68608412, 52.33701971, 63.23626064, 40.78225493,\n",
       "       47.16938644, 50.03447933, 62.37191414, 34.24150018, 67.23420966,\n",
       "       46.3464161 , 66.55394384, 53.88934438, 67.98490115, 26.09703078,\n",
       "       42.43764445, 45.8736222 , 60.94902242, 42.81474698, 34.29114869,\n",
       "       56.47153919, 53.64101962, 50.53202227, 52.66625916, 38.38461219,\n",
       "       63.99394282, 49.38907176, 17.45559415, 49.6060543 , 61.20858048,\n",
       "       46.34922285, 46.59454999, 56.23462657, 57.11555807, 45.20895976,\n",
       "       44.97538482, 23.15574372, 39.46409865, 26.68909471, 38.72081693,\n",
       "       45.19581459, 64.99057499, 74.28409116, 59.3631998 , 59.97952359,\n",
       "       20.75341596, 50.10397994, 50.66662843, 52.55779596, 64.80855734,\n",
       "       40.25604856, 42.21048916, 63.29723346, 52.61481212, 43.90455732,\n",
       "       70.72787067, 28.58491905, 84.33870924, 27.15070468, 30.11423695,\n",
       "       41.20793426, 47.85895811, 68.24547051, 48.93885855, 57.56884891,\n",
       "       67.92425732, 54.30827706, 27.88163689, 51.65390019, 42.39101579])"
      ]
     },
     "execution_count": 28,
     "metadata": {},
     "output_type": "execute_result"
    }
   ],
   "source": [
    "# Escriba aqui su código\n",
    "np.mean(mat_01,axis=1)"
   ]
  },
  {
   "cell_type": "markdown",
   "metadata": {},
   "source": [
    "y el promedio de toda la matriz?"
   ]
  },
  {
   "cell_type": "code",
   "execution_count": 29,
   "metadata": {
    "ExecuteTime": {
     "end_time": "2020-09-25T21:20:17.099476Z",
     "start_time": "2020-09-25T21:20:17.094513Z"
    }
   },
   "outputs": [
    {
     "data": {
      "text/plain": [
       "49.68093150915836"
      ]
     },
     "execution_count": 29,
     "metadata": {},
     "output_type": "execute_result"
    }
   ],
   "source": [
    "# Escriba aqui su código\n",
    "np.mean(mat_01)"
   ]
  },
  {
   "cell_type": "markdown",
   "metadata": {},
   "source": [
    "Cuántos elementos de mat_01 se encuentran por sobre el promedio?"
   ]
  },
  {
   "cell_type": "code",
   "execution_count": 30,
   "metadata": {
    "ExecuteTime": {
     "end_time": "2020-09-25T21:20:17.235134Z",
     "start_time": "2020-09-25T21:20:17.228153Z"
    }
   },
   "outputs": [
    {
     "data": {
      "text/plain": [
       "199"
      ]
     },
     "execution_count": 30,
     "metadata": {},
     "output_type": "execute_result"
    }
   ],
   "source": [
    "# Escriba aqui su código\n",
    "np.sum(mat_01>np.mean(mat_01))"
   ]
  },
  {
   "cell_type": "markdown",
   "metadata": {},
   "source": [
    "y cuántos por debajo del promedio?"
   ]
  },
  {
   "cell_type": "code",
   "execution_count": 31,
   "metadata": {
    "ExecuteTime": {
     "end_time": "2020-09-25T21:20:17.406674Z",
     "start_time": "2020-09-25T21:20:17.399700Z"
    }
   },
   "outputs": [
    {
     "data": {
      "text/plain": [
       "201"
      ]
     },
     "execution_count": 31,
     "metadata": {},
     "output_type": "execute_result"
    }
   ],
   "source": [
    "# Escriba aqui su código\n",
    "np.sum(mat_01<np.mean(mat_01))"
   ]
  },
  {
   "cell_type": "markdown",
   "metadata": {},
   "source": [
    "Se nota que los valores de mat_01 fueron obtenidos al azar y con una distribución uniforme, no es cierto?"
   ]
  },
  {
   "cell_type": "markdown",
   "metadata": {},
   "source": [
    "Para cuántas filas de mat_01 el promedio de sus valores es mayor o igual que el promedio de toda la matriz?"
   ]
  },
  {
   "cell_type": "code",
   "execution_count": 32,
   "metadata": {
    "ExecuteTime": {
     "end_time": "2020-09-25T21:20:17.686966Z",
     "start_time": "2020-09-25T21:20:17.680971Z"
    }
   },
   "outputs": [
    {
     "data": {
      "text/plain": [
       "47"
      ]
     },
     "execution_count": 32,
     "metadata": {},
     "output_type": "execute_result"
    }
   ],
   "source": [
    "# Escriba aqui su código\n",
    "np.sum(np.mean(mat_01,axis=1)>=np.mean(mat_01))"
   ]
  },
  {
   "cell_type": "markdown",
   "metadata": {},
   "source": [
    "Para cuántas columnas de mat_01 su promedio está por debajo del promedio de toda la matriz?"
   ]
  },
  {
   "cell_type": "code",
   "execution_count": 33,
   "metadata": {
    "ExecuteTime": {
     "end_time": "2020-09-25T21:20:17.855515Z",
     "start_time": "2020-09-25T21:20:17.849512Z"
    }
   },
   "outputs": [
    {
     "data": {
      "text/plain": [
       "2"
      ]
     },
     "execution_count": 33,
     "metadata": {},
     "output_type": "execute_result"
    }
   ],
   "source": [
    "# Escriba aqui su código\n",
    "np.sum(np.mean(mat_01,axis=0)<np.mean(mat_01))"
   ]
  },
  {
   "cell_type": "code",
   "execution_count": null,
   "metadata": {},
   "outputs": [],
   "source": []
  },
  {
   "cell_type": "code",
   "execution_count": null,
   "metadata": {},
   "outputs": [],
   "source": []
  },
  {
   "cell_type": "markdown",
   "metadata": {
    "colab_type": "text",
    "id": "_O-AHxZ3Y087"
   },
   "source": [
    "### Reemplazar valores en un array"
   ]
  },
  {
   "cell_type": "markdown",
   "metadata": {},
   "source": [
    "Creemos un vector como v1=(0,1,...10)"
   ]
  },
  {
   "cell_type": "code",
   "execution_count": 34,
   "metadata": {
    "ExecuteTime": {
     "end_time": "2020-09-25T21:20:18.135789Z",
     "start_time": "2020-09-25T21:20:18.130780Z"
    }
   },
   "outputs": [
    {
     "data": {
      "text/plain": [
       "array([ 0,  1,  2,  3,  4,  5,  6,  7,  8,  9, 10])"
      ]
     },
     "execution_count": 34,
     "metadata": {},
     "output_type": "execute_result"
    }
   ],
   "source": [
    "# Escriba aqui su código\n",
    "v1=np.array(np.arange(0,11,1))\n",
    "# muestre v1\n",
    "v1"
   ]
  },
  {
   "cell_type": "markdown",
   "metadata": {},
   "source": [
    "Reemplacemos el elemento de índice 3 elemento por el valor 7"
   ]
  },
  {
   "cell_type": "markdown",
   "metadata": {},
   "source": [
    "El reemplazo lo hacemos simplemente asignando el valor deseado"
   ]
  },
  {
   "cell_type": "code",
   "execution_count": 35,
   "metadata": {
    "ExecuteTime": {
     "end_time": "2020-09-25T21:20:18.420038Z",
     "start_time": "2020-09-25T21:20:18.413054Z"
    }
   },
   "outputs": [
    {
     "data": {
      "text/plain": [
       "array([ 0,  1,  2,  7,  4,  5,  6,  7,  8,  9, 10])"
      ]
     },
     "execution_count": 35,
     "metadata": {},
     "output_type": "execute_result"
    }
   ],
   "source": [
    "v1[3]=7\n",
    "v1"
   ]
  },
  {
   "cell_type": "markdown",
   "metadata": {},
   "source": [
    "Ahora reemplace los elementos que de índices 1,5 y 8 por el valor 7"
   ]
  },
  {
   "cell_type": "code",
   "execution_count": 36,
   "metadata": {
    "ExecuteTime": {
     "end_time": "2020-09-25T21:20:18.580282Z",
     "start_time": "2020-09-25T21:20:18.573625Z"
    }
   },
   "outputs": [
    {
     "data": {
      "text/plain": [
       "array([ 0,  7,  2,  7,  4,  7,  6,  7,  7,  9, 10])"
      ]
     },
     "execution_count": 36,
     "metadata": {},
     "output_type": "execute_result"
    }
   ],
   "source": [
    "# Escriba aqui su código\n",
    "v1[[1,5,8]]=7\n",
    "v1"
   ]
  },
  {
   "cell_type": "markdown",
   "metadata": {},
   "source": [
    "## EXPRESIONES VECTORIZADAS"
   ]
  },
  {
   "cell_type": "markdown",
   "metadata": {},
   "source": [
    "### where"
   ]
  },
  {
   "cell_type": "markdown",
   "metadata": {},
   "source": [
    "Una expresión que puede resultar de gran utilidad es  \n",
    "\n",
    "where()  \n",
    "https://docs.scipy.org/doc/numpy/reference/generated/numpy.where.html?highlight=numpy%20where#numpy.where\n",
    "\n",
    "Esencialmente su funcionamiento es where(condición, si es vardadera la condición, si es falsa la condición).  \n",
    "\n",
    "Se suele utilizar mucho para reemplazar valores en arrays:\n"
   ]
  },
  {
   "cell_type": "markdown",
   "metadata": {},
   "source": [
    "Ahora, cree un vector v2 que se obtiene reemplazando todos los elementos de v1 con valor 7 por el valor 12 y el resto deben que quedar sin modificar. "
   ]
  },
  {
   "cell_type": "code",
   "execution_count": 37,
   "metadata": {
    "ExecuteTime": {
     "end_time": "2020-09-25T21:20:19.221841Z",
     "start_time": "2020-09-25T21:20:19.215858Z"
    }
   },
   "outputs": [
    {
     "data": {
      "text/plain": [
       "array([ 0, 12,  2, 12,  4, 12,  6, 12, 12,  9, 10])"
      ]
     },
     "execution_count": 37,
     "metadata": {},
     "output_type": "execute_result"
    }
   ],
   "source": [
    "# Escriba aqui su código\n",
    "v2=np.where(v1==7,12,v1)\n",
    "\n",
    "# Muestre el vector v2 para estar seguros que lo hizo bien\n",
    "v2"
   ]
  },
  {
   "cell_type": "markdown",
   "metadata": {},
   "source": [
    "Ejercicio:\n",
    "Vamos a comenzar a pensar en nuestro Sistemas de Recomendaciones.  \n",
    "\n",
    "Supongamos que poseemos en un archivo csv los ratings dados a ciertas perlículas por nuestros usuarios.  \n",
    "\n",
    "- En este caso hemos organizado la información de tal manera que cada fila corresponde a un usuario y cada columna a una película.\n",
    "\n",
    "- Los ratings asignados van de 1 a 5, cuando figura un 0 es porque esa película no ha sido calificada por ese usuario."
   ]
  },
  {
   "cell_type": "markdown",
   "metadata": {},
   "source": [
    "1- Lea el archivo data/ratings_01.csv cuyo separador es el ; asígnele el nombre ratings"
   ]
  },
  {
   "cell_type": "code",
   "execution_count": 38,
   "metadata": {
    "ExecuteTime": {
     "end_time": "2020-09-25T21:20:19.570908Z",
     "start_time": "2020-09-25T21:20:19.564916Z"
    }
   },
   "outputs": [],
   "source": [
    "ratings=np.genfromtxt(\"data/ratings_01.csv\", delimiter=';')"
   ]
  },
  {
   "cell_type": "code",
   "execution_count": 39,
   "metadata": {
    "ExecuteTime": {
     "end_time": "2020-09-25T21:20:19.578878Z",
     "start_time": "2020-09-25T21:20:19.572893Z"
    }
   },
   "outputs": [
    {
     "data": {
      "text/plain": [
       "array([[5., 0., 4., 2., 3.],\n",
       "       [0., 1., 2., 2., 2.],\n",
       "       [1., 4., 0., 0., 0.],\n",
       "       [4., 3., 4., 2., 1.],\n",
       "       [2., 0., 4., 5., 3.],\n",
       "       [0., 0., 0., 5., 0.],\n",
       "       [2., 4., 3., 0., 2.],\n",
       "       [1., 0., 2., 0., 4.],\n",
       "       [2., 5., 4., 3., 0.],\n",
       "       [3., 0., 5., 4., 5.]])"
      ]
     },
     "execution_count": 39,
     "metadata": {},
     "output_type": "execute_result"
    }
   ],
   "source": [
    "ratings"
   ]
  },
  {
   "cell_type": "markdown",
   "metadata": {},
   "source": [
    "Cuántos usuarios y cuántas películas tenemos en la matriz?"
   ]
  },
  {
   "cell_type": "code",
   "execution_count": 40,
   "metadata": {
    "ExecuteTime": {
     "end_time": "2020-09-25T21:20:19.776938Z",
     "start_time": "2020-09-25T21:20:19.771950Z"
    }
   },
   "outputs": [
    {
     "data": {
      "text/plain": [
       "(10, 5)"
      ]
     },
     "execution_count": 40,
     "metadata": {},
     "output_type": "execute_result"
    }
   ],
   "source": [
    "# Escriba aqui su código\n",
    "ratings.shape"
   ]
  },
  {
   "cell_type": "markdown",
   "metadata": {},
   "source": [
    "Rta: 10 usuarios(filas) y 5 películas (columnas)"
   ]
  },
  {
   "cell_type": "markdown",
   "metadata": {},
   "source": [
    "En total cuántas calificaciones válidas hay? (asuma que no hay valores \"nan\" Not a Number)"
   ]
  },
  {
   "cell_type": "code",
   "execution_count": 41,
   "metadata": {
    "ExecuteTime": {
     "end_time": "2020-09-25T21:20:20.130343Z",
     "start_time": "2020-09-25T21:20:20.125356Z"
    }
   },
   "outputs": [
    {
     "data": {
      "text/plain": [
       "35"
      ]
     },
     "execution_count": 41,
     "metadata": {},
     "output_type": "execute_result"
    }
   ],
   "source": [
    "# Escriba aqui su código\n",
    "np.sum(ratings!=0)"
   ]
  },
  {
   "cell_type": "markdown",
   "metadata": {},
   "source": [
    "Cuántas calificaciones quedaron con valor 0, es decir sin calificar?"
   ]
  },
  {
   "cell_type": "code",
   "execution_count": 42,
   "metadata": {
    "ExecuteTime": {
     "end_time": "2020-09-25T21:20:20.294389Z",
     "start_time": "2020-09-25T21:20:20.287915Z"
    }
   },
   "outputs": [
    {
     "data": {
      "text/plain": [
       "15"
      ]
     },
     "execution_count": 42,
     "metadata": {},
     "output_type": "execute_result"
    }
   ],
   "source": [
    "# Escriba aqui su código\n",
    "np.sum(ratings==0)"
   ]
  },
  {
   "cell_type": "markdown",
   "metadata": {},
   "source": [
    "## CASO 1: Sistemas de Recomendación sin personalización"
   ]
  },
  {
   "cell_type": "markdown",
   "metadata": {},
   "source": [
    "Suponga que tiene que recomendar una película a un usuario totalmente nuevo, usted no tiene ningún dato sobre él, nunca ha calificado a ninguna película, nada; situación que se suele llamar \"arranque en frío\".  \n",
    "\n",
    "Qué película le recomendaría?  \n",
    "Aunque le parezca extremadamente simple, una respuesta podría ser: la que tenga mejor rating dado por el resto de lo usuarios.  \n",
    "Y cuál sería la película con el \"mejor rating\"?  \n",
    "Una respuesta podría ser la película que tuviera el mayor promedio de los ratings.  \n",
    "\n",
    "Manos a la obra, calcule el promedio de rankings para cada película."
   ]
  },
  {
   "cell_type": "markdown",
   "metadata": {},
   "source": [
    "Seguramente estará tentado de calcular el promedio para cada columna, pero tenemos el problema de que hemos asignado el valor 0 a los casos donde no tenemos rating ...  \n",
    "Lo ayudaré con éso.  \n",
    "Crearemos una matriz ratingsNAN que será igual que la matriz ratings, pero en la cual habremos reemplazado los 0 por nan (not a number), y éstos no se toman en consideración al efectuar los cálculos como el promedio, la suma o la mediana si usamos las funciones correctas..  \n",
    "\n",
    "1- Usará la función where  \n",
    "\n",
    "2- Para asignar el valor nan debe escribirlo como np.nan\n",
    "\n"
   ]
  },
  {
   "cell_type": "code",
   "execution_count": 43,
   "metadata": {
    "ExecuteTime": {
     "end_time": "2020-09-25T21:20:20.773837Z",
     "start_time": "2020-09-25T21:20:20.767817Z"
    }
   },
   "outputs": [
    {
     "data": {
      "text/plain": [
       "array([[ 5., nan,  4.,  2.,  3.],\n",
       "       [nan,  1.,  2.,  2.,  2.],\n",
       "       [ 1.,  4., nan, nan, nan],\n",
       "       [ 4.,  3.,  4.,  2.,  1.],\n",
       "       [ 2., nan,  4.,  5.,  3.],\n",
       "       [nan, nan, nan,  5., nan],\n",
       "       [ 2.,  4.,  3., nan,  2.],\n",
       "       [ 1., nan,  2., nan,  4.],\n",
       "       [ 2.,  5.,  4.,  3., nan],\n",
       "       [ 3., nan,  5.,  4.,  5.]])"
      ]
     },
     "execution_count": 43,
     "metadata": {},
     "output_type": "execute_result"
    }
   ],
   "source": [
    "# Escriba aqui su código\n",
    "ratingsNAN=np.where(ratings==0,np.nan,ratings)\n",
    "ratingsNAN\n",
    "\n",
    "# otra alternativa hubiera sido \n",
    "# ratingsNAN=ratings\n",
    "# ratingsNAN[ratingsNAN==0]=np.nan\n",
    "# ratingsNAN"
   ]
  },
  {
   "cell_type": "markdown",
   "metadata": {},
   "source": [
    "Si usa la función np.mean va a dar error por los valores nan que tenemos ahora en la matriz.  \n",
    "En este caso se debe usar:  \n",
    "\n",
    "**np.nanmean()**  \n",
    "\n",
    "También existe una función  \n",
    "- **np.nanmedian()** para calcular la mediana\n",
    "- **np.nansum()** para calcular la suma, etc\n",
    "\n",
    "Calcule ahora el promedio de calificaciones válidas para cada película."
   ]
  },
  {
   "cell_type": "code",
   "execution_count": 45,
   "metadata": {
    "ExecuteTime": {
     "end_time": "2020-09-25T21:20:43.138407Z",
     "start_time": "2020-09-25T21:20:43.131425Z"
    }
   },
   "outputs": [
    {
     "data": {
      "text/plain": [
       "array([2.5       , 3.4       , 3.5       , 3.28571429, 2.85714286])"
      ]
     },
     "execution_count": 45,
     "metadata": {},
     "output_type": "execute_result"
    }
   ],
   "source": [
    "# Escriba aqui su código\n",
    "promedios_pelis=np.nanmean(ratingsNAN,axis=0)\n",
    "promedios_pelis"
   ]
  },
  {
   "cell_type": "markdown",
   "metadata": {},
   "source": [
    "Calculemos el máximo valor entre estos promedios:"
   ]
  },
  {
   "cell_type": "code",
   "execution_count": 46,
   "metadata": {
    "ExecuteTime": {
     "end_time": "2020-09-25T21:20:53.366319Z",
     "start_time": "2020-09-25T21:20:53.361331Z"
    }
   },
   "outputs": [
    {
     "data": {
      "text/plain": [
       "3.5"
      ]
     },
     "execution_count": 46,
     "metadata": {},
     "output_type": "execute_result"
    }
   ],
   "source": [
    "# Escriba aqui su código\n",
    "np.max(promedios_pelis)"
   ]
  },
  {
   "cell_type": "markdown",
   "metadata": {},
   "source": [
    "Para el usuario absolutamente nuevo con arranque en frío, le podríamos recomendar una película con un rating promedio de 3.5 que sería la película con mejor calificación."
   ]
  },
  {
   "cell_type": "markdown",
   "metadata": {},
   "source": [
    "Qué índice tiene esta película? (ayuda use argmax()), pero tenga cuidado porque **sólo** devuelve el índice de la **primer** ocurrencia del valor, si aparece más veces el valor máximo, no sabremos dónde está!"
   ]
  },
  {
   "cell_type": "code",
   "execution_count": 47,
   "metadata": {
    "ExecuteTime": {
     "end_time": "2020-09-25T21:21:26.135400Z",
     "start_time": "2020-09-25T21:21:26.129431Z"
    }
   },
   "outputs": [
    {
     "data": {
      "text/plain": [
       "2"
      ]
     },
     "execution_count": 47,
     "metadata": {},
     "output_type": "execute_result"
    }
   ],
   "source": [
    "np.argmax(promedios_pelis)"
   ]
  },
  {
   "cell_type": "markdown",
   "metadata": {},
   "source": [
    "Ahora calculemos el promedio de ratings de cada usuario:"
   ]
  },
  {
   "cell_type": "code",
   "execution_count": 293,
   "metadata": {},
   "outputs": [
    {
     "data": {
      "text/plain": [
       "array([3.5       , 1.75      , 2.5       , 2.8       , 3.5       ,\n",
       "       5.        , 2.75      , 2.33333333, 3.5       , 4.25      ])"
      ]
     },
     "execution_count": 293,
     "metadata": {},
     "output_type": "execute_result"
    }
   ],
   "source": [
    "# Escriba aqui su código\n",
    "np.nanmean(ratingsNAN,axis=1)"
   ]
  },
  {
   "cell_type": "markdown",
   "metadata": {},
   "source": [
    "y también calcule el promedio de todos los ratings, guárdelo en la variable promedio"
   ]
  },
  {
   "cell_type": "code",
   "execution_count": 294,
   "metadata": {
    "scrolled": true
   },
   "outputs": [
    {
     "data": {
      "text/plain": [
       "3.085714285714286"
      ]
     },
     "execution_count": 294,
     "metadata": {},
     "output_type": "execute_result"
    }
   ],
   "source": [
    "# Escriba aqui su código\n",
    "promedio=np.nanmean(ratingsNAN)\n",
    "promedio"
   ]
  },
  {
   "cell_type": "markdown",
   "metadata": {},
   "source": [
    "## Guardar arrays de NumPy"
   ]
  },
  {
   "cell_type": "markdown",
   "metadata": {},
   "source": [
    "Ahora tenemos dos arrays que seguramente desearemos utilizar en otro momento, así que sería útil guardarlos como tales.  \n",
    "\n",
    "Para guardar nuestros arrays utilizaremos: \n",
    "\n",
    "- **np.save(path, array)**        https://docs.scipy.org/doc/numpy/reference/generated/numpy.save.html  \n",
    "\n",
    "En el link encontrará todas las opciones.  \n",
    "La extensión del archivo será **.npy**\n"
   ]
  },
  {
   "cell_type": "code",
   "execution_count": 300,
   "metadata": {},
   "outputs": [],
   "source": [
    "np.save(\"data/ratings\",ratings)"
   ]
  },
  {
   "cell_type": "code",
   "execution_count": 301,
   "metadata": {},
   "outputs": [],
   "source": [
    "np.save(\"data/ratingsNAN\",ratingsNAN)"
   ]
  },
  {
   "cell_type": "code",
   "execution_count": null,
   "metadata": {},
   "outputs": [],
   "source": []
  }
 ],
 "metadata": {
  "colab": {
   "collapsed_sections": [],
   "name": "Clase_04.ipynb",
   "provenance": [],
   "version": "0.3.2"
  },
  "hide_input": false,
  "kernelspec": {
   "display_name": "Python 3",
   "language": "python",
   "name": "python3"
  },
  "language_info": {
   "codemirror_mode": {
    "name": "ipython",
    "version": 3
   },
   "file_extension": ".py",
   "mimetype": "text/x-python",
   "name": "python",
   "nbconvert_exporter": "python",
   "pygments_lexer": "ipython3",
   "version": "3.8.5"
  },
  "toc": {
   "base_numbering": 1,
   "nav_menu": {},
   "number_sections": true,
   "sideBar": true,
   "skip_h1_title": true,
   "title_cell": "Tabla de Contenidos",
   "title_sidebar": "Contenidos",
   "toc_cell": true,
   "toc_position": {
    "height": "calc(100% - 180px)",
    "left": "10px",
    "top": "150px",
    "width": "165px"
   },
   "toc_section_display": true,
   "toc_window_display": true
  },
  "varInspector": {
   "cols": {
    "lenName": 16,
    "lenType": 16,
    "lenVar": 40
   },
   "kernels_config": {
    "python": {
     "delete_cmd_postfix": "",
     "delete_cmd_prefix": "del ",
     "library": "var_list.py",
     "varRefreshCmd": "print(var_dic_list())"
    },
    "r": {
     "delete_cmd_postfix": ") ",
     "delete_cmd_prefix": "rm(",
     "library": "var_list.r",
     "varRefreshCmd": "cat(var_dic_list()) "
    }
   },
   "types_to_exclude": [
    "module",
    "function",
    "builtin_function_or_method",
    "instance",
    "_Feature"
   ],
   "window_display": false
  }
 },
 "nbformat": 4,
 "nbformat_minor": 1
}
