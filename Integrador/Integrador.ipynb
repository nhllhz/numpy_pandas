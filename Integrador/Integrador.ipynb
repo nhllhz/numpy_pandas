{
 "cells": [
  {
   "cell_type": "markdown",
   "metadata": {
    "ExecuteTime": {
     "end_time": "2019-11-15T18:45:34.960163Z",
     "start_time": "2019-11-15T18:45:33.243419Z"
    }
   },
   "source": [
    "![IES21](img/logo_ies.png)\n"
   ]
  },
  {
   "cell_type": "markdown",
   "metadata": {},
   "source": [
    "# IEFI -  Computación Científica"
   ]
  },
  {
   "cell_type": "markdown",
   "metadata": {},
   "source": [
    "## EJERCICIOS"
   ]
  },
  {
   "cell_type": "markdown",
   "metadata": {},
   "source": [
    "En la siguiente celda importe todas las librerías que necesite, puede agregarlas a medida que las vaya necesitando. "
   ]
  },
  {
   "cell_type": "code",
   "execution_count": 2,
   "metadata": {
    "ExecuteTime": {
     "end_time": "2021-06-28T21:04:30.696568Z",
     "start_time": "2021-06-28T21:04:30.436205Z"
    }
   },
   "outputs": [],
   "source": [
    "import numpy as np\n",
    "import pandas as pd"
   ]
  },
  {
   "cell_type": "markdown",
   "metadata": {},
   "source": [
    "\n",
    "En la carpeta data encontrará el archivo movie.csv que contiene información real sobre películas. Cárguelo en un dataframe llamado **df_movies**."
   ]
  },
  {
   "cell_type": "code",
   "execution_count": 3,
   "metadata": {
    "ExecuteTime": {
     "end_time": "2021-06-28T21:04:30.700804Z",
     "start_time": "2021-06-28T21:04:30.698839Z"
    }
   },
   "outputs": [],
   "source": [
    "# Escriba aquí su código\n",
    "df_movies=pd.read_csv(\"data/movie.csv\")"
   ]
  },
  {
   "cell_type": "markdown",
   "metadata": {
    "ExecuteTime": {
     "end_time": "2019-11-15T18:52:31.300104Z",
     "start_time": "2019-11-15T18:52:31.178631Z"
    }
   },
   "source": [
    "Muestre las 10 primeras filas"
   ]
  },
  {
   "cell_type": "code",
   "execution_count": 4,
   "metadata": {
    "ExecuteTime": {
     "end_time": "2021-06-28T21:04:30.708521Z",
     "start_time": "2021-06-28T21:04:30.702306Z"
    },
    "scrolled": false
   },
   "outputs": [
    {
     "data": {
      "text/html": [
       "<div>\n",
       "<style scoped>\n",
       "    .dataframe tbody tr th:only-of-type {\n",
       "        vertical-align: middle;\n",
       "    }\n",
       "\n",
       "    .dataframe tbody tr th {\n",
       "        vertical-align: top;\n",
       "    }\n",
       "\n",
       "    .dataframe thead th {\n",
       "        text-align: right;\n",
       "    }\n",
       "</style>\n",
       "<table border=\"1\" class=\"dataframe\">\n",
       "  <thead>\n",
       "    <tr style=\"text-align: right;\">\n",
       "      <th></th>\n",
       "      <th>color</th>\n",
       "      <th>director_name</th>\n",
       "      <th>num_critic_for_reviews</th>\n",
       "      <th>duration</th>\n",
       "      <th>director_facebook_likes</th>\n",
       "      <th>actor_3_facebook_likes</th>\n",
       "      <th>actor_2_name</th>\n",
       "      <th>actor_1_facebook_likes</th>\n",
       "      <th>gross</th>\n",
       "      <th>genres</th>\n",
       "      <th>...</th>\n",
       "      <th>num_user_for_reviews</th>\n",
       "      <th>language</th>\n",
       "      <th>country</th>\n",
       "      <th>content_rating</th>\n",
       "      <th>budget</th>\n",
       "      <th>title_year</th>\n",
       "      <th>actor_2_facebook_likes</th>\n",
       "      <th>imdb_score</th>\n",
       "      <th>aspect_ratio</th>\n",
       "      <th>movie_facebook_likes</th>\n",
       "    </tr>\n",
       "  </thead>\n",
       "  <tbody>\n",
       "    <tr>\n",
       "      <th>0</th>\n",
       "      <td>Color</td>\n",
       "      <td>James Cameron</td>\n",
       "      <td>723.0</td>\n",
       "      <td>178.0</td>\n",
       "      <td>0.0</td>\n",
       "      <td>855.0</td>\n",
       "      <td>Joel David Moore</td>\n",
       "      <td>1000.0</td>\n",
       "      <td>760505847.0</td>\n",
       "      <td>Action|Adventure|Fantasy|Sci-Fi</td>\n",
       "      <td>...</td>\n",
       "      <td>3054.0</td>\n",
       "      <td>English</td>\n",
       "      <td>USA</td>\n",
       "      <td>PG-13</td>\n",
       "      <td>237000000.0</td>\n",
       "      <td>2009.0</td>\n",
       "      <td>936.0</td>\n",
       "      <td>7.9</td>\n",
       "      <td>1.78</td>\n",
       "      <td>33000</td>\n",
       "    </tr>\n",
       "    <tr>\n",
       "      <th>1</th>\n",
       "      <td>Color</td>\n",
       "      <td>Gore Verbinski</td>\n",
       "      <td>302.0</td>\n",
       "      <td>169.0</td>\n",
       "      <td>563.0</td>\n",
       "      <td>1000.0</td>\n",
       "      <td>Orlando Bloom</td>\n",
       "      <td>40000.0</td>\n",
       "      <td>309404152.0</td>\n",
       "      <td>Action|Adventure|Fantasy</td>\n",
       "      <td>...</td>\n",
       "      <td>1238.0</td>\n",
       "      <td>English</td>\n",
       "      <td>USA</td>\n",
       "      <td>PG-13</td>\n",
       "      <td>300000000.0</td>\n",
       "      <td>2007.0</td>\n",
       "      <td>5000.0</td>\n",
       "      <td>7.1</td>\n",
       "      <td>2.35</td>\n",
       "      <td>0</td>\n",
       "    </tr>\n",
       "    <tr>\n",
       "      <th>2</th>\n",
       "      <td>Color</td>\n",
       "      <td>Sam Mendes</td>\n",
       "      <td>602.0</td>\n",
       "      <td>148.0</td>\n",
       "      <td>0.0</td>\n",
       "      <td>161.0</td>\n",
       "      <td>Rory Kinnear</td>\n",
       "      <td>11000.0</td>\n",
       "      <td>200074175.0</td>\n",
       "      <td>Action|Adventure|Thriller</td>\n",
       "      <td>...</td>\n",
       "      <td>994.0</td>\n",
       "      <td>English</td>\n",
       "      <td>UK</td>\n",
       "      <td>PG-13</td>\n",
       "      <td>245000000.0</td>\n",
       "      <td>2015.0</td>\n",
       "      <td>393.0</td>\n",
       "      <td>6.8</td>\n",
       "      <td>2.35</td>\n",
       "      <td>85000</td>\n",
       "    </tr>\n",
       "    <tr>\n",
       "      <th>3</th>\n",
       "      <td>Color</td>\n",
       "      <td>Christopher Nolan</td>\n",
       "      <td>813.0</td>\n",
       "      <td>164.0</td>\n",
       "      <td>22000.0</td>\n",
       "      <td>23000.0</td>\n",
       "      <td>Christian Bale</td>\n",
       "      <td>27000.0</td>\n",
       "      <td>448130642.0</td>\n",
       "      <td>Action|Thriller</td>\n",
       "      <td>...</td>\n",
       "      <td>2701.0</td>\n",
       "      <td>English</td>\n",
       "      <td>USA</td>\n",
       "      <td>PG-13</td>\n",
       "      <td>250000000.0</td>\n",
       "      <td>2012.0</td>\n",
       "      <td>23000.0</td>\n",
       "      <td>8.5</td>\n",
       "      <td>2.35</td>\n",
       "      <td>164000</td>\n",
       "    </tr>\n",
       "    <tr>\n",
       "      <th>4</th>\n",
       "      <td>NaN</td>\n",
       "      <td>Doug Walker</td>\n",
       "      <td>NaN</td>\n",
       "      <td>NaN</td>\n",
       "      <td>131.0</td>\n",
       "      <td>NaN</td>\n",
       "      <td>Rob Walker</td>\n",
       "      <td>131.0</td>\n",
       "      <td>NaN</td>\n",
       "      <td>Documentary</td>\n",
       "      <td>...</td>\n",
       "      <td>NaN</td>\n",
       "      <td>NaN</td>\n",
       "      <td>NaN</td>\n",
       "      <td>NaN</td>\n",
       "      <td>NaN</td>\n",
       "      <td>NaN</td>\n",
       "      <td>12.0</td>\n",
       "      <td>7.1</td>\n",
       "      <td>NaN</td>\n",
       "      <td>0</td>\n",
       "    </tr>\n",
       "    <tr>\n",
       "      <th>5</th>\n",
       "      <td>Color</td>\n",
       "      <td>Andrew Stanton</td>\n",
       "      <td>462.0</td>\n",
       "      <td>132.0</td>\n",
       "      <td>475.0</td>\n",
       "      <td>530.0</td>\n",
       "      <td>Samantha Morton</td>\n",
       "      <td>640.0</td>\n",
       "      <td>73058679.0</td>\n",
       "      <td>Action|Adventure|Sci-Fi</td>\n",
       "      <td>...</td>\n",
       "      <td>738.0</td>\n",
       "      <td>English</td>\n",
       "      <td>USA</td>\n",
       "      <td>PG-13</td>\n",
       "      <td>263700000.0</td>\n",
       "      <td>2012.0</td>\n",
       "      <td>632.0</td>\n",
       "      <td>6.6</td>\n",
       "      <td>2.35</td>\n",
       "      <td>24000</td>\n",
       "    </tr>\n",
       "    <tr>\n",
       "      <th>6</th>\n",
       "      <td>Color</td>\n",
       "      <td>Sam Raimi</td>\n",
       "      <td>392.0</td>\n",
       "      <td>156.0</td>\n",
       "      <td>0.0</td>\n",
       "      <td>4000.0</td>\n",
       "      <td>James Franco</td>\n",
       "      <td>24000.0</td>\n",
       "      <td>336530303.0</td>\n",
       "      <td>Action|Adventure|Romance</td>\n",
       "      <td>...</td>\n",
       "      <td>1902.0</td>\n",
       "      <td>English</td>\n",
       "      <td>USA</td>\n",
       "      <td>PG-13</td>\n",
       "      <td>258000000.0</td>\n",
       "      <td>2007.0</td>\n",
       "      <td>11000.0</td>\n",
       "      <td>6.2</td>\n",
       "      <td>2.35</td>\n",
       "      <td>0</td>\n",
       "    </tr>\n",
       "    <tr>\n",
       "      <th>7</th>\n",
       "      <td>Color</td>\n",
       "      <td>Nathan Greno</td>\n",
       "      <td>324.0</td>\n",
       "      <td>100.0</td>\n",
       "      <td>15.0</td>\n",
       "      <td>284.0</td>\n",
       "      <td>Donna Murphy</td>\n",
       "      <td>799.0</td>\n",
       "      <td>200807262.0</td>\n",
       "      <td>Adventure|Animation|Comedy|Family|Fantasy|Musi...</td>\n",
       "      <td>...</td>\n",
       "      <td>387.0</td>\n",
       "      <td>English</td>\n",
       "      <td>USA</td>\n",
       "      <td>PG</td>\n",
       "      <td>260000000.0</td>\n",
       "      <td>2010.0</td>\n",
       "      <td>553.0</td>\n",
       "      <td>7.8</td>\n",
       "      <td>1.85</td>\n",
       "      <td>29000</td>\n",
       "    </tr>\n",
       "    <tr>\n",
       "      <th>8</th>\n",
       "      <td>Color</td>\n",
       "      <td>Joss Whedon</td>\n",
       "      <td>635.0</td>\n",
       "      <td>141.0</td>\n",
       "      <td>0.0</td>\n",
       "      <td>19000.0</td>\n",
       "      <td>Robert Downey Jr.</td>\n",
       "      <td>26000.0</td>\n",
       "      <td>458991599.0</td>\n",
       "      <td>Action|Adventure|Sci-Fi</td>\n",
       "      <td>...</td>\n",
       "      <td>1117.0</td>\n",
       "      <td>English</td>\n",
       "      <td>USA</td>\n",
       "      <td>PG-13</td>\n",
       "      <td>250000000.0</td>\n",
       "      <td>2015.0</td>\n",
       "      <td>21000.0</td>\n",
       "      <td>7.5</td>\n",
       "      <td>2.35</td>\n",
       "      <td>118000</td>\n",
       "    </tr>\n",
       "    <tr>\n",
       "      <th>9</th>\n",
       "      <td>Color</td>\n",
       "      <td>David Yates</td>\n",
       "      <td>375.0</td>\n",
       "      <td>153.0</td>\n",
       "      <td>282.0</td>\n",
       "      <td>10000.0</td>\n",
       "      <td>Daniel Radcliffe</td>\n",
       "      <td>25000.0</td>\n",
       "      <td>301956980.0</td>\n",
       "      <td>Adventure|Family|Fantasy|Mystery</td>\n",
       "      <td>...</td>\n",
       "      <td>973.0</td>\n",
       "      <td>English</td>\n",
       "      <td>UK</td>\n",
       "      <td>PG</td>\n",
       "      <td>250000000.0</td>\n",
       "      <td>2009.0</td>\n",
       "      <td>11000.0</td>\n",
       "      <td>7.5</td>\n",
       "      <td>2.35</td>\n",
       "      <td>10000</td>\n",
       "    </tr>\n",
       "  </tbody>\n",
       "</table>\n",
       "<p>10 rows × 28 columns</p>\n",
       "</div>"
      ],
      "text/plain": [
       "   color      director_name  num_critic_for_reviews  duration  \\\n",
       "0  Color      James Cameron                   723.0     178.0   \n",
       "1  Color     Gore Verbinski                   302.0     169.0   \n",
       "2  Color         Sam Mendes                   602.0     148.0   \n",
       "3  Color  Christopher Nolan                   813.0     164.0   \n",
       "4    NaN        Doug Walker                     NaN       NaN   \n",
       "5  Color     Andrew Stanton                   462.0     132.0   \n",
       "6  Color          Sam Raimi                   392.0     156.0   \n",
       "7  Color       Nathan Greno                   324.0     100.0   \n",
       "8  Color        Joss Whedon                   635.0     141.0   \n",
       "9  Color        David Yates                   375.0     153.0   \n",
       "\n",
       "   director_facebook_likes  actor_3_facebook_likes       actor_2_name  \\\n",
       "0                      0.0                   855.0   Joel David Moore   \n",
       "1                    563.0                  1000.0      Orlando Bloom   \n",
       "2                      0.0                   161.0       Rory Kinnear   \n",
       "3                  22000.0                 23000.0     Christian Bale   \n",
       "4                    131.0                     NaN         Rob Walker   \n",
       "5                    475.0                   530.0    Samantha Morton   \n",
       "6                      0.0                  4000.0       James Franco   \n",
       "7                     15.0                   284.0       Donna Murphy   \n",
       "8                      0.0                 19000.0  Robert Downey Jr.   \n",
       "9                    282.0                 10000.0   Daniel Radcliffe   \n",
       "\n",
       "   actor_1_facebook_likes        gross  \\\n",
       "0                  1000.0  760505847.0   \n",
       "1                 40000.0  309404152.0   \n",
       "2                 11000.0  200074175.0   \n",
       "3                 27000.0  448130642.0   \n",
       "4                   131.0          NaN   \n",
       "5                   640.0   73058679.0   \n",
       "6                 24000.0  336530303.0   \n",
       "7                   799.0  200807262.0   \n",
       "8                 26000.0  458991599.0   \n",
       "9                 25000.0  301956980.0   \n",
       "\n",
       "                                              genres  ...  \\\n",
       "0                    Action|Adventure|Fantasy|Sci-Fi  ...   \n",
       "1                           Action|Adventure|Fantasy  ...   \n",
       "2                          Action|Adventure|Thriller  ...   \n",
       "3                                    Action|Thriller  ...   \n",
       "4                                        Documentary  ...   \n",
       "5                            Action|Adventure|Sci-Fi  ...   \n",
       "6                           Action|Adventure|Romance  ...   \n",
       "7  Adventure|Animation|Comedy|Family|Fantasy|Musi...  ...   \n",
       "8                            Action|Adventure|Sci-Fi  ...   \n",
       "9                   Adventure|Family|Fantasy|Mystery  ...   \n",
       "\n",
       "  num_user_for_reviews language  country  content_rating       budget  \\\n",
       "0               3054.0  English      USA           PG-13  237000000.0   \n",
       "1               1238.0  English      USA           PG-13  300000000.0   \n",
       "2                994.0  English       UK           PG-13  245000000.0   \n",
       "3               2701.0  English      USA           PG-13  250000000.0   \n",
       "4                  NaN      NaN      NaN             NaN          NaN   \n",
       "5                738.0  English      USA           PG-13  263700000.0   \n",
       "6               1902.0  English      USA           PG-13  258000000.0   \n",
       "7                387.0  English      USA              PG  260000000.0   \n",
       "8               1117.0  English      USA           PG-13  250000000.0   \n",
       "9                973.0  English       UK              PG  250000000.0   \n",
       "\n",
       "   title_year actor_2_facebook_likes imdb_score  aspect_ratio  \\\n",
       "0      2009.0                  936.0        7.9          1.78   \n",
       "1      2007.0                 5000.0        7.1          2.35   \n",
       "2      2015.0                  393.0        6.8          2.35   \n",
       "3      2012.0                23000.0        8.5          2.35   \n",
       "4         NaN                   12.0        7.1           NaN   \n",
       "5      2012.0                  632.0        6.6          2.35   \n",
       "6      2007.0                11000.0        6.2          2.35   \n",
       "7      2010.0                  553.0        7.8          1.85   \n",
       "8      2015.0                21000.0        7.5          2.35   \n",
       "9      2009.0                11000.0        7.5          2.35   \n",
       "\n",
       "  movie_facebook_likes  \n",
       "0                33000  \n",
       "1                    0  \n",
       "2                85000  \n",
       "3               164000  \n",
       "4                    0  \n",
       "5                24000  \n",
       "6                    0  \n",
       "7                29000  \n",
       "8               118000  \n",
       "9                10000  \n",
       "\n",
       "[10 rows x 28 columns]"
      ]
     },
     "execution_count": 4,
     "metadata": {},
     "output_type": "execute_result"
    }
   ],
   "source": [
    "# Escriba aquí su código\n",
    "df_movies.head(10)"
   ]
  },
  {
   "cell_type": "markdown",
   "metadata": {},
   "source": [
    "### Ejercicio\n",
    "Obtenga una lista con los nombres de todas las columnas del dataframe, guárdelas con el nombre lst_columnas"
   ]
  },
  {
   "cell_type": "code",
   "execution_count": 5,
   "metadata": {
    "ExecuteTime": {
     "end_time": "2021-06-28T21:04:30.712458Z",
     "start_time": "2021-06-28T21:04:30.710331Z"
    }
   },
   "outputs": [
    {
     "data": {
      "text/plain": [
       "Index(['color', 'director_name', 'num_critic_for_reviews', 'duration',\n",
       "       'director_facebook_likes', 'actor_3_facebook_likes', 'actor_2_name',\n",
       "       'actor_1_facebook_likes', 'gross', 'genres', 'actor_1_name',\n",
       "       'movie_title', 'num_voted_users', 'cast_total_facebook_likes',\n",
       "       'actor_3_name', 'facenumber_in_poster', 'plot_keywords',\n",
       "       'movie_imdb_link', 'num_user_for_reviews', 'language', 'country',\n",
       "       'content_rating', 'budget', 'title_year', 'actor_2_facebook_likes',\n",
       "       'imdb_score', 'aspect_ratio', 'movie_facebook_likes'],\n",
       "      dtype='object')"
      ]
     },
     "execution_count": 5,
     "metadata": {},
     "output_type": "execute_result"
    }
   ],
   "source": [
    "# Escriba aquí su código\n",
    "lst_columns=df_movies.columns\n",
    "lst_columns\n"
   ]
  },
  {
   "cell_type": "markdown",
   "metadata": {},
   "source": [
    "### EJERCICIO\n",
    "Cuántas filas tiene el dataframe? Guarde el resultado en la variable n_filas y muestre el resultado"
   ]
  },
  {
   "cell_type": "code",
   "execution_count": 6,
   "metadata": {
    "ExecuteTime": {
     "end_time": "2021-06-28T21:04:30.785799Z",
     "start_time": "2021-06-28T21:04:30.783881Z"
    }
   },
   "outputs": [
    {
     "data": {
      "text/plain": [
       "RangeIndex(start=0, stop=4916, step=1)"
      ]
     },
     "execution_count": 6,
     "metadata": {},
     "output_type": "execute_result"
    }
   ],
   "source": [
    "# Escriba aquí su código\n",
    "n_filas=df_movies.index\n",
    "n_filas"
   ]
  },
  {
   "cell_type": "markdown",
   "metadata": {},
   "source": [
    "### EJERCICIO\n",
    "Cuántas columnas tiene el df? guarde el resultado en n_cols y muestre su valor"
   ]
  },
  {
   "cell_type": "code",
   "execution_count": 7,
   "metadata": {
    "ExecuteTime": {
     "end_time": "2021-06-28T21:04:30.867001Z",
     "start_time": "2021-06-28T21:04:30.865091Z"
    }
   },
   "outputs": [
    {
     "data": {
      "text/plain": [
       "28"
      ]
     },
     "execution_count": 7,
     "metadata": {},
     "output_type": "execute_result"
    }
   ],
   "source": [
    "# Escriba aquí su código\n",
    "a=df_movies.shape\n",
    "n_cols=a[1]\n",
    "n_cols\n"
   ]
  },
  {
   "cell_type": "markdown",
   "metadata": {
    "ExecuteTime": {
     "end_time": "2021-06-28T19:11:21.009809Z",
     "start_time": "2021-06-28T19:11:21.006521Z"
    }
   },
   "source": [
    "### EJERCICIO\n",
    "\n",
    "Debe quitar la columna **color** del  df_movies"
   ]
  },
  {
   "cell_type": "code",
   "execution_count": 8,
   "metadata": {
    "ExecuteTime": {
     "end_time": "2021-06-28T21:04:30.954339Z",
     "start_time": "2021-06-28T21:04:30.952448Z"
    }
   },
   "outputs": [],
   "source": [
    "# Escriba aquí su código\n",
    "df_movies=df_movies.drop(columns=['color'])"
   ]
  },
  {
   "cell_type": "markdown",
   "metadata": {},
   "source": [
    "Cree la lista lst_columnas2 con los nombres de las columnas actuales de df_movies"
   ]
  },
  {
   "cell_type": "code",
   "execution_count": 9,
   "metadata": {
    "ExecuteTime": {
     "end_time": "2021-06-28T21:04:31.041783Z",
     "start_time": "2021-06-28T21:04:31.039689Z"
    }
   },
   "outputs": [
    {
     "data": {
      "text/plain": [
       "Index(['director_name', 'num_critic_for_reviews', 'duration',\n",
       "       'director_facebook_likes', 'actor_3_facebook_likes', 'actor_2_name',\n",
       "       'actor_1_facebook_likes', 'gross', 'genres', 'actor_1_name',\n",
       "       'movie_title', 'num_voted_users', 'cast_total_facebook_likes',\n",
       "       'actor_3_name', 'facenumber_in_poster', 'plot_keywords',\n",
       "       'movie_imdb_link', 'num_user_for_reviews', 'language', 'country',\n",
       "       'content_rating', 'budget', 'title_year', 'actor_2_facebook_likes',\n",
       "       'imdb_score', 'aspect_ratio', 'movie_facebook_likes'],\n",
       "      dtype='object')"
      ]
     },
     "execution_count": 9,
     "metadata": {},
     "output_type": "execute_result"
    }
   ],
   "source": [
    "# Escriba aquí su código\n",
    "lst_columnas2=df_movies.columns\n",
    "lst_columnas2"
   ]
  },
  {
   "cell_type": "markdown",
   "metadata": {},
   "source": [
    "### EJERCICIO\n",
    "\n",
    "La columna 'director_name' indica el nombre del director de cada película.   \n",
    "Muestre una \"lista\" con los nombres de cada uno de los directores, cada uno debe figurar una única vez.  \n",
    "Guárdelo como **lista_directores** y muéstrela"
   ]
  },
  {
   "cell_type": "code",
   "execution_count": 10,
   "metadata": {
    "ExecuteTime": {
     "end_time": "2021-06-28T21:04:31.132115Z",
     "start_time": "2021-06-28T21:04:31.129946Z"
    }
   },
   "outputs": [
    {
     "data": {
      "text/plain": [
       "array(['James Cameron', 'Gore Verbinski', 'Sam Mendes', ...,\n",
       "       'Scott Smith', 'Benjamin Roberds', 'Daniel Hsia'], dtype=object)"
      ]
     },
     "execution_count": 10,
     "metadata": {},
     "output_type": "execute_result"
    }
   ],
   "source": [
    "# Escriba aquí su código\n",
    "lista_directores=df_movies.director_name.unique()\n",
    "lista_directores"
   ]
  },
  {
   "cell_type": "markdown",
   "metadata": {},
   "source": [
    "### EJERCICIO\n",
    "\n",
    "Cuántos directores distintos hay? guarde el resultado en **n_directores** y muéstrelo"
   ]
  },
  {
   "cell_type": "code",
   "execution_count": 11,
   "metadata": {
    "ExecuteTime": {
     "end_time": "2021-06-28T21:04:31.217386Z",
     "start_time": "2021-06-28T21:04:31.215434Z"
    }
   },
   "outputs": [
    {
     "data": {
      "text/plain": [
       "2398"
      ]
     },
     "execution_count": 11,
     "metadata": {},
     "output_type": "execute_result"
    }
   ],
   "source": [
    "# Escriba aquí su código\n",
    "b=lista_directores.shape\n",
    "b\n",
    "n_directores=b[0]\n",
    "n_directores"
   ]
  },
  {
   "cell_type": "markdown",
   "metadata": {
    "ExecuteTime": {
     "end_time": "2019-11-15T19:18:26.084081Z",
     "start_time": "2019-11-15T19:18:26.080093Z"
    }
   },
   "source": [
    "### EJERCICIO\n",
    "Cuántas películas del director 'James Cameron' hay en el dataframe? Guarde el resultado en **n_cameron** y muestre el resultado"
   ]
  },
  {
   "cell_type": "code",
   "execution_count": 13,
   "metadata": {
    "ExecuteTime": {
     "end_time": "2021-06-28T21:04:31.303329Z",
     "start_time": "2021-06-28T21:04:31.301256Z"
    }
   },
   "outputs": [
    {
     "data": {
      "text/plain": [
       "7"
      ]
     },
     "execution_count": 13,
     "metadata": {},
     "output_type": "execute_result"
    }
   ],
   "source": [
    "# Escriba aquí su código\n",
    "c=df_movies[df_movies.director_name=='James Cameron']\n",
    "n_cameron=c.shape[0]\n",
    "n_cameron"
   ]
  },
  {
   "cell_type": "markdown",
   "metadata": {
    "ExecuteTime": {
     "end_time": "2021-06-28T19:20:00.611019Z",
     "start_time": "2021-06-28T19:20:00.608797Z"
    }
   },
   "source": [
    "### EJERCICIO\n",
    "Cuántas  películas sin  nombre de director hay?  \n",
    "\n",
    "Guarde el resultado como n_NAN_directores"
   ]
  },
  {
   "cell_type": "code",
   "execution_count": 15,
   "metadata": {
    "ExecuteTime": {
     "end_time": "2021-06-28T21:04:31.406408Z",
     "start_time": "2021-06-28T21:04:31.404336Z"
    }
   },
   "outputs": [
    {
     "data": {
      "text/plain": [
       "102"
      ]
     },
     "execution_count": 15,
     "metadata": {},
     "output_type": "execute_result"
    }
   ],
   "source": [
    "# Escriba aquí su código\n",
    "n_NAN_directores=df_movies.director_name.isnull().sum()\n",
    "n_NAN_directores"
   ]
  },
  {
   "cell_type": "markdown",
   "metadata": {},
   "source": [
    "### EJERCICIO  \n",
    "\n",
    "Cuántas películas ha dirigido **cada** director?  Es decir queremos una serie o dataframe donde figure el nombre de cada director y la cantidad de películas que le corresponde.\n",
    "\n",
    "Guarde la serie de datos como **qpelisxdirector**\n"
   ]
  },
  {
   "cell_type": "code",
   "execution_count": 16,
   "metadata": {
    "ExecuteTime": {
     "end_time": "2021-06-28T21:04:31.497710Z",
     "start_time": "2021-06-28T21:04:31.495743Z"
    }
   },
   "outputs": [
    {
     "data": {
      "text/plain": [
       "Steven Spielberg    26\n",
       "Woody Allen         22\n",
       "Martin Scorsese     20\n",
       "Clint Eastwood      20\n",
       "Ridley Scott        16\n",
       "                    ..\n",
       "Trent Cooper         1\n",
       "Michael Cohn         1\n",
       "Guy Maddin           1\n",
       "Gregory Widen        1\n",
       "Matt Johnson         1\n",
       "Name: director_name, Length: 2397, dtype: int64"
      ]
     },
     "execution_count": 16,
     "metadata": {},
     "output_type": "execute_result"
    }
   ],
   "source": [
    "# Escriba aquí su código\n",
    "qpelisxdirector=df_movies.director_name.value_counts()\n",
    "qpelisxdirector"
   ]
  },
  {
   "cell_type": "markdown",
   "metadata": {},
   "source": [
    "### EJERCICIO\n",
    "\n",
    "La columna duration indica la duración en minutos.   \n",
    "\n",
    "Cuál es la duración promedio entre todas las películas?   \n",
    "\n",
    "Guárdelo como **duracion_prom**"
   ]
  },
  {
   "cell_type": "code",
   "execution_count": 17,
   "metadata": {
    "ExecuteTime": {
     "end_time": "2021-06-28T21:04:31.617468Z",
     "start_time": "2021-06-28T21:04:31.615553Z"
    }
   },
   "outputs": [
    {
     "data": {
      "text/plain": [
       "107.0907977963681"
      ]
     },
     "execution_count": 17,
     "metadata": {},
     "output_type": "execute_result"
    }
   ],
   "source": [
    "# Escriba aquí su código\n",
    "duracion_prom=df_movies.duration.mean()\n",
    "duracion_prom"
   ]
  },
  {
   "cell_type": "markdown",
   "metadata": {},
   "source": [
    "### EJERCICIO\n",
    "\n",
    "En la columna 'actor_1_name' figura el nombre del \"primer actor\" de cada película.  \n",
    "\n",
    "Obtenga una lista, serie o dataframe con el nombre del primer actor de cada una de las películas del diretor James Cameron y guárdela como **cameron_actor1**"
   ]
  },
  {
   "cell_type": "code",
   "execution_count": 18,
   "metadata": {
    "ExecuteTime": {
     "end_time": "2021-06-28T21:04:31.726392Z",
     "start_time": "2021-06-28T21:04:31.724446Z"
    }
   },
   "outputs": [
    {
     "data": {
      "text/plain": [
       "0             CCH Pounder\n",
       "26      Leonardo DiCaprio\n",
       "285            Joe Morton\n",
       "288      Jamie Lee Curtis\n",
       "599         Michael Biehn\n",
       "2455        Michael Biehn\n",
       "3508        Michael Biehn\n",
       "Name: actor_1_name, dtype: object"
      ]
     },
     "execution_count": 18,
     "metadata": {},
     "output_type": "execute_result"
    }
   ],
   "source": [
    "# Escriba aquí su código\n",
    "cameron_actor1=c.actor_1_name \n",
    "cameron_actor1"
   ]
  },
  {
   "cell_type": "markdown",
   "metadata": {},
   "source": [
    "Ahora cuente cuántas veces aparece cada actor en el listado de primeros actores de James Cameron.  \n",
    "Guárdelo como **qcameron_actor1**"
   ]
  },
  {
   "cell_type": "code",
   "execution_count": 19,
   "metadata": {
    "ExecuteTime": {
     "end_time": "2021-06-28T21:04:31.834034Z",
     "start_time": "2021-06-28T21:04:31.832063Z"
    }
   },
   "outputs": [
    {
     "data": {
      "text/plain": [
       "Michael Biehn        3\n",
       "Jamie Lee Curtis     1\n",
       "Joe Morton           1\n",
       "Leonardo DiCaprio    1\n",
       "CCH Pounder          1\n",
       "Name: actor_1_name, dtype: int64"
      ]
     },
     "execution_count": 19,
     "metadata": {},
     "output_type": "execute_result"
    }
   ],
   "source": [
    "# Escriba aquí su código\n",
    "qcameron_actor1=cameron_actor1.value_counts()\n",
    "qcameron_actor1"
   ]
  },
  {
   "cell_type": "markdown",
   "metadata": {},
   "source": [
    "### EJERCICIO\n",
    "La columna **budget** corresponde al **Presupuesto** \n",
    "\n",
    "Cree un DataFrame de nombre **df_10_presupuesto** con las 10 peĺículas de mayor presupuesto de la historia, debe mostrar el nombre de la película ('movie_title'), el nombre del director ('director_name') y el presupuesto ('budget')y estar ordenada de mayor a menor valor del presupuesto."
   ]
  },
  {
   "cell_type": "code",
   "execution_count": 20,
   "metadata": {
    "ExecuteTime": {
     "end_time": "2021-06-28T21:04:31.929116Z",
     "start_time": "2021-06-28T21:04:31.926825Z"
    }
   },
   "outputs": [
    {
     "data": {
      "text/html": [
       "<div>\n",
       "<style scoped>\n",
       "    .dataframe tbody tr th:only-of-type {\n",
       "        vertical-align: middle;\n",
       "    }\n",
       "\n",
       "    .dataframe tbody tr th {\n",
       "        vertical-align: top;\n",
       "    }\n",
       "\n",
       "    .dataframe thead th {\n",
       "        text-align: right;\n",
       "    }\n",
       "</style>\n",
       "<table border=\"1\" class=\"dataframe\">\n",
       "  <thead>\n",
       "    <tr style=\"text-align: right;\">\n",
       "      <th></th>\n",
       "      <th>movie_title</th>\n",
       "      <th>director_name</th>\n",
       "      <th>budget</th>\n",
       "    </tr>\n",
       "  </thead>\n",
       "  <tbody>\n",
       "    <tr>\n",
       "      <th>3787</th>\n",
       "      <td>Lady Vengeance</td>\n",
       "      <td>Chan-wook Park</td>\n",
       "      <td>4.200000e+09</td>\n",
       "    </tr>\n",
       "    <tr>\n",
       "      <th>2955</th>\n",
       "      <td>Fateless</td>\n",
       "      <td>Lajos Koltai</td>\n",
       "      <td>2.500000e+09</td>\n",
       "    </tr>\n",
       "    <tr>\n",
       "      <th>2294</th>\n",
       "      <td>Princess Mononoke</td>\n",
       "      <td>Hayao Miyazaki</td>\n",
       "      <td>2.400000e+09</td>\n",
       "    </tr>\n",
       "    <tr>\n",
       "      <th>2305</th>\n",
       "      <td>Steamboy</td>\n",
       "      <td>Katsuhiro Ôtomo</td>\n",
       "      <td>2.127520e+09</td>\n",
       "    </tr>\n",
       "    <tr>\n",
       "      <th>3361</th>\n",
       "      <td>Akira</td>\n",
       "      <td>Katsuhiro Ôtomo</td>\n",
       "      <td>1.100000e+09</td>\n",
       "    </tr>\n",
       "    <tr>\n",
       "      <th>4440</th>\n",
       "      <td>Godzilla 2000</td>\n",
       "      <td>Takao Okawara</td>\n",
       "      <td>1.000000e+09</td>\n",
       "    </tr>\n",
       "    <tr>\n",
       "      <th>3779</th>\n",
       "      <td>Tango</td>\n",
       "      <td>Carlos Saura</td>\n",
       "      <td>7.000000e+08</td>\n",
       "    </tr>\n",
       "    <tr>\n",
       "      <th>3023</th>\n",
       "      <td>Kabhi Alvida Naa Kehna</td>\n",
       "      <td>Karan Johar</td>\n",
       "      <td>7.000000e+08</td>\n",
       "    </tr>\n",
       "    <tr>\n",
       "      <th>3216</th>\n",
       "      <td>Kites</td>\n",
       "      <td>Anurag Basu</td>\n",
       "      <td>6.000000e+08</td>\n",
       "    </tr>\n",
       "    <tr>\n",
       "      <th>1325</th>\n",
       "      <td>Red Cliff</td>\n",
       "      <td>John Woo</td>\n",
       "      <td>5.536320e+08</td>\n",
       "    </tr>\n",
       "  </tbody>\n",
       "</table>\n",
       "</div>"
      ],
      "text/plain": [
       "                 movie_title    director_name        budget\n",
       "3787          Lady Vengeance   Chan-wook Park  4.200000e+09\n",
       "2955                Fateless     Lajos Koltai  2.500000e+09\n",
       "2294       Princess Mononoke   Hayao Miyazaki  2.400000e+09\n",
       "2305                Steamboy  Katsuhiro Ôtomo  2.127520e+09\n",
       "3361                   Akira  Katsuhiro Ôtomo  1.100000e+09\n",
       "4440           Godzilla 2000    Takao Okawara  1.000000e+09\n",
       "3779                   Tango     Carlos Saura  7.000000e+08\n",
       "3023  Kabhi Alvida Naa Kehna      Karan Johar  7.000000e+08\n",
       "3216                   Kites      Anurag Basu  6.000000e+08\n",
       "1325               Red Cliff         John Woo  5.536320e+08"
      ]
     },
     "execution_count": 20,
     "metadata": {},
     "output_type": "execute_result"
    }
   ],
   "source": [
    "# Escriba aquí su código\n",
    "df_10_presupuesto=df_movies[[\"movie_title\",\"director_name\",\"budget\"]].sort_values('budget', ascending=False).head(10)\n",
    "df_10_presupuesto"
   ]
  },
  {
   "cell_type": "markdown",
   "metadata": {},
   "source": [
    "### EJERCICIO\n",
    "\n",
    "La columna **budget** corresponde al **Presupuesto** y la columna **gross** corresponde a los **ingresos**, queremos agregar una columna al DataFrame donde calculemos las **ganancias** (que se calcularía como ingresos menos presupuesto). Llámela ganancias y agréguela a df_movies.\n",
    "\n",
    "Para finalizar guarde las columnas movie_title, director_name, budget, gross y ganancias como df_money y muestre los 5 primeros elementos "
   ]
  },
  {
   "cell_type": "code",
   "execution_count": 21,
   "metadata": {
    "ExecuteTime": {
     "end_time": "2021-06-28T21:04:32.034080Z",
     "start_time": "2021-06-28T21:04:32.032064Z"
    }
   },
   "outputs": [
    {
     "data": {
      "text/html": [
       "<div>\n",
       "<style scoped>\n",
       "    .dataframe tbody tr th:only-of-type {\n",
       "        vertical-align: middle;\n",
       "    }\n",
       "\n",
       "    .dataframe tbody tr th {\n",
       "        vertical-align: top;\n",
       "    }\n",
       "\n",
       "    .dataframe thead th {\n",
       "        text-align: right;\n",
       "    }\n",
       "</style>\n",
       "<table border=\"1\" class=\"dataframe\">\n",
       "  <thead>\n",
       "    <tr style=\"text-align: right;\">\n",
       "      <th></th>\n",
       "      <th>movie_title</th>\n",
       "      <th>director_name</th>\n",
       "      <th>budget</th>\n",
       "      <th>gross</th>\n",
       "      <th>ganancias</th>\n",
       "    </tr>\n",
       "  </thead>\n",
       "  <tbody>\n",
       "    <tr>\n",
       "      <th>0</th>\n",
       "      <td>Avatar</td>\n",
       "      <td>James Cameron</td>\n",
       "      <td>237000000.0</td>\n",
       "      <td>760505847.0</td>\n",
       "      <td>523505847.0</td>\n",
       "    </tr>\n",
       "    <tr>\n",
       "      <th>1</th>\n",
       "      <td>Pirates of the Caribbean: At World's End</td>\n",
       "      <td>Gore Verbinski</td>\n",
       "      <td>300000000.0</td>\n",
       "      <td>309404152.0</td>\n",
       "      <td>9404152.0</td>\n",
       "    </tr>\n",
       "    <tr>\n",
       "      <th>2</th>\n",
       "      <td>Spectre</td>\n",
       "      <td>Sam Mendes</td>\n",
       "      <td>245000000.0</td>\n",
       "      <td>200074175.0</td>\n",
       "      <td>-44925825.0</td>\n",
       "    </tr>\n",
       "    <tr>\n",
       "      <th>3</th>\n",
       "      <td>The Dark Knight Rises</td>\n",
       "      <td>Christopher Nolan</td>\n",
       "      <td>250000000.0</td>\n",
       "      <td>448130642.0</td>\n",
       "      <td>198130642.0</td>\n",
       "    </tr>\n",
       "    <tr>\n",
       "      <th>4</th>\n",
       "      <td>Star Wars: Episode VII - The Force Awakens</td>\n",
       "      <td>Doug Walker</td>\n",
       "      <td>NaN</td>\n",
       "      <td>NaN</td>\n",
       "      <td>NaN</td>\n",
       "    </tr>\n",
       "  </tbody>\n",
       "</table>\n",
       "</div>"
      ],
      "text/plain": [
       "                                  movie_title      director_name       budget  \\\n",
       "0                                      Avatar      James Cameron  237000000.0   \n",
       "1    Pirates of the Caribbean: At World's End     Gore Verbinski  300000000.0   \n",
       "2                                     Spectre         Sam Mendes  245000000.0   \n",
       "3                       The Dark Knight Rises  Christopher Nolan  250000000.0   \n",
       "4  Star Wars: Episode VII - The Force Awakens        Doug Walker          NaN   \n",
       "\n",
       "         gross    ganancias  \n",
       "0  760505847.0  523505847.0  \n",
       "1  309404152.0    9404152.0  \n",
       "2  200074175.0  -44925825.0  \n",
       "3  448130642.0  198130642.0  \n",
       "4          NaN          NaN  "
      ]
     },
     "execution_count": 21,
     "metadata": {},
     "output_type": "execute_result"
    }
   ],
   "source": [
    "# Escriba aquí su código\n",
    "df_movies[\"ganancias\"]=df_movies.gross-df_movies.budget\n",
    "df_money=df_movies[[\"movie_title\",\"director_name\",\"budget\", \"gross\",\"ganancias\"]]\n",
    "df_money.head()"
   ]
  },
  {
   "cell_type": "markdown",
   "metadata": {},
   "source": [
    "### EJERCICIO\n",
    "A partir de df_money muestre cuáles son las 10 películas con mayores ganancias? Guárdelo en df_topten_movies y muestre los resultados"
   ]
  },
  {
   "cell_type": "code",
   "execution_count": 22,
   "metadata": {
    "ExecuteTime": {
     "end_time": "2021-06-28T21:04:32.135892Z",
     "start_time": "2021-06-28T21:04:32.134074Z"
    }
   },
   "outputs": [
    {
     "data": {
      "text/html": [
       "<div>\n",
       "<style scoped>\n",
       "    .dataframe tbody tr th:only-of-type {\n",
       "        vertical-align: middle;\n",
       "    }\n",
       "\n",
       "    .dataframe tbody tr th {\n",
       "        vertical-align: top;\n",
       "    }\n",
       "\n",
       "    .dataframe thead th {\n",
       "        text-align: right;\n",
       "    }\n",
       "</style>\n",
       "<table border=\"1\" class=\"dataframe\">\n",
       "  <thead>\n",
       "    <tr style=\"text-align: right;\">\n",
       "      <th></th>\n",
       "      <th>movie_title</th>\n",
       "      <th>director_name</th>\n",
       "      <th>budget</th>\n",
       "      <th>gross</th>\n",
       "      <th>ganancias</th>\n",
       "    </tr>\n",
       "  </thead>\n",
       "  <tbody>\n",
       "    <tr>\n",
       "      <th>0</th>\n",
       "      <td>Avatar</td>\n",
       "      <td>James Cameron</td>\n",
       "      <td>237000000.0</td>\n",
       "      <td>760505847.0</td>\n",
       "      <td>523505847.0</td>\n",
       "    </tr>\n",
       "    <tr>\n",
       "      <th>29</th>\n",
       "      <td>Jurassic World</td>\n",
       "      <td>Colin Trevorrow</td>\n",
       "      <td>150000000.0</td>\n",
       "      <td>652177271.0</td>\n",
       "      <td>502177271.0</td>\n",
       "    </tr>\n",
       "    <tr>\n",
       "      <th>26</th>\n",
       "      <td>Titanic</td>\n",
       "      <td>James Cameron</td>\n",
       "      <td>200000000.0</td>\n",
       "      <td>658672302.0</td>\n",
       "      <td>458672302.0</td>\n",
       "    </tr>\n",
       "    <tr>\n",
       "      <th>2973</th>\n",
       "      <td>Star Wars: Episode IV - A New Hope</td>\n",
       "      <td>George Lucas</td>\n",
       "      <td>11000000.0</td>\n",
       "      <td>460935665.0</td>\n",
       "      <td>449935665.0</td>\n",
       "    </tr>\n",
       "    <tr>\n",
       "      <th>3028</th>\n",
       "      <td>E.T. the Extra-Terrestrial</td>\n",
       "      <td>Steven Spielberg</td>\n",
       "      <td>10500000.0</td>\n",
       "      <td>434949459.0</td>\n",
       "      <td>424449459.0</td>\n",
       "    </tr>\n",
       "    <tr>\n",
       "      <th>17</th>\n",
       "      <td>The Avengers</td>\n",
       "      <td>Joss Whedon</td>\n",
       "      <td>220000000.0</td>\n",
       "      <td>623279547.0</td>\n",
       "      <td>403279547.0</td>\n",
       "    </tr>\n",
       "    <tr>\n",
       "      <th>503</th>\n",
       "      <td>The Lion King</td>\n",
       "      <td>Roger Allers</td>\n",
       "      <td>45000000.0</td>\n",
       "      <td>422783777.0</td>\n",
       "      <td>377783777.0</td>\n",
       "    </tr>\n",
       "    <tr>\n",
       "      <th>237</th>\n",
       "      <td>Star Wars: Episode I - The Phantom Menace</td>\n",
       "      <td>George Lucas</td>\n",
       "      <td>115000000.0</td>\n",
       "      <td>474544677.0</td>\n",
       "      <td>359544677.0</td>\n",
       "    </tr>\n",
       "    <tr>\n",
       "      <th>66</th>\n",
       "      <td>The Dark Knight</td>\n",
       "      <td>Christopher Nolan</td>\n",
       "      <td>185000000.0</td>\n",
       "      <td>533316061.0</td>\n",
       "      <td>348316061.0</td>\n",
       "    </tr>\n",
       "    <tr>\n",
       "      <th>433</th>\n",
       "      <td>The Hunger Games</td>\n",
       "      <td>Gary Ross</td>\n",
       "      <td>78000000.0</td>\n",
       "      <td>407999255.0</td>\n",
       "      <td>329999255.0</td>\n",
       "    </tr>\n",
       "  </tbody>\n",
       "</table>\n",
       "</div>"
      ],
      "text/plain": [
       "                                    movie_title      director_name  \\\n",
       "0                                        Avatar      James Cameron   \n",
       "29                               Jurassic World    Colin Trevorrow   \n",
       "26                                      Titanic      James Cameron   \n",
       "2973         Star Wars: Episode IV - A New Hope       George Lucas   \n",
       "3028                 E.T. the Extra-Terrestrial   Steven Spielberg   \n",
       "17                                 The Avengers        Joss Whedon   \n",
       "503                               The Lion King       Roger Allers   \n",
       "237   Star Wars: Episode I - The Phantom Menace       George Lucas   \n",
       "66                              The Dark Knight  Christopher Nolan   \n",
       "433                            The Hunger Games          Gary Ross   \n",
       "\n",
       "           budget        gross    ganancias  \n",
       "0     237000000.0  760505847.0  523505847.0  \n",
       "29    150000000.0  652177271.0  502177271.0  \n",
       "26    200000000.0  658672302.0  458672302.0  \n",
       "2973   11000000.0  460935665.0  449935665.0  \n",
       "3028   10500000.0  434949459.0  424449459.0  \n",
       "17    220000000.0  623279547.0  403279547.0  \n",
       "503    45000000.0  422783777.0  377783777.0  \n",
       "237   115000000.0  474544677.0  359544677.0  \n",
       "66    185000000.0  533316061.0  348316061.0  \n",
       "433    78000000.0  407999255.0  329999255.0  "
      ]
     },
     "execution_count": 22,
     "metadata": {},
     "output_type": "execute_result"
    }
   ],
   "source": [
    "# Escriba aquí su código\n",
    "df_topten_movies=df_money.sort_values('ganancias', ascending=False).head(10)\n",
    "df_topten_movies"
   ]
  },
  {
   "cell_type": "markdown",
   "metadata": {},
   "source": [
    "### EJERCICIO\n",
    "\n",
    "El directivo de una compañía cinematográfica quiere saber cuáles son las ganancias promedio que puede esperar obtener con una nueva película. Guarde el resultado en la variable prom_ganancias y muestre el resultado "
   ]
  },
  {
   "cell_type": "code",
   "execution_count": 23,
   "metadata": {
    "ExecuteTime": {
     "end_time": "2021-06-28T21:04:32.225312Z",
     "start_time": "2021-06-28T21:04:32.223137Z"
    }
   },
   "outputs": [
    {
     "data": {
      "text/plain": [
       "8693209.48456057"
      ]
     },
     "execution_count": 23,
     "metadata": {},
     "output_type": "execute_result"
    }
   ],
   "source": [
    "# Escriba aquí su código\n",
    "prom_ganancias=df_movies.ganancias.mean()\n",
    "prom_ganancias"
   ]
  },
  {
   "cell_type": "markdown",
   "metadata": {},
   "source": [
    "### EJERCICIO\n",
    "Cuáles son las ganancias promedio de cada uno de los directores? En la salida deben figurar solamente los nombres de los directores y los valores de las ganancias promedio.  Guárdelo como ganancias_promedioxdirector y muestre el resultado.  \n",
    "\n",
    "**Nota:** Si obtiene algunos NaN significa que para esos directores todos los valores de las ganancias son NaN, así que no se preocupe si obtiene NaN.\n"
   ]
  },
  {
   "cell_type": "code",
   "execution_count": 24,
   "metadata": {
    "ExecuteTime": {
     "end_time": "2021-06-28T21:04:32.316916Z",
     "start_time": "2021-06-28T21:04:32.314710Z"
    }
   },
   "outputs": [
    {
     "data": {
      "text/plain": [
       "director_name\n",
       "A. Raven Cruz                NaN\n",
       "Aaron Hann                   NaN\n",
       "Aaron Schneider        1676553.0\n",
       "Aaron Seltzer         28546578.0\n",
       "Abel Ferrara         -11272676.0\n",
       "                         ...    \n",
       "Zoran Lisinac                NaN\n",
       "Álex de la Iglesia    -9996393.0\n",
       "Émile Gaudreault       1239558.0\n",
       "Éric Tessier                 NaN\n",
       "Étienne Faure                NaN\n",
       "Name: ganancias, Length: 2397, dtype: float64"
      ]
     },
     "execution_count": 24,
     "metadata": {},
     "output_type": "execute_result"
    }
   ],
   "source": [
    "ganancias_promedioxdirector=df_money.groupby([\"director_name\"])[\"ganancias\"].mean()\n",
    "\n",
    "ganancias_promedioxdirector\n",
    "\n"
   ]
  },
  {
   "cell_type": "markdown",
   "metadata": {},
   "source": [
    "### EJERCICIO\n",
    "Cuáles son los 5 directores con mayores ganancias en **total considerando todas las películas** que dirigió? Guarde el resultdo como df_top_5_directors y muestre los resultados.  \n",
    "\n"
   ]
  },
  {
   "cell_type": "code",
   "execution_count": 25,
   "metadata": {
    "ExecuteTime": {
     "end_time": "2021-06-28T21:04:32.408979Z",
     "start_time": "2021-06-28T21:04:32.406637Z"
    }
   },
   "outputs": [
    {
     "data": {
      "text/plain": [
       "director_name\n",
       "Steven Spielberg    2.486332e+09\n",
       "George Lucas        1.386641e+09\n",
       "James Cameron       1.199626e+09\n",
       "Chris Columbus      9.417076e+08\n",
       "Peter Jackson       8.998839e+08\n",
       "Name: ganancias, dtype: float64"
      ]
     },
     "execution_count": 25,
     "metadata": {},
     "output_type": "execute_result"
    }
   ],
   "source": [
    "# Escriba aquí su código\n",
    "df_top_5_directors=df_money.groupby([\"director_name\"])[\"ganancias\"].sum().sort_values(ascending=False).head(5)\n",
    "df_top_5_directors"
   ]
  },
  {
   "cell_type": "markdown",
   "metadata": {},
   "source": [
    "### EJERCICIO\n",
    "\n",
    "Quiénes son los 5 directores con mayores ganancias promedio? Podemos llevarnos una sorpresa! Guárdelo con el nombre df_top5_dirs_promedio"
   ]
  },
  {
   "cell_type": "code",
   "execution_count": 26,
   "metadata": {
    "ExecuteTime": {
     "end_time": "2021-06-28T21:04:32.518332Z",
     "start_time": "2021-06-28T21:04:32.516100Z"
    }
   },
   "outputs": [
    {
     "data": {
      "text/plain": [
       "director_name\n",
       "Tim Miller          305024263.0\n",
       "George Lucas        277328296.0\n",
       "Richard Marquand    276625409.0\n",
       "Kyle Balda          262029560.0\n",
       "Colin Trevorrow     252717531.5\n",
       "Name: ganancias, dtype: float64"
      ]
     },
     "execution_count": 26,
     "metadata": {},
     "output_type": "execute_result"
    }
   ],
   "source": [
    "# Escriba aquí su código\n",
    "df_top5_dirs_promedio=ganancias_promedioxdirector.sort_values(ascending=False).head(5)\n",
    "df_top5_dirs_promedio"
   ]
  },
  {
   "cell_type": "markdown",
   "metadata": {},
   "source": [
    "### EJERCICIO\n",
    "\n",
    "Muestre un listado con las películas que ha dirigido el director que tiene las **mayores ganancias promedio** (muestre todas las columnas de df_money).  \n",
    "\n",
    "La idea es que pueda obtener el resutado sin escribir manualmente el nombre de este gran director, para que la sintaxis quede más legible le sugiero que:  \n",
    "\n",
    "1) primero determine el nombre de este director y que guarde ese valor en la variable director_prom_max, muéstrelo."
   ]
  },
  {
   "cell_type": "code",
   "execution_count": 27,
   "metadata": {
    "ExecuteTime": {
     "end_time": "2021-06-28T21:04:32.615741Z",
     "start_time": "2021-06-28T21:04:32.613642Z"
    }
   },
   "outputs": [
    {
     "data": {
      "text/plain": [
       "305024263.0"
      ]
     },
     "execution_count": 27,
     "metadata": {},
     "output_type": "execute_result"
    }
   ],
   "source": [
    "# Escriba aquí su código\n",
    "director_prom_max=df_top5_dirs_promedio[0]\n",
    "director_prom_max"
   ]
  },
  {
   "cell_type": "markdown",
   "metadata": {},
   "source": [
    "2) en segundo lugar utilice esta variable para obtener el listado de sus películas. Guárdelo con el nombre lista_peliculas_dir_max_prom y muestre sus películas"
   ]
  },
  {
   "cell_type": "code",
   "execution_count": 29,
   "metadata": {
    "ExecuteTime": {
     "end_time": "2021-06-28T21:04:32.711027Z",
     "start_time": "2021-06-28T21:04:32.709039Z"
    }
   },
   "outputs": [
    {
     "data": {
      "text/html": [
       "<div>\n",
       "<style scoped>\n",
       "    .dataframe tbody tr th:only-of-type {\n",
       "        vertical-align: middle;\n",
       "    }\n",
       "\n",
       "    .dataframe tbody tr th {\n",
       "        vertical-align: top;\n",
       "    }\n",
       "\n",
       "    .dataframe thead th {\n",
       "        text-align: right;\n",
       "    }\n",
       "</style>\n",
       "<table border=\"1\" class=\"dataframe\">\n",
       "  <thead>\n",
       "    <tr style=\"text-align: right;\">\n",
       "      <th></th>\n",
       "      <th>movie_title</th>\n",
       "      <th>director_name</th>\n",
       "      <th>budget</th>\n",
       "      <th>gross</th>\n",
       "      <th>ganancias</th>\n",
       "    </tr>\n",
       "  </thead>\n",
       "  <tbody>\n",
       "    <tr>\n",
       "      <th>803</th>\n",
       "      <td>Deadpool</td>\n",
       "      <td>Tim Miller</td>\n",
       "      <td>58000000.0</td>\n",
       "      <td>363024263.0</td>\n",
       "      <td>305024263.0</td>\n",
       "    </tr>\n",
       "  </tbody>\n",
       "</table>\n",
       "</div>"
      ],
      "text/plain": [
       "    movie_title director_name      budget        gross    ganancias\n",
       "803    Deadpool    Tim Miller  58000000.0  363024263.0  305024263.0"
      ]
     },
     "execution_count": 29,
     "metadata": {},
     "output_type": "execute_result"
    }
   ],
   "source": [
    "# Escriba aquí su código\n",
    "lista_peliculas_dir_max_prom=df_money[df_money.ganancias==director_prom_max]\n",
    "lista_peliculas_dir_max_prom"
   ]
  },
  {
   "cell_type": "markdown",
   "metadata": {},
   "source": [
    "## RESPUESTAS \n",
    "NO MODIFIQUE LAS CELDAS DE AQUI EN ADELANTE"
   ]
  },
  {
   "cell_type": "markdown",
   "metadata": {
    "ExecuteTime": {
     "end_time": "2021-06-28T19:02:28.820647Z",
     "start_time": "2021-06-28T19:02:28.815805Z"
    }
   },
   "source": [
    "### Respuesta"
   ]
  },
  {
   "cell_type": "code",
   "execution_count": 26,
   "metadata": {
    "ExecuteTime": {
     "end_time": "2021-06-28T21:04:32.901139Z",
     "start_time": "2021-06-28T21:04:32.899125Z"
    }
   },
   "outputs": [],
   "source": [
    "#lst_columnas"
   ]
  },
  {
   "cell_type": "markdown",
   "metadata": {
    "ExecuteTime": {
     "end_time": "2021-06-28T19:02:28.820647Z",
     "start_time": "2021-06-28T19:02:28.815805Z"
    }
   },
   "source": [
    "### Respuesta"
   ]
  },
  {
   "cell_type": "code",
   "execution_count": 27,
   "metadata": {
    "ExecuteTime": {
     "end_time": "2021-06-28T21:04:33.007216Z",
     "start_time": "2021-06-28T21:04:33.004655Z"
    }
   },
   "outputs": [],
   "source": [
    "#n_filas"
   ]
  },
  {
   "cell_type": "markdown",
   "metadata": {
    "ExecuteTime": {
     "end_time": "2021-06-28T19:02:28.820647Z",
     "start_time": "2021-06-28T19:02:28.815805Z"
    }
   },
   "source": [
    "### Respuesta"
   ]
  },
  {
   "cell_type": "code",
   "execution_count": 28,
   "metadata": {
    "ExecuteTime": {
     "end_time": "2021-06-28T21:04:33.136327Z",
     "start_time": "2021-06-28T21:04:33.134411Z"
    }
   },
   "outputs": [],
   "source": [
    "#n_cols"
   ]
  },
  {
   "cell_type": "markdown",
   "metadata": {
    "ExecuteTime": {
     "end_time": "2021-06-28T19:16:41.120099Z",
     "start_time": "2021-06-28T19:16:41.118188Z"
    }
   },
   "source": [
    "### Respuesta"
   ]
  },
  {
   "cell_type": "code",
   "execution_count": 29,
   "metadata": {
    "ExecuteTime": {
     "end_time": "2021-06-28T21:04:33.267011Z",
     "start_time": "2021-06-28T21:04:33.264931Z"
    }
   },
   "outputs": [],
   "source": [
    "#lst_columnas2"
   ]
  },
  {
   "cell_type": "markdown",
   "metadata": {
    "ExecuteTime": {
     "end_time": "2021-06-28T19:02:28.820647Z",
     "start_time": "2021-06-28T19:02:28.815805Z"
    }
   },
   "source": [
    "### Respuesta"
   ]
  },
  {
   "cell_type": "code",
   "execution_count": 30,
   "metadata": {
    "ExecuteTime": {
     "end_time": "2021-06-28T21:04:33.363700Z",
     "start_time": "2021-06-28T21:04:33.361805Z"
    }
   },
   "outputs": [],
   "source": [
    "#lista_directores"
   ]
  },
  {
   "cell_type": "markdown",
   "metadata": {
    "ExecuteTime": {
     "end_time": "2021-06-28T19:02:28.820647Z",
     "start_time": "2021-06-28T19:02:28.815805Z"
    }
   },
   "source": [
    "### Respuesta"
   ]
  },
  {
   "cell_type": "code",
   "execution_count": 31,
   "metadata": {
    "ExecuteTime": {
     "end_time": "2021-06-28T21:04:33.465922Z",
     "start_time": "2021-06-28T21:04:33.463254Z"
    }
   },
   "outputs": [],
   "source": [
    "#n_directores"
   ]
  },
  {
   "cell_type": "markdown",
   "metadata": {
    "ExecuteTime": {
     "end_time": "2021-06-28T19:02:28.820647Z",
     "start_time": "2021-06-28T19:02:28.815805Z"
    }
   },
   "source": [
    "### Respuesta"
   ]
  },
  {
   "cell_type": "code",
   "execution_count": 32,
   "metadata": {
    "ExecuteTime": {
     "end_time": "2021-06-28T21:04:33.570836Z",
     "start_time": "2021-06-28T21:04:33.568702Z"
    }
   },
   "outputs": [],
   "source": [
    "#n_cameron"
   ]
  },
  {
   "cell_type": "markdown",
   "metadata": {},
   "source": [
    "### Respuesta"
   ]
  },
  {
   "cell_type": "code",
   "execution_count": 33,
   "metadata": {
    "ExecuteTime": {
     "end_time": "2021-06-28T21:04:33.674025Z",
     "start_time": "2021-06-28T21:04:33.671649Z"
    }
   },
   "outputs": [],
   "source": [
    "#n_NAN_directores"
   ]
  },
  {
   "cell_type": "markdown",
   "metadata": {},
   "source": [
    "### Respuesta"
   ]
  },
  {
   "cell_type": "code",
   "execution_count": 34,
   "metadata": {
    "ExecuteTime": {
     "end_time": "2021-06-28T21:04:33.778774Z",
     "start_time": "2021-06-28T21:04:33.776680Z"
    }
   },
   "outputs": [],
   "source": [
    "#qpelisXdirectores"
   ]
  },
  {
   "cell_type": "markdown",
   "metadata": {
    "ExecuteTime": {
     "end_time": "2021-06-28T19:39:20.407647Z",
     "start_time": "2021-06-28T19:39:20.402407Z"
    }
   },
   "source": [
    "### Respuesta"
   ]
  },
  {
   "cell_type": "code",
   "execution_count": 35,
   "metadata": {
    "ExecuteTime": {
     "end_time": "2021-06-28T21:04:33.883204Z",
     "start_time": "2021-06-28T21:04:33.880470Z"
    }
   },
   "outputs": [],
   "source": [
    "#duracion_prom"
   ]
  },
  {
   "cell_type": "markdown",
   "metadata": {},
   "source": [
    "### Respuesta"
   ]
  },
  {
   "cell_type": "code",
   "execution_count": 36,
   "metadata": {
    "ExecuteTime": {
     "end_time": "2021-06-28T21:04:33.993528Z",
     "start_time": "2021-06-28T21:04:33.991268Z"
    }
   },
   "outputs": [],
   "source": [
    "#cameron_actor1"
   ]
  },
  {
   "cell_type": "code",
   "execution_count": 37,
   "metadata": {
    "ExecuteTime": {
     "end_time": "2021-06-28T21:04:34.001232Z",
     "start_time": "2021-06-28T21:04:33.997480Z"
    },
    "scrolled": true
   },
   "outputs": [],
   "source": [
    "#qcameron_actor1"
   ]
  },
  {
   "cell_type": "markdown",
   "metadata": {},
   "source": [
    "### Respuesta"
   ]
  },
  {
   "cell_type": "code",
   "execution_count": 38,
   "metadata": {
    "ExecuteTime": {
     "end_time": "2021-06-28T21:04:34.111874Z",
     "start_time": "2021-06-28T21:04:34.109478Z"
    }
   },
   "outputs": [],
   "source": [
    "#df_10_presupuesto"
   ]
  },
  {
   "cell_type": "markdown",
   "metadata": {
    "ExecuteTime": {
     "end_time": "2021-06-28T19:02:28.820647Z",
     "start_time": "2021-06-28T19:02:28.815805Z"
    }
   },
   "source": [
    "### Respuesta"
   ]
  },
  {
   "cell_type": "code",
   "execution_count": 39,
   "metadata": {
    "ExecuteTime": {
     "end_time": "2021-06-28T21:04:34.221644Z",
     "start_time": "2021-06-28T21:04:34.219438Z"
    }
   },
   "outputs": [],
   "source": [
    "#df_money"
   ]
  },
  {
   "cell_type": "markdown",
   "metadata": {
    "ExecuteTime": {
     "end_time": "2021-06-28T19:02:28.820647Z",
     "start_time": "2021-06-28T19:02:28.815805Z"
    }
   },
   "source": [
    "### Respuesta"
   ]
  },
  {
   "cell_type": "code",
   "execution_count": 40,
   "metadata": {
    "ExecuteTime": {
     "end_time": "2021-06-28T21:04:34.331546Z",
     "start_time": "2021-06-28T21:04:34.329463Z"
    },
    "scrolled": true
   },
   "outputs": [],
   "source": [
    "#df_topten_movies"
   ]
  },
  {
   "cell_type": "markdown",
   "metadata": {
    "ExecuteTime": {
     "end_time": "2021-06-28T19:02:28.820647Z",
     "start_time": "2021-06-28T19:02:28.815805Z"
    }
   },
   "source": [
    "### Respuesta"
   ]
  },
  {
   "cell_type": "code",
   "execution_count": 41,
   "metadata": {
    "ExecuteTime": {
     "end_time": "2021-06-28T21:04:34.442634Z",
     "start_time": "2021-06-28T21:04:34.440254Z"
    }
   },
   "outputs": [],
   "source": [
    "#prom_ganancias"
   ]
  },
  {
   "cell_type": "markdown",
   "metadata": {
    "ExecuteTime": {
     "end_time": "2021-06-28T19:02:28.820647Z",
     "start_time": "2021-06-28T19:02:28.815805Z"
    }
   },
   "source": [
    "### Respuesta"
   ]
  },
  {
   "cell_type": "code",
   "execution_count": 42,
   "metadata": {
    "ExecuteTime": {
     "end_time": "2021-06-28T21:04:34.561291Z",
     "start_time": "2021-06-28T21:04:34.559379Z"
    },
    "scrolled": true
   },
   "outputs": [],
   "source": [
    "#ganancias_promedioxdirector"
   ]
  },
  {
   "cell_type": "markdown",
   "metadata": {
    "ExecuteTime": {
     "end_time": "2021-06-28T19:02:28.820647Z",
     "start_time": "2021-06-28T19:02:28.815805Z"
    }
   },
   "source": [
    "### Respuesta"
   ]
  },
  {
   "cell_type": "code",
   "execution_count": 43,
   "metadata": {
    "ExecuteTime": {
     "end_time": "2021-06-28T21:04:34.680661Z",
     "start_time": "2021-06-28T21:04:34.678859Z"
    }
   },
   "outputs": [],
   "source": [
    "#df_top_5_directors"
   ]
  },
  {
   "cell_type": "markdown",
   "metadata": {
    "ExecuteTime": {
     "end_time": "2021-06-28T19:02:28.820647Z",
     "start_time": "2021-06-28T19:02:28.815805Z"
    }
   },
   "source": [
    "### Respuesta"
   ]
  },
  {
   "cell_type": "code",
   "execution_count": 44,
   "metadata": {
    "ExecuteTime": {
     "end_time": "2021-06-28T21:04:34.823579Z",
     "start_time": "2021-06-28T21:04:34.821514Z"
    }
   },
   "outputs": [],
   "source": [
    "#df_top5_dirs_promedio"
   ]
  },
  {
   "cell_type": "markdown",
   "metadata": {
    "ExecuteTime": {
     "end_time": "2021-06-28T19:02:28.820647Z",
     "start_time": "2021-06-28T19:02:28.815805Z"
    }
   },
   "source": [
    "### Respuesta"
   ]
  },
  {
   "cell_type": "code",
   "execution_count": 45,
   "metadata": {
    "ExecuteTime": {
     "end_time": "2021-06-28T21:04:34.988727Z",
     "start_time": "2021-06-28T21:04:34.986484Z"
    }
   },
   "outputs": [],
   "source": [
    "#df_top5_dirs_promedio"
   ]
  },
  {
   "cell_type": "markdown",
   "metadata": {
    "ExecuteTime": {
     "end_time": "2021-06-28T19:02:28.820647Z",
     "start_time": "2021-06-28T19:02:28.815805Z"
    }
   },
   "source": []
  },
  {
   "cell_type": "code",
   "execution_count": 46,
   "metadata": {
    "ExecuteTime": {
     "end_time": "2021-06-28T21:04:35.105145Z",
     "start_time": "2021-06-28T21:04:35.103248Z"
    }
   },
   "outputs": [],
   "source": [
    "#director_prom_max"
   ]
  },
  {
   "cell_type": "markdown",
   "metadata": {
    "ExecuteTime": {
     "end_time": "2021-06-28T19:02:28.820647Z",
     "start_time": "2021-06-28T19:02:28.815805Z"
    }
   },
   "source": []
  },
  {
   "cell_type": "code",
   "execution_count": 47,
   "metadata": {
    "ExecuteTime": {
     "end_time": "2021-06-28T21:04:35.217302Z",
     "start_time": "2021-06-28T21:04:35.215204Z"
    }
   },
   "outputs": [],
   "source": [
    "#lista_peliculas_dir_max_prom"
   ]
  }
 ],
 "metadata": {
  "hide_input": false,
  "kernelspec": {
   "display_name": "Python 3",
   "language": "python",
   "name": "python3"
  },
  "language_info": {
   "codemirror_mode": {
    "name": "ipython",
    "version": 3
   },
   "file_extension": ".py",
   "mimetype": "text/x-python",
   "name": "python",
   "nbconvert_exporter": "python",
   "pygments_lexer": "ipython3",
   "version": "3.8.5"
  },
  "latex_envs": {
   "LaTeX_envs_menu_present": true,
   "autoclose": false,
   "autocomplete": true,
   "bibliofile": "biblio.bib",
   "cite_by": "apalike",
   "current_citInitial": 1,
   "eqLabelWithNumbers": true,
   "eqNumInitial": 1,
   "hotkeys": {
    "equation": "Ctrl-E",
    "itemize": "Ctrl-I"
   },
   "labels_anchors": false,
   "latex_user_defs": false,
   "report_style_numbering": false,
   "user_envs_cfg": false
  },
  "toc": {
   "base_numbering": 1,
   "nav_menu": {},
   "number_sections": true,
   "sideBar": true,
   "skip_h1_title": true,
   "title_cell": "Tabla de Contenidos",
   "title_sidebar": "Contenidos",
   "toc_cell": false,
   "toc_position": {
    "height": "calc(100% - 180px)",
    "left": "10px",
    "top": "150px",
    "width": "208px"
   },
   "toc_section_display": true,
   "toc_window_display": true
  },
  "varInspector": {
   "cols": {
    "lenName": 16,
    "lenType": 16,
    "lenVar": 40
   },
   "kernels_config": {
    "python": {
     "delete_cmd_postfix": "",
     "delete_cmd_prefix": "del ",
     "library": "var_list.py",
     "varRefreshCmd": "print(var_dic_list())"
    },
    "r": {
     "delete_cmd_postfix": ") ",
     "delete_cmd_prefix": "rm(",
     "library": "var_list.r",
     "varRefreshCmd": "cat(var_dic_list()) "
    }
   },
   "types_to_exclude": [
    "module",
    "function",
    "builtin_function_or_method",
    "instance",
    "_Feature"
   ],
   "window_display": false
  }
 },
 "nbformat": 4,
 "nbformat_minor": 2
}
