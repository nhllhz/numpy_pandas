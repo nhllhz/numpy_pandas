{
 "cells": [
  {
   "cell_type": "markdown",
   "metadata": {
    "toc": true
   },
   "source": [
    "<h1>Tabla de Contenidos<span class=\"tocSkip\"></span></h1>\n",
    "<div class=\"toc\"><ul class=\"toc-item\"><li><span><a href=\"#SITUACIÓN-PROFESIONAL-1\" data-toc-modified-id=\"SITUACIÓN-PROFESIONAL-1-1\"><span class=\"toc-item-num\">1&nbsp;&nbsp;</span>SITUACIÓN PROFESIONAL 1</a></span><ul class=\"toc-item\"><li><span><a href=\"#CLASE-3\" data-toc-modified-id=\"CLASE-3-1.1\"><span class=\"toc-item-num\">1.1&nbsp;&nbsp;</span>CLASE 3</a></span><ul class=\"toc-item\"><li><span><a href=\"#Prof.-Ricardo-Piña\" data-toc-modified-id=\"Prof.-Ricardo-Piña-1.1.1\"><span class=\"toc-item-num\">1.1.1&nbsp;&nbsp;</span>Prof. Ricardo Piña</a></span></li></ul></li></ul></li><li><span><a href=\"#Arrays-especiales\" data-toc-modified-id=\"Arrays-especiales-2\"><span class=\"toc-item-num\">2&nbsp;&nbsp;</span>Arrays especiales</a></span><ul class=\"toc-item\"><li><span><a href=\"#Vector-formada-por-unos\" data-toc-modified-id=\"Vector-formada-por-unos-2.1\"><span class=\"toc-item-num\">2.1&nbsp;&nbsp;</span>Vector formada por unos</a></span></li><li><span><a href=\"#Matriz-formada-por-unos\" data-toc-modified-id=\"Matriz-formada-por-unos-2.2\"><span class=\"toc-item-num\">2.2&nbsp;&nbsp;</span>Matriz formada por unos</a></span></li><li><span><a href=\"#Vector-formado-por-todos-sus-elementos-iguales\" data-toc-modified-id=\"Vector-formado-por-todos-sus-elementos-iguales-2.3\"><span class=\"toc-item-num\">2.3&nbsp;&nbsp;</span>Vector formado por todos sus elementos iguales</a></span></li><li><span><a href=\"#Matriz-formada-por-todos-sus-elementos-iguales\" data-toc-modified-id=\"Matriz-formada-por-todos-sus-elementos-iguales-2.4\"><span class=\"toc-item-num\">2.4&nbsp;&nbsp;</span>Matriz formada por todos sus elementos iguales</a></span></li><li><span><a href=\"#Vector-Nulo:-formado-por-ceros\" data-toc-modified-id=\"Vector-Nulo:-formado-por-ceros-2.5\"><span class=\"toc-item-num\">2.5&nbsp;&nbsp;</span>Vector Nulo: formado por ceros</a></span></li><li><span><a href=\"#Matriz-Nula:--formada-por-ceros\" data-toc-modified-id=\"Matriz-Nula:--formada-por-ceros-2.6\"><span class=\"toc-item-num\">2.6&nbsp;&nbsp;</span>Matriz Nula:  formada por ceros</a></span></li><li><span><a href=\"#Matriz-Identidad\" data-toc-modified-id=\"Matriz-Identidad-2.7\"><span class=\"toc-item-num\">2.7&nbsp;&nbsp;</span>Matriz Identidad</a></span></li><li><span><a href=\"#Matriz-de-números-aleatorios\" data-toc-modified-id=\"Matriz-de-números-aleatorios-2.8\"><span class=\"toc-item-num\">2.8&nbsp;&nbsp;</span>Matriz de números aleatorios</a></span></li><li><span><a href=\"#Matriz-de-números-aleatorios-decimales\" data-toc-modified-id=\"Matriz-de-números-aleatorios-decimales-2.9\"><span class=\"toc-item-num\">2.9&nbsp;&nbsp;</span>Matriz de números aleatorios decimales</a></span></li><li><span><a href=\"#Matriz-de-números-aleatorios-enteros\" data-toc-modified-id=\"Matriz-de-números-aleatorios-enteros-2.10\"><span class=\"toc-item-num\">2.10&nbsp;&nbsp;</span>Matriz de números aleatorios enteros</a></span></li></ul></li><li><span><a href=\"#Creación-de-secuencias-útiles\" data-toc-modified-id=\"Creación-de-secuencias-útiles-3\"><span class=\"toc-item-num\">3&nbsp;&nbsp;</span>Creación de secuencias útiles</a></span><ul class=\"toc-item\"><li><span><a href=\"#numpy.arange\" data-toc-modified-id=\"numpy.arange-3.1\"><span class=\"toc-item-num\">3.1&nbsp;&nbsp;</span>numpy.arange</a></span></li></ul></li><li><span><a href=\"#Convertir-a-array\" data-toc-modified-id=\"Convertir-a-array-4\"><span class=\"toc-item-num\">4&nbsp;&nbsp;</span>Convertir a array</a></span><ul class=\"toc-item\"><li><span><a href=\"#numpy.reshape\" data-toc-modified-id=\"numpy.reshape-4.1\"><span class=\"toc-item-num\">4.1&nbsp;&nbsp;</span>numpy.reshape</a></span></li><li><span><a href=\"#Flatten\" data-toc-modified-id=\"Flatten-4.2\"><span class=\"toc-item-num\">4.2&nbsp;&nbsp;</span>Flatten</a></span></li><li><span><a href=\"#Transpuesta-de-una-matriz\" data-toc-modified-id=\"Transpuesta-de-una-matriz-4.3\"><span class=\"toc-item-num\">4.3&nbsp;&nbsp;</span>Transpuesta de una matriz</a></span></li></ul></li><li><span><a href=\"#Arrays-Booleanos\" data-toc-modified-id=\"Arrays-Booleanos-5\"><span class=\"toc-item-num\">5&nbsp;&nbsp;</span>Arrays Booleanos</a></span></li><li><span><a href=\"#Truco\" data-toc-modified-id=\"Truco-6\"><span class=\"toc-item-num\">6&nbsp;&nbsp;</span>Truco</a></span></li></ul></div>"
   ]
  },
  {
   "cell_type": "markdown",
   "metadata": {},
   "source": [
    "![IES21](img/logo_ies.png)"
   ]
  },
  {
   "cell_type": "markdown",
   "metadata": {},
   "source": [
    "# COMPUTACIÓN CIENTÍFICA\n",
    "## SITUACIÓN PROFESIONAL 1\n",
    "### CLASE 3\n",
    "#### Prof. Ricardo Piña"
   ]
  },
  {
   "cell_type": "markdown",
   "metadata": {},
   "source": [
    "# Algebra en Python: Numpy"
   ]
  },
  {
   "cell_type": "code",
   "execution_count": 2,
   "metadata": {
    "ExecuteTime": {
     "end_time": "2020-09-11T21:18:42.917312Z",
     "start_time": "2020-09-11T21:18:42.776061Z"
    }
   },
   "outputs": [],
   "source": [
    "import numpy as np"
   ]
  },
  {
   "cell_type": "markdown",
   "metadata": {},
   "source": [
    "## Arrays especiales"
   ]
  },
  {
   "cell_type": "markdown",
   "metadata": {},
   "source": [
    "Muchas veces necesitaremos crear matrices rápidamente, sin cargar uno por uno sus elementos, NumPy nos provee con varias alternativas para hacerlo."
   ]
  },
  {
   "cell_type": "markdown",
   "metadata": {},
   "source": [
    "### Vector formada por unos"
   ]
  },
  {
   "cell_type": "code",
   "execution_count": 3,
   "metadata": {
    "ExecuteTime": {
     "end_time": "2020-09-11T21:18:43.259643Z",
     "start_time": "2020-09-11T21:18:43.246167Z"
    }
   },
   "outputs": [
    {
     "data": {
      "text/plain": [
       "array([1., 1., 1., 1.])"
      ]
     },
     "execution_count": 3,
     "metadata": {},
     "output_type": "execute_result"
    }
   ],
   "source": [
    "np.ones(4)"
   ]
  },
  {
   "cell_type": "markdown",
   "metadata": {},
   "source": [
    "### Matriz formada por unos"
   ]
  },
  {
   "cell_type": "code",
   "execution_count": 4,
   "metadata": {
    "ExecuteTime": {
     "end_time": "2020-09-11T21:18:43.435223Z",
     "start_time": "2020-09-11T21:18:43.428241Z"
    }
   },
   "outputs": [
    {
     "data": {
      "text/plain": [
       "array([[1., 1., 1., 1.],\n",
       "       [1., 1., 1., 1.],\n",
       "       [1., 1., 1., 1.]])"
      ]
     },
     "execution_count": 4,
     "metadata": {},
     "output_type": "execute_result"
    }
   ],
   "source": [
    "np.ones((3,4))"
   ]
  },
  {
   "cell_type": "markdown",
   "metadata": {},
   "source": [
    "Cree una matriz de 4 filas y 6 columnas formada por unos."
   ]
  },
  {
   "cell_type": "code",
   "execution_count": 1,
   "metadata": {
    "ExecuteTime": {
     "end_time": "2020-09-11T21:18:43.585517Z",
     "start_time": "2020-09-11T21:18:43.582551Z"
    }
   },
   "outputs": [
    {
     "data": {
      "text/plain": [
       "array([[1., 1., 1., 1., 1., 1.],\n",
       "       [1., 1., 1., 1., 1., 1.],\n",
       "       [1., 1., 1., 1., 1., 1.],\n",
       "       [1., 1., 1., 1., 1., 1.]])"
      ]
     },
     "execution_count": 1,
     "metadata": {},
     "output_type": "execute_result"
    }
   ],
   "source": [
    "# Escriba aquí su código\n",
    "import numpy as np\n",
    "np.ones((4,6))"
   ]
  },
  {
   "cell_type": "markdown",
   "metadata": {},
   "source": [
    "Obviamente si necesitara una matriz formada toda por cincos, bastaría con multiplicar la matriz anterior por 5"
   ]
  },
  {
   "cell_type": "code",
   "execution_count": 2,
   "metadata": {
    "ExecuteTime": {
     "end_time": "2020-09-11T21:18:43.734238Z",
     "start_time": "2020-09-11T21:18:43.732242Z"
    }
   },
   "outputs": [
    {
     "data": {
      "text/plain": [
       "array([[5., 5., 5., 5., 5., 5.],\n",
       "       [5., 5., 5., 5., 5., 5.],\n",
       "       [5., 5., 5., 5., 5., 5.],\n",
       "       [5., 5., 5., 5., 5., 5.]])"
      ]
     },
     "execution_count": 2,
     "metadata": {},
     "output_type": "execute_result"
    }
   ],
   "source": [
    "# Escriba aquí su código\n",
    "\n",
    "np.ones((4,6))*5"
   ]
  },
  {
   "cell_type": "markdown",
   "metadata": {},
   "source": [
    "También es posible crear esta matriz usando:"
   ]
  },
  {
   "cell_type": "markdown",
   "metadata": {},
   "source": [
    "### Vector formado por todos sus elementos iguales"
   ]
  },
  {
   "cell_type": "code",
   "execution_count": 7,
   "metadata": {
    "ExecuteTime": {
     "end_time": "2020-09-11T21:18:44.017491Z",
     "start_time": "2020-09-11T21:18:44.012533Z"
    }
   },
   "outputs": [
    {
     "data": {
      "text/plain": [
       "array([5, 5, 5])"
      ]
     },
     "execution_count": 7,
     "metadata": {},
     "output_type": "execute_result"
    }
   ],
   "source": [
    "np.full(3,5)"
   ]
  },
  {
   "cell_type": "markdown",
   "metadata": {},
   "source": [
    "### Matriz formada por todos sus elementos iguales"
   ]
  },
  {
   "cell_type": "code",
   "execution_count": 3,
   "metadata": {
    "ExecuteTime": {
     "end_time": "2020-09-11T21:18:44.156122Z",
     "start_time": "2020-09-11T21:18:44.151121Z"
    }
   },
   "outputs": [
    {
     "data": {
      "text/plain": [
       "array([[5, 5, 5, 5, 5, 5],\n",
       "       [5, 5, 5, 5, 5, 5],\n",
       "       [5, 5, 5, 5, 5, 5],\n",
       "       [5, 5, 5, 5, 5, 5]])"
      ]
     },
     "execution_count": 3,
     "metadata": {},
     "output_type": "execute_result"
    }
   ],
   "source": [
    "np.full((4,6),5)"
   ]
  },
  {
   "cell_type": "code",
   "execution_count": null,
   "metadata": {
    "ExecuteTime": {
     "end_time": "2020-09-11T21:18:52.211539Z",
     "start_time": "2020-09-11T21:18:52.190626Z"
    }
   },
   "outputs": [],
   "source": []
  },
  {
   "cell_type": "markdown",
   "metadata": {},
   "source": [
    "### Vector Nulo: formado por ceros"
   ]
  },
  {
   "cell_type": "code",
   "execution_count": 84,
   "metadata": {},
   "outputs": [
    {
     "data": {
      "text/plain": [
       "array([0., 0., 0., 0., 0., 0.])"
      ]
     },
     "execution_count": 84,
     "metadata": {},
     "output_type": "execute_result"
    }
   ],
   "source": [
    "np.zeros(6)"
   ]
  },
  {
   "cell_type": "markdown",
   "metadata": {},
   "source": [
    "### Matriz Nula:  formada por ceros"
   ]
  },
  {
   "cell_type": "code",
   "execution_count": 85,
   "metadata": {},
   "outputs": [
    {
     "data": {
      "text/plain": [
       "array([[0., 0., 0., 0.],\n",
       "       [0., 0., 0., 0.],\n",
       "       [0., 0., 0., 0.]])"
      ]
     },
     "execution_count": 85,
     "metadata": {},
     "output_type": "execute_result"
    }
   ],
   "source": [
    "np.zeros((3,4))"
   ]
  },
  {
   "cell_type": "markdown",
   "metadata": {},
   "source": [
    "### Matriz Identidad"
   ]
  },
  {
   "cell_type": "markdown",
   "metadata": {},
   "source": [
    "Las matrices identidad son aquellas **matrices cuadradas** cuya **diagonal principal está formada por unos y el resto de sus elementos son todos ceros**.  \n",
    "\n",
    "Por ejemplo la siguente es la matriz Identidad de orden 3 \n",
    "$$I_3=\\begin{bmatrix} 1 & 0 & 0 \\\\ 0 & 1 & 0 \\\\ 0 & 0 & 1 \\end{bmatrix}$$  \n",
    "\n",
    "Para crear se utiliza la función np.eye(orden), dado que es una matriz cuadrada en orden sólo se indica un número.  \n",
    "Por ejemplo para crear la matriz anterior:\n"
   ]
  },
  {
   "cell_type": "code",
   "execution_count": 86,
   "metadata": {},
   "outputs": [
    {
     "data": {
      "text/plain": [
       "array([[1., 0., 0.],\n",
       "       [0., 1., 0.],\n",
       "       [0., 0., 1.]])"
      ]
     },
     "execution_count": 86,
     "metadata": {},
     "output_type": "execute_result"
    }
   ],
   "source": [
    "I3=np.eye((3))\n",
    "I3"
   ]
  },
  {
   "cell_type": "markdown",
   "metadata": {},
   "source": [
    "Cree una matriz cuadrada de orden 5, cuya diagonal principal está formada por cuatros. "
   ]
  },
  {
   "cell_type": "code",
   "execution_count": 13,
   "metadata": {},
   "outputs": [
    {
     "data": {
      "text/plain": [
       "array([[4., 0., 0., 0., 0.],\n",
       "       [0., 4., 0., 0., 0.],\n",
       "       [0., 0., 4., 0., 0.],\n",
       "       [0., 0., 0., 4., 0.],\n",
       "       [0., 0., 0., 0., 4.]])"
      ]
     },
     "execution_count": 13,
     "metadata": {},
     "output_type": "execute_result"
    }
   ],
   "source": [
    "# Escriba aquí su código\n",
    "np.eye((5))*4\n",
    "\n"
   ]
  },
  {
   "cell_type": "markdown",
   "metadata": {},
   "source": [
    "### Matriz de números aleatorios"
   ]
  },
  {
   "cell_type": "markdown",
   "metadata": {},
   "source": [
    "Numpy provee de diversas funciones para obtener números aleatorios. \n",
    "\n",
    "Por ejemplo:  \n",
    "\n",
    "*np.random.random([size])*  \n",
    "\n",
    "devuelve una cantidad = size de números al azar entre [0,1[  (Nota: incluye al 0 pero **no** inlcuye al 1)\n"
   ]
  },
  {
   "cell_type": "markdown",
   "metadata": {},
   "source": [
    "Obtenga una secuencia de 5 números aleatorios entre [0,1[ "
   ]
  },
  {
   "cell_type": "code",
   "execution_count": 10,
   "metadata": {},
   "outputs": [
    {
     "data": {
      "text/plain": [
       "array([0.20990373, 0.7481791 , 0.81193441, 0.50651124, 0.42367739])"
      ]
     },
     "execution_count": 10,
     "metadata": {},
     "output_type": "execute_result"
    }
   ],
   "source": [
    "# Escriba aquí su código\n",
    "np.random.random([5]) #En el corchete va la cantidad de numeros que quiero que me devuelva. el rango es enter 0 y 1"
   ]
  },
  {
   "cell_type": "markdown",
   "metadata": {},
   "source": [
    "Observe que si ejecuta el código anterior los valores obtenidos serán distintos cada vez que ejecute.  \n",
    "Si necesita que los números aleartorios generados sean siempre los mismos, por ejemplo para conseguir \"repetibilidad\" de un experimento, deberá primero crear una semilla (seed).  \n",
    "\n",
    "Nota: En el caso de Jupyter el  valor de la seed se mantiene sólo dentro de la misma celda. Por las dudas, verifique.  \n"
   ]
  },
  {
   "cell_type": "markdown",
   "metadata": {},
   "source": [
    "Por ejemplo, ejecute varias veces el siguiente código y observe si los números aleatorios generados son siempre los mismos. "
   ]
  },
  {
   "cell_type": "code",
   "execution_count": 18,
   "metadata": {},
   "outputs": [
    {
     "data": {
      "text/plain": [
       "array([0.0523636 , 0.08718668, 0.40724176])"
      ]
     },
     "execution_count": 18,
     "metadata": {},
     "output_type": "execute_result"
    }
   ],
   "source": [
    "np.random.seed([123])\n",
    "np.random.random((3))"
   ]
  },
  {
   "cell_type": "markdown",
   "metadata": {},
   "source": [
    "A veces necesitamos generar números decimales (float) aleatorios en otro rango que no sea [0,1[  , en ese caso podemos usar random.uniform()  :\n",
    "\n",
    "~~~\n",
    "np.random.uniform(low=0.4, high=24.7, size=(10,))\n",
    "~~~"
   ]
  },
  {
   "cell_type": "code",
   "execution_count": 90,
   "metadata": {},
   "outputs": [
    {
     "data": {
      "text/plain": [
       "array([ 3.01711571, 22.29913273,  1.32713409, 13.42970957,  8.47240407,\n",
       "       21.10570484,  4.27979624,  8.59436477,  8.51125239,  6.35746947])"
      ]
     },
     "execution_count": 90,
     "metadata": {},
     "output_type": "execute_result"
    }
   ],
   "source": [
    "np.random.uniform(low=0.4, high=24.7, size=(10,))"
   ]
  },
  {
   "cell_type": "markdown",
   "metadata": {},
   "source": [
    "Si necesitamos que sean números enteros: \n",
    "\n",
    "**randint(low[, high, size, dtype])**    \n",
    "\n",
    "(nota: incluye a low, pero **no** incluye a high)\n",
    "\n",
    "Por ejemplo si necesitamos 4 números enteros entre 1 y 10 (inclusive ambos)\n",
    "\n",
    "\n"
   ]
  },
  {
   "cell_type": "code",
   "execution_count": 91,
   "metadata": {},
   "outputs": [
    {
     "data": {
      "text/plain": [
       "array([5, 5, 1, 4])"
      ]
     },
     "execution_count": 91,
     "metadata": {},
     "output_type": "execute_result"
    }
   ],
   "source": [
    "np.random.randint(1,11,4)  "
   ]
  },
  {
   "cell_type": "markdown",
   "metadata": {},
   "source": [
    "### Matriz de números aleatorios decimales"
   ]
  },
  {
   "cell_type": "code",
   "execution_count": 92,
   "metadata": {},
   "outputs": [
    {
     "data": {
      "text/plain": [
       "array([[0.87863034, 0.37759478, 0.00659504],\n",
       "       [0.73203925, 0.10203672, 0.04388745],\n",
       "       [0.66713817, 0.1262497 , 0.90660798]])"
      ]
     },
     "execution_count": 92,
     "metadata": {},
     "output_type": "execute_result"
    }
   ],
   "source": [
    "np.random.random((3,3))"
   ]
  },
  {
   "cell_type": "markdown",
   "metadata": {},
   "source": [
    "Nuevamente, si necesitamos que los valores generados al azar sean los mismos cada vez que se ejecute la celda:"
   ]
  },
  {
   "cell_type": "code",
   "execution_count": 93,
   "metadata": {},
   "outputs": [
    {
     "data": {
      "text/plain": [
       "array([[0.06688398, 0.41324282],\n",
       "       [0.11050473, 0.75211146],\n",
       "       [0.51128511, 0.04967399],\n",
       "       [0.04480748, 0.73593439]])"
      ]
     },
     "execution_count": 93,
     "metadata": {},
     "output_type": "execute_result"
    }
   ],
   "source": [
    "np.random.seed([49])\n",
    "np.random.random((4,2))"
   ]
  },
  {
   "cell_type": "markdown",
   "metadata": {},
   "source": [
    "### Matriz de números aleatorios enteros"
   ]
  },
  {
   "cell_type": "code",
   "execution_count": 94,
   "metadata": {},
   "outputs": [
    {
     "data": {
      "text/plain": [
       "array([[5, 5, 8],\n",
       "       [4, 1, 8],\n",
       "       [1, 9, 7]])"
      ]
     },
     "execution_count": 94,
     "metadata": {},
     "output_type": "execute_result"
    }
   ],
   "source": [
    "np.random.randint(1,11,(3,3))"
   ]
  },
  {
   "cell_type": "markdown",
   "metadata": {},
   "source": [
    "## Creación de secuencias útiles"
   ]
  },
  {
   "cell_type": "markdown",
   "metadata": {},
   "source": [
    "### numpy.arange\n",
    "Supongamos que por algún motivo necesitamos crear una secuencia de números impares hasta el 100, hacerlo manualmente puede ser muy incómodo, pero tenemos la función arange.  \n",
    "Su sintaxis es la siguiente:  \n",
    "\n",
    "\n",
    "numpy.arange([start, ]stop, [step, ]dtype=None\n",
    "\n",
    "(Consulte el Manual onlin de NumPy en: https://docs.scipy.org/doc/numpy/reference/generated/numpy.arange.html )\n",
    "\n",
    "- NumPy tomará como rango **desde el valor start inclusive** y se extenderá **hasta el valor step sin tomarlo**, es decir en el intervalo [start,stop[.  \n",
    "- Por defecto inicia la secuencia en  0 con un step de 1 y determina el tipo de dato según los utilizados en la función\n"
   ]
  },
  {
   "cell_type": "code",
   "execution_count": 95,
   "metadata": {},
   "outputs": [
    {
     "data": {
      "text/plain": [
       "array([0, 1, 2, 3, 4, 5, 6, 7, 8, 9])"
      ]
     },
     "execution_count": 95,
     "metadata": {},
     "output_type": "execute_result"
    }
   ],
   "source": [
    "np.arange(10)"
   ]
  },
  {
   "cell_type": "markdown",
   "metadata": {},
   "source": [
    "Ahora podemos crear nuestra secuencia de números impares desde el 1 hasta el 100. (1,3,5 ....99)"
   ]
  },
  {
   "cell_type": "code",
   "execution_count": 96,
   "metadata": {},
   "outputs": [
    {
     "data": {
      "text/plain": [
       "array([ 1,  3,  5,  7,  9, 11, 13, 15, 17, 19, 21, 23, 25, 27, 29, 31, 33,\n",
       "       35, 37, 39, 41, 43, 45, 47, 49, 51, 53, 55, 57, 59, 61, 63, 65, 67,\n",
       "       69, 71, 73, 75, 77, 79, 81, 83, 85, 87, 89, 91, 93, 95, 97, 99])"
      ]
     },
     "execution_count": 96,
     "metadata": {},
     "output_type": "execute_result"
    }
   ],
   "source": [
    "np.arange(1,100,2)"
   ]
  },
  {
   "cell_type": "markdown",
   "metadata": {},
   "source": [
    "Ejercicio:  \n",
    "Cree una secuencia de números desde el 1 hasta al 100 inclusive múltiplos de 10. (10, 20, 30, ..., 100)"
   ]
  },
  {
   "cell_type": "code",
   "execution_count": 21,
   "metadata": {},
   "outputs": [
    {
     "data": {
      "text/plain": [
       "array([  0,  10,  20,  30,  40,  50,  60,  70,  80,  90, 100])"
      ]
     },
     "execution_count": 21,
     "metadata": {},
     "output_type": "execute_result"
    }
   ],
   "source": [
    "# Escriba aquí su código\n",
    "\n",
    "np.arange(0,101,10)"
   ]
  },
  {
   "cell_type": "markdown",
   "metadata": {},
   "source": [
    "Cree la secuencia 1 ,1.2 ,1.4,1.6 ...5"
   ]
  },
  {
   "cell_type": "code",
   "execution_count": 22,
   "metadata": {},
   "outputs": [
    {
     "data": {
      "text/plain": [
       "array([1. , 1.2, 1.4, 1.6, 1.8, 2. , 2.2, 2.4, 2.6, 2.8, 3. , 3.2, 3.4,\n",
       "       3.6, 3.8, 4. , 4.2, 4.4, 4.6, 4.8, 5. ])"
      ]
     },
     "execution_count": 22,
     "metadata": {},
     "output_type": "execute_result"
    }
   ],
   "source": [
    "np.arange(1,5.1,0.2)"
   ]
  },
  {
   "cell_type": "code",
   "execution_count": null,
   "metadata": {},
   "outputs": [],
   "source": [
    "También es posible crear secuencias descendentes, no olvide poner el salto o step con un valor negativo.\n",
    "Cree el vector (10,9,8,..,1)"
   ]
  },
  {
   "cell_type": "code",
   "execution_count": 27,
   "metadata": {},
   "outputs": [
    {
     "data": {
      "text/plain": [
       "array([10,  9,  8,  7,  6,  5,  4,  3,  2,  1])"
      ]
     },
     "execution_count": 27,
     "metadata": {},
     "output_type": "execute_result"
    }
   ],
   "source": [
    "# Escriba aquí su código\n",
    "np.arange(10,0,-1)"
   ]
  },
  {
   "cell_type": "markdown",
   "metadata": {},
   "source": [
    "## Convertir a array"
   ]
  },
  {
   "cell_type": "markdown",
   "metadata": {},
   "source": [
    "### numpy.reshape"
   ]
  },
  {
   "cell_type": "markdown",
   "metadata": {},
   "source": [
    "Muchas veces nos interesará poblar una matriz con números de alguna secuencia; en NumPy podemos transformar arrays con distinta cantidad de ejes entre sí. \n",
    "\n",
    "numpy.reshape(a, newshape, order='C')  \n",
    "(consulte el Manual online de Numpy en: https://docs.scipy.org/doc/numpy/reference/generated/numpy.reshape.html)\n",
    "\n",
    "a: es el array original  \n",
    "newshape: es la cantidad de valores en cada eje que deseamos que tenga el resultado \n",
    "\n"
   ]
  },
  {
   "cell_type": "markdown",
   "metadata": {},
   "source": [
    "Supongamos que creamos un array con los 9 números enteros del 1 al 9."
   ]
  },
  {
   "cell_type": "code",
   "execution_count": 53,
   "metadata": {},
   "outputs": [
    {
     "data": {
      "text/plain": [
       "array([1, 2, 3, 4, 5, 6, 7, 8, 9])"
      ]
     },
     "execution_count": 53,
     "metadata": {},
     "output_type": "execute_result"
    }
   ],
   "source": [
    "numeros=np.arange(1,10,1)\n",
    "numeros"
   ]
  },
  {
   "cell_type": "markdown",
   "metadata": {},
   "source": [
    "y ahora queremos disponerlos en forma de matriz de 3 filas y 3 columnas, un una matriz es decir un array de 2 ejes:"
   ]
  },
  {
   "cell_type": "code",
   "execution_count": 100,
   "metadata": {},
   "outputs": [
    {
     "data": {
      "text/plain": [
       "array([[1, 2, 3],\n",
       "       [4, 5, 6],\n",
       "       [7, 8, 9]])"
      ]
     },
     "execution_count": 100,
     "metadata": {},
     "output_type": "execute_result"
    }
   ],
   "source": [
    "np.reshape(numeros,(3,3))"
   ]
  },
  {
   "cell_type": "markdown",
   "metadata": {},
   "source": [
    "Por supuesto que no era necesario crear primero el array numeros, podríamos haber hecho:"
   ]
  },
  {
   "cell_type": "code",
   "execution_count": 34,
   "metadata": {},
   "outputs": [
    {
     "data": {
      "text/plain": [
       "array([[1, 2, 3],\n",
       "       [4, 5, 6],\n",
       "       [7, 8, 9]])"
      ]
     },
     "execution_count": 34,
     "metadata": {},
     "output_type": "execute_result"
    }
   ],
   "source": [
    "np.reshape(np.arange(1,10,1),(3,3))"
   ]
  },
  {
   "cell_type": "markdown",
   "metadata": {},
   "source": [
    "Ejercicio:  \n",
    "Cree la siguiente matriz:\n",
    "$$\\begin{bmatrix} 1 & 1.5 & 2 & 2.5\\\\ 3 & 3.5 & 4 & 4.5\\\\ 5 & 5.5 & 6 & 6.5 \\end{bmatrix}$$ "
   ]
  },
  {
   "cell_type": "code",
   "execution_count": 36,
   "metadata": {},
   "outputs": [
    {
     "data": {
      "text/plain": [
       "array([[1. , 1.5, 2. , 2.5],\n",
       "       [3. , 3.5, 4. , 4.5],\n",
       "       [5. , 5.5, 6. , 6.5]])"
      ]
     },
     "execution_count": 36,
     "metadata": {},
     "output_type": "execute_result"
    }
   ],
   "source": [
    "#Escriba aquí su código\n",
    "import numpy as np\n",
    "A1=np.arange(1,7,0.5)\n",
    "np.reshape(A1,(3,4))"
   ]
  },
  {
   "cell_type": "markdown",
   "metadata": {},
   "source": [
    "También es posible cambiar una matriz en otra, con los mismos números pero distinta cantidad de filas y columnas:"
   ]
  },
  {
   "cell_type": "code",
   "execution_count": 37,
   "metadata": {},
   "outputs": [
    {
     "data": {
      "text/plain": [
       "array([[ 1,  2,  3,  4],\n",
       "       [ 5,  6,  7,  8],\n",
       "       [ 9, 10, 11, 12]])"
      ]
     },
     "execution_count": 37,
     "metadata": {},
     "output_type": "execute_result"
    }
   ],
   "source": [
    "matriz_01=np.reshape(np.arange(1,13,1),(3,4))\n",
    "matriz_01"
   ]
  },
  {
   "cell_type": "code",
   "execution_count": 38,
   "metadata": {},
   "outputs": [
    {
     "data": {
      "text/plain": [
       "array([[ 1,  2,  3],\n",
       "       [ 4,  5,  6],\n",
       "       [ 7,  8,  9],\n",
       "       [10, 11, 12]])"
      ]
     },
     "execution_count": 38,
     "metadata": {},
     "output_type": "execute_result"
    }
   ],
   "source": [
    "matriz_02=np.reshape(matriz_01,(4,3))\n",
    "matriz_02"
   ]
  },
  {
   "cell_type": "markdown",
   "metadata": {},
   "source": [
    "Convierta matriz_01 en una matriz con 6 filas y 2 columnas:"
   ]
  },
  {
   "cell_type": "code",
   "execution_count": 41,
   "metadata": {},
   "outputs": [
    {
     "data": {
      "text/plain": [
       "array([[ 1,  2],\n",
       "       [ 3,  4],\n",
       "       [ 5,  6],\n",
       "       [ 7,  8],\n",
       "       [ 9, 10],\n",
       "       [11, 12]])"
      ]
     },
     "execution_count": 41,
     "metadata": {},
     "output_type": "execute_result"
    }
   ],
   "source": [
    "# Escriba aquí su código\n",
    "M_3= np.reshape(matriz_01,(6,2))\n",
    "M_3"
   ]
  },
  {
   "cell_type": "markdown",
   "metadata": {},
   "source": [
    "Ahora conviértala en una matriz que tenga 2 filas y 6 columnas"
   ]
  },
  {
   "cell_type": "code",
   "execution_count": 42,
   "metadata": {},
   "outputs": [
    {
     "data": {
      "text/plain": [
       "array([[ 1,  2,  3,  4,  5,  6],\n",
       "       [ 7,  8,  9, 10, 11, 12]])"
      ]
     },
     "execution_count": 42,
     "metadata": {},
     "output_type": "execute_result"
    }
   ],
   "source": [
    "# Escriba aquí su código\n",
    "M_4= np.reshape(matriz_01,(2,6))\n",
    "M_4"
   ]
  },
  {
   "cell_type": "markdown",
   "metadata": {},
   "source": [
    "**El uso de -1 en reshape**  \n",
    "\n",
    "En algunas circunstancias el -1 puede funcionar como un comodín, observe el siguiente código:"
   ]
  },
  {
   "cell_type": "code",
   "execution_count": 43,
   "metadata": {},
   "outputs": [
    {
     "data": {
      "text/plain": [
       "array([[ 1,  2,  3,  4,  5,  6],\n",
       "       [ 7,  8,  9, 10, 11, 12]])"
      ]
     },
     "execution_count": 43,
     "metadata": {},
     "output_type": "execute_result"
    }
   ],
   "source": [
    "np.reshape(matriz_01,(2,-1))"
   ]
  },
  {
   "cell_type": "markdown",
   "metadata": {},
   "source": [
    "Observe el siguiente código:"
   ]
  },
  {
   "cell_type": "code",
   "execution_count": 45,
   "metadata": {},
   "outputs": [
    {
     "data": {
      "text/plain": [
       "array([[ 1,  2],\n",
       "       [ 3,  4],\n",
       "       [ 5,  6],\n",
       "       [ 7,  8],\n",
       "       [ 9, 10],\n",
       "       [11, 12]])"
      ]
     },
     "execution_count": 45,
     "metadata": {},
     "output_type": "execute_result"
    }
   ],
   "source": [
    "np.reshape(matriz_01,(-1,2))"
   ]
  },
  {
   "cell_type": "markdown",
   "metadata": {},
   "source": [
    "Explique aquí, qué papel jugó el -1 en los dos casos anteriores: \n",
    "\n",
    "El -1 termina de ordenar la matriz para que quede bien hecho el arreglo\n"
   ]
  },
  {
   "cell_type": "markdown",
   "metadata": {},
   "source": [
    "### Flatten"
   ]
  },
  {
   "cell_type": "markdown",
   "metadata": {},
   "source": [
    "Flatten sirve para transformar un array de varios ejes en uno de un solo eje, su sintaxis es como la siguiente:  \n",
    "\n",
    "**matriz.flatten()**\n"
   ]
  },
  {
   "cell_type": "code",
   "execution_count": 129,
   "metadata": {},
   "outputs": [
    {
     "data": {
      "text/plain": [
       "array([ 1,  2,  3,  4,  5,  6,  7,  8,  9, 10, 11, 12])"
      ]
     },
     "execution_count": 129,
     "metadata": {},
     "output_type": "execute_result"
    }
   ],
   "source": [
    "matriz_01.flatten()"
   ]
  },
  {
   "cell_type": "markdown",
   "metadata": {},
   "source": [
    "Cómo hubiera transformado a matriz_01 en un vector pero usando reshape?"
   ]
  },
  {
   "cell_type": "code",
   "execution_count": 50,
   "metadata": {},
   "outputs": [
    {
     "data": {
      "text/plain": [
       "array([[ 1,  2,  3,  4,  5,  6,  7,  8,  9, 10, 11, 12]])"
      ]
     },
     "execution_count": 50,
     "metadata": {},
     "output_type": "execute_result"
    }
   ],
   "source": [
    "# Escriba aquí su código\n",
    "np.reshape(matriz_01,(1,-1)) #Aca hay duda con el -1\n"
   ]
  },
  {
   "cell_type": "markdown",
   "metadata": {},
   "source": [
    "### Transpuesta de una matriz"
   ]
  },
  {
   "cell_type": "markdown",
   "metadata": {},
   "source": [
    "Para transponer una matriz, simplemente:  \n",
    "    \n",
    "matriz.T    \n",
    "\n",
    "Recordemos cómo era la matriz_01 y luego hallemos su transpuesta:"
   ]
  },
  {
   "cell_type": "code",
   "execution_count": 137,
   "metadata": {},
   "outputs": [
    {
     "data": {
      "text/plain": [
       "array([[ 1,  2,  3,  4],\n",
       "       [ 5,  6,  7,  8],\n",
       "       [ 9, 10, 11, 12]])"
      ]
     },
     "execution_count": 137,
     "metadata": {},
     "output_type": "execute_result"
    }
   ],
   "source": [
    "matriz_01"
   ]
  },
  {
   "cell_type": "code",
   "execution_count": 138,
   "metadata": {},
   "outputs": [
    {
     "data": {
      "text/plain": [
       "array([[ 1,  5,  9],\n",
       "       [ 2,  6, 10],\n",
       "       [ 3,  7, 11],\n",
       "       [ 4,  8, 12]])"
      ]
     },
     "execution_count": 138,
     "metadata": {},
     "output_type": "execute_result"
    }
   ],
   "source": [
    "matriz_01.T"
   ]
  },
  {
   "cell_type": "markdown",
   "metadata": {},
   "source": [
    "## Arrays Booleanos"
   ]
  },
  {
   "cell_type": "markdown",
   "metadata": {},
   "source": [
    "A veces será necesario crear arrays con valores True o False, esto también es posible en NumPy"
   ]
  },
  {
   "cell_type": "code",
   "execution_count": 143,
   "metadata": {},
   "outputs": [
    {
     "data": {
      "text/plain": [
       "array([[ True, False],\n",
       "       [False,  True]])"
      ]
     },
     "execution_count": 143,
     "metadata": {},
     "output_type": "execute_result"
    }
   ],
   "source": [
    "np.array([[True,False],[False,True]])"
   ]
  },
  {
   "cell_type": "markdown",
   "metadata": {},
   "source": [
    "También podríamos crear una matriz 3x3 con todos False"
   ]
  },
  {
   "cell_type": "code",
   "execution_count": 145,
   "metadata": {},
   "outputs": [
    {
     "data": {
      "text/plain": [
       "array([[False, False, False],\n",
       "       [False, False, False],\n",
       "       [False, False, False]])"
      ]
     },
     "execution_count": 145,
     "metadata": {},
     "output_type": "execute_result"
    }
   ],
   "source": [
    "np.full((3, 3), False)"
   ]
  },
  {
   "cell_type": "markdown",
   "metadata": {},
   "source": [
    "Cree una matriz 2x4 con valores True"
   ]
  },
  {
   "cell_type": "code",
   "execution_count": 51,
   "metadata": {},
   "outputs": [
    {
     "data": {
      "text/plain": [
       "array([[ True,  True,  True,  True],\n",
       "       [ True,  True,  True,  True]])"
      ]
     },
     "execution_count": 51,
     "metadata": {},
     "output_type": "execute_result"
    }
   ],
   "source": [
    "# Escriba aquí su código\n",
    "np.full((2,4), True)"
   ]
  },
  {
   "cell_type": "markdown",
   "metadata": {},
   "source": [
    "Los arrays con valores booleanos suelen aparecer como resultados de ciertas operaciones, por ejemplo cuando comparamos valores:\n",
    "\n",
    "\n",
    "Se acuerda cómo era el vector numeros?"
   ]
  },
  {
   "cell_type": "code",
   "execution_count": 54,
   "metadata": {},
   "outputs": [
    {
     "data": {
      "text/plain": [
       "array([1, 2, 3, 4, 5, 6, 7, 8, 9])"
      ]
     },
     "execution_count": 54,
     "metadata": {},
     "output_type": "execute_result"
    }
   ],
   "source": [
    "numeros"
   ]
  },
  {
   "cell_type": "code",
   "execution_count": 55,
   "metadata": {},
   "outputs": [
    {
     "data": {
      "text/plain": [
       "array([False, False,  True, False, False, False, False, False, False])"
      ]
     },
     "execution_count": 55,
     "metadata": {},
     "output_type": "execute_result"
    }
   ],
   "source": [
    "numeros == 3"
   ]
  },
  {
   "cell_type": "markdown",
   "metadata": {},
   "source": [
    "Observe que devolvió un array con True en las posiciones en las cuales se cumplió la condición y con  False en aquellas donde no se cumplió la condición."
   ]
  },
  {
   "cell_type": "markdown",
   "metadata": {},
   "source": [
    "En qué ubicaciones se encuentran los valores mayores a 4?"
   ]
  },
  {
   "cell_type": "code",
   "execution_count": 56,
   "metadata": {
    "ExecuteTime": {
     "end_time": "2020-09-11T21:48:59.959779Z",
     "start_time": "2020-09-11T21:48:59.949821Z"
    }
   },
   "outputs": [
    {
     "data": {
      "text/plain": [
       "array([False, False, False, False,  True,  True,  True,  True,  True])"
      ]
     },
     "execution_count": 56,
     "metadata": {},
     "output_type": "execute_result"
    }
   ],
   "source": [
    "# Escriba aquí su código\n",
    "numeros>4"
   ]
  },
  {
   "cell_type": "markdown",
   "metadata": {},
   "source": [
    "y para los mayores o iguales a 4?"
   ]
  },
  {
   "cell_type": "code",
   "execution_count": 58,
   "metadata": {},
   "outputs": [
    {
     "data": {
      "text/plain": [
       "array([False, False, False,  True,  True,  True,  True,  True,  True])"
      ]
     },
     "execution_count": 58,
     "metadata": {},
     "output_type": "execute_result"
    }
   ],
   "source": [
    "# Escriba aquí su código\n",
    "numeros >= 4"
   ]
  },
  {
   "cell_type": "markdown",
   "metadata": {},
   "source": [
    "## Truco"
   ]
  },
  {
   "cell_type": "markdown",
   "metadata": {},
   "source": [
    "Cuántos elementos mayores o iguales a 4 hay en el vector numeros?"
   ]
  },
  {
   "cell_type": "code",
   "execution_count": 158,
   "metadata": {},
   "outputs": [
    {
     "data": {
      "text/plain": [
       "6"
      ]
     },
     "execution_count": 158,
     "metadata": {},
     "output_type": "execute_result"
    }
   ],
   "source": [
    "sum(numeros>=4)"
   ]
  },
  {
   "cell_type": "markdown",
   "metadata": {},
   "source": [
    "Ocurre que internamente maneja a los True como unos y a los False como 0, por eso funciona."
   ]
  },
  {
   "cell_type": "markdown",
   "metadata": {},
   "source": [
    "Cree una matriz de 10x4 con números aleatorios entre 1 y 100 inclusive generados con la semilla (seed=321). Llámela matriz "
   ]
  },
  {
   "cell_type": "code",
   "execution_count": 60,
   "metadata": {},
   "outputs": [
    {
     "data": {
      "text/plain": [
       "array([[80, 34, 74, 62],\n",
       "       [66,  5, 41, 53],\n",
       "       [40, 23, 64, 77],\n",
       "       [60, 18, 87, 39],\n",
       "       [50, 72, 76, 85],\n",
       "       [15, 67, 17, 12],\n",
       "       [68, 66, 40, 46],\n",
       "       [29, 77,  1, 97],\n",
       "       [45, 79, 36, 35],\n",
       "       [69, 39,  2, 31]])"
      ]
     },
     "execution_count": 60,
     "metadata": {},
     "output_type": "execute_result"
    }
   ],
   "source": [
    "# Escriba aqui su código\n",
    "np.random.seed([321])\n",
    "matriz = np.random.randint(1,101,(10,4))\n",
    "matriz"
   ]
  },
  {
   "cell_type": "markdown",
   "metadata": {},
   "source": [
    "Cuente cuántos de sus elementos son mayores o iguales que 20"
   ]
  },
  {
   "cell_type": "code",
   "execution_count": 64,
   "metadata": {},
   "outputs": [
    {
     "data": {
      "text/plain": [
       "array([9, 8, 7, 9])"
      ]
     },
     "execution_count": 64,
     "metadata": {},
     "output_type": "execute_result"
    }
   ],
   "source": [
    "# Escriba aqui su código\n",
    "sum(matriz>=20)"
   ]
  },
  {
   "cell_type": "code",
   "execution_count": 176,
   "metadata": {},
   "outputs": [
    {
     "data": {
      "text/plain": [
       "33"
      ]
     },
     "execution_count": 176,
     "metadata": {},
     "output_type": "execute_result"
    }
   ],
   "source": [
    "# Escriba aqui su código"
   ]
  },
  {
   "cell_type": "code",
   "execution_count": null,
   "metadata": {},
   "outputs": [],
   "source": []
  }
 ],
 "metadata": {
  "hide_input": false,
  "kernelspec": {
   "display_name": "Python 3",
   "language": "python",
   "name": "python3"
  },
  "language_info": {
   "codemirror_mode": {
    "name": "ipython",
    "version": 3
   },
   "file_extension": ".py",
   "mimetype": "text/x-python",
   "name": "python",
   "nbconvert_exporter": "python",
   "pygments_lexer": "ipython3",
   "version": "3.8.5"
  },
  "toc": {
   "base_numbering": 1,
   "nav_menu": {},
   "number_sections": true,
   "sideBar": true,
   "skip_h1_title": true,
   "title_cell": "Tabla de Contenidos",
   "title_sidebar": "Contenidos",
   "toc_cell": true,
   "toc_position": {
    "height": "calc(100% - 180px)",
    "left": "10px",
    "top": "150px",
    "width": "172px"
   },
   "toc_section_display": true,
   "toc_window_display": true
  }
 },
 "nbformat": 4,
 "nbformat_minor": 2
}
