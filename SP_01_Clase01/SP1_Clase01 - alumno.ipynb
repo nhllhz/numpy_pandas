{
 "cells": [
  {
   "cell_type": "markdown",
   "metadata": {
    "toc": true
   },
   "source": [
    "<h1>Tabla de Contenidos<span class=\"tocSkip\"></span></h1>\n",
    "<div class=\"toc\"><ul class=\"toc-item\"><li><span><a href=\"#SITUACIÓN-PROFESIONAL-1\" data-toc-modified-id=\"SITUACIÓN-PROFESIONAL-1-1\"><span class=\"toc-item-num\">1&nbsp;&nbsp;</span>SITUACIÓN PROFESIONAL 1</a></span><ul class=\"toc-item\"><li><span><a href=\"#CLASE-1\" data-toc-modified-id=\"CLASE-1-1.1\"><span class=\"toc-item-num\">1.1&nbsp;&nbsp;</span>CLASE 1</a></span><ul class=\"toc-item\"><li><span><a href=\"#Prof.-Ricardo-Piña\" data-toc-modified-id=\"Prof.-Ricardo-Piña-1.1.1\"><span class=\"toc-item-num\">1.1.1&nbsp;&nbsp;</span>Prof. Ricardo Piña</a></span></li></ul></li></ul></li><li><span><a href=\"#Listas-y-Arrays\" data-toc-modified-id=\"Listas-y-Arrays-2\"><span class=\"toc-item-num\">2&nbsp;&nbsp;</span>Listas y Arrays</a></span></li><li><span><a href=\"#Arrays-con-Numpy\" data-toc-modified-id=\"Arrays-con-Numpy-3\"><span class=\"toc-item-num\">3&nbsp;&nbsp;</span>Arrays con Numpy</a></span><ul class=\"toc-item\"><li><span><a href=\"#Creación-de-arrays-en-NumPy\" data-toc-modified-id=\"Creación-de-arrays-en-NumPy-3.1\"><span class=\"toc-item-num\">3.1&nbsp;&nbsp;</span>Creación de arrays en NumPy</a></span></li><li><span><a href=\"#Describiendo-arrays:-.ndim,-.shape,-.size\" data-toc-modified-id=\"Describiendo-arrays:-.ndim,-.shape,-.size-3.2\"><span class=\"toc-item-num\">3.2&nbsp;&nbsp;</span>Describiendo arrays: .ndim, .shape, .size</a></span></li></ul></li><li><span><a href=\"#EJERCICIOS\" data-toc-modified-id=\"EJERCICIOS-4\"><span class=\"toc-item-num\">4&nbsp;&nbsp;</span>EJERCICIOS</a></span></li><li><span><a href=\"#Operaciones-con-arrays-en-NumPy\" data-toc-modified-id=\"Operaciones-con-arrays-en-NumPy-5\"><span class=\"toc-item-num\">5&nbsp;&nbsp;</span>Operaciones con arrays en NumPy</a></span><ul class=\"toc-item\"><li><span><a href=\"#Suma-de-vectores\" data-toc-modified-id=\"Suma-de-vectores-5.1\"><span class=\"toc-item-num\">5.1&nbsp;&nbsp;</span>Suma de vectores</a></span></li><li><span><a href=\"#Producto-de-un-vector-por-un-escalar\" data-toc-modified-id=\"Producto-de-un-vector-por-un-escalar-5.2\"><span class=\"toc-item-num\">5.2&nbsp;&nbsp;</span>Producto de un vector por un escalar</a></span></li><li><span><a href=\"#Producto-interno-o-producto-punto-de-vectores\" data-toc-modified-id=\"Producto-interno-o-producto-punto-de-vectores-5.3\"><span class=\"toc-item-num\">5.3&nbsp;&nbsp;</span>Producto interno o producto punto de vectores</a></span></li><li><span><a href=\"#Producto-vectorial-de-dos-vectores-o-producto-cruz\" data-toc-modified-id=\"Producto-vectorial-de-dos-vectores-o-producto-cruz-5.4\"><span class=\"toc-item-num\">5.4&nbsp;&nbsp;</span>Producto vectorial de dos vectores o producto cruz</a></span></li><li><span><a href=\"#Módulo-o-norma-de-un-vector\" data-toc-modified-id=\"Módulo-o-norma-de-un-vector-5.5\"><span class=\"toc-item-num\">5.5&nbsp;&nbsp;</span>Módulo o norma de un vector</a></span></li><li><span><a href=\"#Distancia-entre-dos-vectores-o-dos-puntos\" data-toc-modified-id=\"Distancia-entre-dos-vectores-o-dos-puntos-5.6\"><span class=\"toc-item-num\">5.6&nbsp;&nbsp;</span>Distancia entre dos vectores o dos puntos</a></span></li></ul></li><li><span><a href=\"#EJERCICIOS\" data-toc-modified-id=\"EJERCICIOS-6\"><span class=\"toc-item-num\">6&nbsp;&nbsp;</span>EJERCICIOS</a></span><ul class=\"toc-item\"><li><span><a href=\"#Operaciones-elemento-a-elemento-o-element---wise-operations\" data-toc-modified-id=\"Operaciones-elemento-a-elemento-o-element---wise-operations-6.1\"><span class=\"toc-item-num\">6.1&nbsp;&nbsp;</span>Operaciones elemento a elemento o element - wise operations</a></span></li><li><span><a href=\"#Cuidado:-element---wise-product\" data-toc-modified-id=\"Cuidado:-element---wise-product-6.2\"><span class=\"toc-item-num\">6.2&nbsp;&nbsp;</span>Cuidado: element - wise product</a></span></li></ul></li></ul></div>"
   ]
  },
  {
   "cell_type": "markdown",
   "metadata": {},
   "source": [
    "![IES21](img/logo_ies.png)"
   ]
  },
  {
   "cell_type": "markdown",
   "metadata": {},
   "source": [
    "# COMPUTACIÓN CIENTÍFICA\n",
    "## SITUACIÓN PROFESIONAL 1\n",
    "### CLASE 1\n",
    "#### Prof. Ricardo Piña"
   ]
  },
  {
   "cell_type": "markdown",
   "metadata": {},
   "source": [
    "# Algebra en Python: Numpy"
   ]
  },
  {
   "cell_type": "markdown",
   "metadata": {},
   "source": [
    "## Listas y Arrays"
   ]
  },
  {
   "cell_type": "markdown",
   "metadata": {},
   "source": [
    "Uno de los tipos de datos soportados nativamente en Python son las **listas**. Por ejemplo la siguiente es una lista:\n",
    "\n",
    "(SHIFT + ENTER para ejecutar una celda)"
   ]
  },
  {
   "cell_type": "code",
   "execution_count": 1,
   "metadata": {
    "ExecuteTime": {
     "end_time": "2021-04-05T22:40:23.991989Z",
     "start_time": "2021-04-05T22:40:23.982558Z"
    }
   },
   "outputs": [
    {
     "data": {
      "text/plain": [
       "[1, 2, 3, 4]"
      ]
     },
     "execution_count": 1,
     "metadata": {},
     "output_type": "execute_result"
    }
   ],
   "source": [
    "lista01=[1,2,3,4]\n",
    "lista01"
   ]
  },
  {
   "cell_type": "markdown",
   "metadata": {},
   "source": [
    "En álgebra Ud ha trabajado con **vectores** y es habitual que uno tienda a pensar que las listas son vectores, pero no lo son."
   ]
  },
  {
   "cell_type": "markdown",
   "metadata": {},
   "source": [
    "Las listas pueden contener elementos de distinto tipo, por ejemplo, texto o números y los vectores que aprendió a usar en álgebra son numéricos."
   ]
  },
  {
   "cell_type": "code",
   "execution_count": 4,
   "metadata": {
    "ExecuteTime": {
     "end_time": "2021-04-05T22:42:46.950406Z",
     "start_time": "2021-04-05T22:42:46.946436Z"
    }
   },
   "outputs": [
    {
     "name": "stdout",
     "output_type": "stream",
     "text": [
      "[1, 'árbol', 2, 'casa']\n"
     ]
    }
   ],
   "source": [
    "lista02=[1, \"árbol\",2,\"casa\"]\n",
    "print(lista02)"
   ]
  },
  {
   "cell_type": "markdown",
   "metadata": {},
   "source": [
    "Pero a veces tenemos listas que contienen sólo valores numéricos y podemos confundirnos. En estos casos suelen ocurrir cosas inesperadas como la siguiente:"
   ]
  },
  {
   "cell_type": "code",
   "execution_count": 5,
   "metadata": {
    "ExecuteTime": {
     "end_time": "2021-04-05T22:42:51.029663Z",
     "start_time": "2021-04-05T22:42:51.025710Z"
    }
   },
   "outputs": [],
   "source": [
    "lista03=[5,5,5,5]"
   ]
  },
  {
   "cell_type": "code",
   "execution_count": 9,
   "metadata": {},
   "outputs": [
    {
     "name": "stdout",
     "output_type": "stream",
     "text": [
      "[1, 2, 3, 4]\n",
      "[5, 5, 5, 5]\n"
     ]
    }
   ],
   "source": [
    "print(lista01)\n",
    "print(lista03)"
   ]
  },
  {
   "cell_type": "code",
   "execution_count": 10,
   "metadata": {},
   "outputs": [
    {
     "data": {
      "text/plain": [
       "[1, 2, 3, 4, 5, 5, 5, 5]"
      ]
     },
     "execution_count": 10,
     "metadata": {},
     "output_type": "execute_result"
    }
   ],
   "source": [
    "lista01+lista03"
   ]
  },
  {
   "cell_type": "markdown",
   "metadata": {},
   "source": [
    "Seguramente no fue el resultado esperado, al sumar dos listas, creó una nueva lista, más larga, con los elementos de la segunda lista a continuación de la primera.  \n",
    "Obviamente este comportamiento de las listas puede ser muy útil, pero ahora queremos aplicar Python para resolver problemas de álgebra. "
   ]
  },
  {
   "cell_type": "markdown",
   "metadata": {},
   "source": [
    "## Arrays con Numpy"
   ]
  },
  {
   "cell_type": "markdown",
   "metadata": {},
   "source": [
    "Numpy es una de las librerías matemáticas más usadas en Python y la que da origen a otras aún más sofisticadas. Incorpora algoritmos que permiten resolver operaciones algebraicas en forma **eficiente** porque están precompiladas en C. \n",
    "Veamos cómo trabajar con Numpy."
   ]
  },
  {
   "cell_type": "markdown",
   "metadata": {},
   "source": [
    "La estructura principal en NumPy es el **array multidimensional homogéneo**.  \n",
    "\n",
    "Aclaremos un poco:  \n",
    "\n",
    "**Homogéneo** significa que todos los elementos son del mismo tipo, para nosotros, generalmente serán números, ésto no nos traerá problemas.    \n",
    "\n"
   ]
  },
  {
   "cell_type": "markdown",
   "metadata": {},
   "source": [
    "**Dimensional o multidimensional** es un término algo confuso ya que se superpone con la definición de dimensión que aprendimos en álgebra!  \n",
    "\n",
    "Por ejemplo, en álgebra un punto en el plano se representa como un vector de dimensión 2, es decir que se puede escribir como  \n",
    "\n",
    "(1,4)  \n",
    "\n",
    "si lo escribimos como un vetor fila, o como:  \n",
    "\n",
    "$$\\begin{pmatrix} 1 \\\\ 4 \\end{pmatrix}$$  \n",
    "\n",
    "si lo escribimos como un vector columna.\n",
    "\n",
    "A un punto en el espacio tridimensional lo podemos representar como un vector de dimensión 3, por ejemplo:  \n",
    "\n",
    "(2,1,4)  \n",
    "\n",
    "o como:  \n",
    "\n",
    "$$\\begin{pmatrix} 2 \\\\ 1 \\\\  4  \\end{pmatrix}$$\n",
    "\n",
    "\n",
    "si lo escribimos como vector columna. \n",
    "\n"
   ]
  },
  {
   "cell_type": "markdown",
   "metadata": {},
   "source": [
    "En cambio en la nomenclatura de NumPy todos los vectores son de **\"dimensión 1\"**.  \n",
    "\n",
    "Quiénes tienen dimensión 2 en la nomenclatura de NumPy?  \n",
    "- Lo que en álgebra conocemos como **matrices**.  \n",
    "\n",
    "Ahora debe quedar claro el por qué, fíjese en la disposición de los elementos de una matriz:  \n",
    "\n",
    "$$\\begin{bmatrix} 1 & 2 & -1 \\\\ 3 & 0 & 1 \\\\ 0 & 2 & 4 \\end{bmatrix}$$  \n",
    "\n",
    "Podemos observar que los elementos de la matriz se disponen en dos direcciones, una horizontal y otra vertical, por eso en NumPy se dice que las matrices son de \"dimensión 2\". En cambio los elementos de los vectores se disponen en una sola dirección y por eso en NumPy se dice que son de \"dimensión 1\".\n",
    "\n",
    "\n",
    "\n"
   ]
  },
  {
   "cell_type": "markdown",
   "metadata": {},
   "source": [
    "A veces se utiliza una nomenclatura que resulta más clara para los elementos de NumPy y en vez de usar la palabra dimensión se utiliza la palabra **axis o eje**. \n",
    "\n",
    "Entonces en NumPy:  \n",
    "\n",
    "- un array de un eje (o dimensión 1 en NumPy)   es lo que en álgebra denominamos **vector**\n",
    "- un array de 2 ejes (o dimensión 2 en NumPy) es lo que en álgebra definimos como **matriz**\n",
    "- un array de más ejes (o mayor dimensión en NumPy) es lo que en álgebra se define como **tensor**"
   ]
  },
  {
   "cell_type": "markdown",
   "metadata": {},
   "source": [
    "Si desde el punto de vista de NumPy todos los vectores tienen un eje (o son de dimensión 1), qué distingue al vector (1,2) del (2,1,4) ?  \n",
    "\n",
    "La cantidad de elementos que tienen!  \n",
    "\n",
    "- la cantidad de elementos de (1,2) es 2 y   \n",
    "- la cantidad de elementos de (2,1,4) es 3\n",
    "\n",
    "En NumPy la cantidad de elementos se denomina con **length**."
   ]
  },
  {
   "cell_type": "markdown",
   "metadata": {},
   "source": [
    "Así por ejemplo en  lo que cambia es su \"length\" o longitud."
   ]
  },
  {
   "cell_type": "markdown",
   "metadata": {},
   "source": [
    "### Creación de arrays en NumPy"
   ]
  },
  {
   "cell_type": "markdown",
   "metadata": {},
   "source": [
    "A diferencia de las listas que comentamos al principio, los arrays deben definirse como tales, vamos a crear un vector, es decir un array con un solo eje o axis o de \"dimensión uno\".  \n",
    " \n",
    "\n",
    "Para crear el array usamos:  \n",
    "\n",
    "**np.array()**  \n",
    "\n",
    "y dentro del paréntesis los elementos se enumeran como una **secuencia** entre corchetes y separados por coma:  \n",
    "\n",
    "**np.array([ secuencia de elementos separados por coma ])**\n",
    "\n",
    "Podemos pensar que de esta manera NumPy crea vectores fila. "
   ]
  },
  {
   "cell_type": "markdown",
   "metadata": {},
   "source": [
    "Creemos el vector (1,2,3)"
   ]
  },
  {
   "cell_type": "markdown",
   "metadata": {},
   "source": [
    "Lo primero que debemos hacer es importar Numpy."
   ]
  },
  {
   "cell_type": "code",
   "execution_count": 6,
   "metadata": {
    "ExecuteTime": {
     "end_time": "2021-04-05T22:57:47.718095Z",
     "start_time": "2021-04-05T22:57:47.714112Z"
    }
   },
   "outputs": [],
   "source": [
    "import numpy as np              # el alias np es frecuentemente utilizado para abreviar la nomenclatura de numpy"
   ]
  },
  {
   "cell_type": "code",
   "execution_count": 7,
   "metadata": {
    "ExecuteTime": {
     "end_time": "2021-04-05T22:57:55.220079Z",
     "start_time": "2021-04-05T22:57:55.216606Z"
    }
   },
   "outputs": [],
   "source": [
    "vector_1=np.array([1,2,3])"
   ]
  },
  {
   "cell_type": "markdown",
   "metadata": {},
   "source": [
    "Veamos qué creó"
   ]
  },
  {
   "cell_type": "code",
   "execution_count": 11,
   "metadata": {
    "ExecuteTime": {
     "end_time": "2021-04-05T22:59:17.054624Z",
     "start_time": "2021-04-05T22:59:17.049628Z"
    }
   },
   "outputs": [
    {
     "data": {
      "text/plain": [
       "array([1, 2, 3])"
      ]
     },
     "execution_count": 11,
     "metadata": {},
     "output_type": "execute_result"
    }
   ],
   "source": [
    "vector_1"
   ]
  },
  {
   "cell_type": "markdown",
   "metadata": {},
   "source": [
    "Observe que en la salida nos indica que es un array.\n",
    "Pero si lo ponemos dentro de un print()"
   ]
  },
  {
   "cell_type": "code",
   "execution_count": 41,
   "metadata": {},
   "outputs": [
    {
     "name": "stdout",
     "output_type": "stream",
     "text": [
      "[1 2 3]\n"
     ]
    }
   ],
   "source": [
    "print(vector_1)"
   ]
  },
  {
   "cell_type": "code",
   "execution_count": null,
   "metadata": {},
   "outputs": [],
   "source": [
    "sólo nos muestra el resultado."
   ]
  },
  {
   "cell_type": "markdown",
   "metadata": {},
   "source": [
    "Ahora vamos a crear una **matriz**.\n",
    "Desde el punto de vista de NumPy una matriz será una secuencia de vectores, y un vector era una secuencia de números ...\n",
    "\n",
    "\n",
    "np.array([ [ fila 1 ],[ fila 2 ],...,[ fila n ] ])"
   ]
  },
  {
   "cell_type": "markdown",
   "metadata": {},
   "source": [
    "Creemos la matriz  \n",
    "\n",
    "$$\\begin{bmatrix} 1 & 2 & -1 \\\\ 3 & 0 & 1 \\\\ 0 & 2 & 4 \\\\ 1 & 5 & 3\\end{bmatrix}$$  "
   ]
  },
  {
   "cell_type": "code",
   "execution_count": 16,
   "metadata": {
    "ExecuteTime": {
     "end_time": "2021-04-05T23:03:38.244566Z",
     "start_time": "2021-04-05T23:03:38.241085Z"
    }
   },
   "outputs": [],
   "source": [
    "matriz_1=np.array([[1,2,-1],[3,0,1],[0,2,4],[1,5,3]])"
   ]
  },
  {
   "cell_type": "code",
   "execution_count": 17,
   "metadata": {
    "ExecuteTime": {
     "end_time": "2021-04-05T23:04:05.254695Z",
     "start_time": "2021-04-05T23:04:05.249202Z"
    }
   },
   "outputs": [
    {
     "data": {
      "text/plain": [
       "array([[ 1,  2, -1],\n",
       "       [ 3,  0,  1],\n",
       "       [ 0,  2,  4],\n",
       "       [ 1,  5,  3]])"
      ]
     },
     "execution_count": 17,
     "metadata": {},
     "output_type": "execute_result"
    }
   ],
   "source": [
    "matriz_1"
   ]
  },
  {
   "cell_type": "code",
   "execution_count": 46,
   "metadata": {},
   "outputs": [
    {
     "name": "stdout",
     "output_type": "stream",
     "text": [
      "[[ 1  2 -1]\n",
      " [ 3  0  1]\n",
      " [ 0  2  4]\n",
      " [ 1  5  3]]\n"
     ]
    }
   ],
   "source": [
    "print(matriz_1)"
   ]
  },
  {
   "cell_type": "markdown",
   "metadata": {},
   "source": [
    "### Describiendo arrays: .ndim, .shape, .size "
   ]
  },
  {
   "cell_type": "markdown",
   "metadata": {},
   "source": [
    "La propiedad .ndim nos indica la cantidad de ejes (o dimensiones) que tiene el array:"
   ]
  },
  {
   "cell_type": "markdown",
   "metadata": {},
   "source": [
    "Cuántos ejes tiene matriz_1?\n",
    "$$\\begin{bmatrix} 1 & 2 & -1 \\\\ 3 & 0 & 1 \\\\ 0 & 2 & 4 \\\\ 1 & 5 & 3\\end{bmatrix}$$  "
   ]
  },
  {
   "cell_type": "code",
   "execution_count": 19,
   "metadata": {
    "ExecuteTime": {
     "end_time": "2021-04-05T23:06:18.037156Z",
     "start_time": "2021-04-05T23:06:18.032197Z"
    }
   },
   "outputs": [
    {
     "data": {
      "text/plain": [
       "2"
      ]
     },
     "execution_count": 19,
     "metadata": {},
     "output_type": "execute_result"
    }
   ],
   "source": [
    "matriz_1.ndim"
   ]
  },
  {
   "cell_type": "markdown",
   "metadata": {},
   "source": [
    "Cuántos ejes tiene vector_1  (1,2,3) ?"
   ]
  },
  {
   "cell_type": "code",
   "execution_count": 20,
   "metadata": {
    "ExecuteTime": {
     "end_time": "2021-04-05T23:08:43.279859Z",
     "start_time": "2021-04-05T23:08:43.274899Z"
    }
   },
   "outputs": [
    {
     "data": {
      "text/plain": [
       "1"
      ]
     },
     "execution_count": 20,
     "metadata": {},
     "output_type": "execute_result"
    }
   ],
   "source": [
    "vector_1.ndim"
   ]
  },
  {
   "cell_type": "markdown",
   "metadata": {},
   "source": [
    "La propiedad .shape nos indica la cantidad de elementos en cada eje, si es una matriz nos indicará la cantidad de filas y de columnas que tiene. "
   ]
  },
  {
   "cell_type": "code",
   "execution_count": 55,
   "metadata": {},
   "outputs": [
    {
     "name": "stdout",
     "output_type": "stream",
     "text": [
      "(4, 3)\n"
     ]
    }
   ],
   "source": [
    "matriz_1.shape"
   ]
  },
  {
   "cell_type": "code",
   "execution_count": 56,
   "metadata": {},
   "outputs": [
    {
     "name": "stdout",
     "output_type": "stream",
     "text": [
      "(3,)\n"
     ]
    }
   ],
   "source": [
    "vector_1.shape"
   ]
  },
  {
   "cell_type": "markdown",
   "metadata": {},
   "source": [
    "La propiedad .size nos indica la cantidad de elementos en total que tiene el array:"
   ]
  },
  {
   "cell_type": "code",
   "execution_count": 21,
   "metadata": {
    "ExecuteTime": {
     "end_time": "2021-04-05T23:10:24.409399Z",
     "start_time": "2021-04-05T23:10:24.403449Z"
    }
   },
   "outputs": [
    {
     "data": {
      "text/plain": [
       "12"
      ]
     },
     "execution_count": 21,
     "metadata": {},
     "output_type": "execute_result"
    }
   ],
   "source": [
    "matriz_1.size"
   ]
  },
  {
   "cell_type": "code",
   "execution_count": 22,
   "metadata": {
    "ExecuteTime": {
     "end_time": "2021-04-05T23:10:33.701376Z",
     "start_time": "2021-04-05T23:10:33.696911Z"
    }
   },
   "outputs": [
    {
     "data": {
      "text/plain": [
       "3"
      ]
     },
     "execution_count": 22,
     "metadata": {},
     "output_type": "execute_result"
    }
   ],
   "source": [
    "vector_1.size"
   ]
  },
  {
   "cell_type": "markdown",
   "metadata": {},
   "source": [
    "## EJERCICIOS"
   ]
  },
  {
   "cell_type": "markdown",
   "metadata": {},
   "source": [
    "1) Cree el vector_2 = (1,2,3,4,5)"
   ]
  },
  {
   "cell_type": "code",
   "execution_count": 2,
   "metadata": {},
   "outputs": [
    {
     "name": "stdout",
     "output_type": "stream",
     "text": [
      "[1 2 3 4 5]\n"
     ]
    }
   ],
   "source": [
    "# Escriba a continuación su código para crear vector_2\n",
    "\n",
    "import numpy as np\n",
    "\n",
    "vector_2= np.array([1,2,3,4,5])\n",
    "\n",
    "# Escriba a continuación el código para mostrar vector_2\n",
    "\n",
    "print(vector_2)"
   ]
  },
  {
   "cell_type": "markdown",
   "metadata": {},
   "source": [
    "2) Cuál es la dimensión **algebraica** de vector_2?"
   ]
  },
  {
   "cell_type": "markdown",
   "metadata": {},
   "source": [
    "Rta: Dimensión 5"
   ]
  },
  {
   "cell_type": "markdown",
   "metadata": {},
   "source": [
    "3) Cuál es la dimensión **\"informática o de NumPy\"** de vector_2?"
   ]
  },
  {
   "cell_type": "code",
   "execution_count": 3,
   "metadata": {},
   "outputs": [
    {
     "data": {
      "text/plain": [
       "1"
      ]
     },
     "execution_count": 3,
     "metadata": {},
     "output_type": "execute_result"
    }
   ],
   "source": [
    "# Escriba a continuación el código para responder la pregunta anterior\n",
    "vector_2.ndim\n",
    "\n"
   ]
  },
  {
   "cell_type": "markdown",
   "metadata": {},
   "source": [
    "4) Cuántos elementos tiene vector_2?"
   ]
  },
  {
   "cell_type": "code",
   "execution_count": 5,
   "metadata": {},
   "outputs": [
    {
     "data": {
      "text/plain": [
       "5"
      ]
     },
     "execution_count": 5,
     "metadata": {},
     "output_type": "execute_result"
    }
   ],
   "source": [
    "# Escriba a continuación el código para responder la pregunta anterior\n",
    "\n",
    "vector_2.shape\n",
    "vector_2.size"
   ]
  },
  {
   "cell_type": "markdown",
   "metadata": {},
   "source": [
    "5) Cree la matriz_2 \n",
    "$$\\begin{bmatrix} 3 & 1 & -1 & 4\\\\ 2 & 5 & 1 & 2\\\\ 0 & 2 & 4 & 1 \\end{bmatrix}$$  "
   ]
  },
  {
   "cell_type": "code",
   "execution_count": 7,
   "metadata": {},
   "outputs": [
    {
     "data": {
      "text/plain": [
       "array([[ 3,  1, -1,  4],\n",
       "       [ 2,  5,  1,  2],\n",
       "       [ 0,  2,  4,  1]])"
      ]
     },
     "execution_count": 7,
     "metadata": {},
     "output_type": "execute_result"
    }
   ],
   "source": [
    "# Escriba a continuación su código para crear matriz_2\n",
    "\n",
    "import numpy as np\n",
    "\n",
    "matriz_2= np.array([[3,1,-1,4],[2,5,1,2],[0,2,4,1]])\n",
    "\n",
    "# Escriba a continuación el código para mostrar matriz_2\n",
    "\n",
    "matriz_2\n",
    "\n",
    "\n"
   ]
  },
  {
   "cell_type": "markdown",
   "metadata": {},
   "source": [
    "6) Cuántos ejes tiene matriz_2? (o cuál es la dimensión informática de matriz 2?"
   ]
  },
  {
   "cell_type": "code",
   "execution_count": 8,
   "metadata": {},
   "outputs": [
    {
     "data": {
      "text/plain": [
       "2"
      ]
     },
     "execution_count": 8,
     "metadata": {},
     "output_type": "execute_result"
    }
   ],
   "source": [
    "# Escriba a continuación el código para responder la pregunta anterior\n",
    "matriz_2.ndim\n"
   ]
  },
  {
   "cell_type": "markdown",
   "metadata": {},
   "source": [
    "7) Cuántas filas y cuántas columnas tiene matriz_2?"
   ]
  },
  {
   "cell_type": "code",
   "execution_count": 9,
   "metadata": {},
   "outputs": [
    {
     "data": {
      "text/plain": [
       "(3, 4)"
      ]
     },
     "execution_count": 9,
     "metadata": {},
     "output_type": "execute_result"
    }
   ],
   "source": [
    "# Escriba a continuación el código para responder la pregunta anterior\n",
    "matriz_2.shape\n"
   ]
  },
  {
   "cell_type": "markdown",
   "metadata": {},
   "source": [
    "8) Cuántos elementos en total tiene matriz_2?"
   ]
  },
  {
   "cell_type": "code",
   "execution_count": 10,
   "metadata": {},
   "outputs": [
    {
     "data": {
      "text/plain": [
       "12"
      ]
     },
     "execution_count": 10,
     "metadata": {},
     "output_type": "execute_result"
    }
   ],
   "source": [
    "# Escriba a continuación el código para responder la pregunta anterior\n",
    "matriz_2.size\n"
   ]
  },
  {
   "cell_type": "markdown",
   "metadata": {},
   "source": [
    "## Operaciones con arrays en NumPy"
   ]
  },
  {
   "cell_type": "markdown",
   "metadata": {},
   "source": [
    "### Suma de vectores"
   ]
  },
  {
   "cell_type": "markdown",
   "metadata": {},
   "source": [
    "Tanto para sumar o restar vectores podemos utilizar los símbolos habituales + y - \n",
    "\n",
    "Si queremos sumar los vectores v1 = (1,2,3)  y v2 = (2,0,-4)"
   ]
  },
  {
   "cell_type": "code",
   "execution_count": 83,
   "metadata": {},
   "outputs": [
    {
     "data": {
      "text/plain": [
       "array([ 3,  2, -1])"
      ]
     },
     "execution_count": 83,
     "metadata": {},
     "output_type": "execute_result"
    }
   ],
   "source": [
    "v1=np.array([1,2,3])\n",
    "v2=np.array([2,0,-4])\n",
    "\n",
    "v1+v2"
   ]
  },
  {
   "cell_type": "markdown",
   "metadata": {},
   "source": [
    "Nota: si desea sumar o restar vectores con distinta cantidad de elementos, dará error."
   ]
  },
  {
   "cell_type": "markdown",
   "metadata": {},
   "source": [
    "### Producto de un vector por un escalar"
   ]
  },
  {
   "cell_type": "markdown",
   "metadata": {},
   "source": [
    "También podemos usar el símbolo habitual para producto que en Python es el asterisco *.  \n",
    "\n",
    "Por ejemplo, si queremos efectuar 5v1, podemos realizar:"
   ]
  },
  {
   "cell_type": "code",
   "execution_count": 75,
   "metadata": {},
   "outputs": [
    {
     "data": {
      "text/plain": [
       "array([ 5, 10, 15])"
      ]
     },
     "execution_count": 75,
     "metadata": {},
     "output_type": "execute_result"
    }
   ],
   "source": [
    "5*v1"
   ]
  },
  {
   "cell_type": "markdown",
   "metadata": {},
   "source": [
    "Para realizar 1/5 v1"
   ]
  },
  {
   "cell_type": "code",
   "execution_count": 76,
   "metadata": {},
   "outputs": [
    {
     "data": {
      "text/plain": [
       "array([0.2, 0.4, 0.6])"
      ]
     },
     "execution_count": 76,
     "metadata": {},
     "output_type": "execute_result"
    }
   ],
   "source": [
    "1/5*v1"
   ]
  },
  {
   "cell_type": "code",
   "execution_count": null,
   "metadata": {},
   "outputs": [],
   "source": [
    "También podemos hacer: "
   ]
  },
  {
   "cell_type": "code",
   "execution_count": 77,
   "metadata": {},
   "outputs": [
    {
     "data": {
      "text/plain": [
       "array([0.2, 0.4, 0.6])"
      ]
     },
     "execution_count": 77,
     "metadata": {},
     "output_type": "execute_result"
    }
   ],
   "source": [
    "v1/5"
   ]
  },
  {
   "cell_type": "markdown",
   "metadata": {},
   "source": [
    "### Producto interno o producto punto de vectores"
   ]
  },
  {
   "cell_type": "markdown",
   "metadata": {},
   "source": [
    "El producto interno de dos vectores puede realizarse de dos maneras:  \n",
    "\n",
    "- con la función:  np.dot(vector1, vector2)\n",
    "- con el operador @, vector1 @ vector2  \n",
    "\n",
    "Veamos:"
   ]
  },
  {
   "cell_type": "code",
   "execution_count": 87,
   "metadata": {},
   "outputs": [
    {
     "name": "stdout",
     "output_type": "stream",
     "text": [
      "[1 2 3]\n",
      "[ 2  0 -4]\n"
     ]
    },
    {
     "data": {
      "text/plain": [
       "-10"
      ]
     },
     "execution_count": 87,
     "metadata": {},
     "output_type": "execute_result"
    }
   ],
   "source": [
    "print(v1)\n",
    "print(v2)\n",
    "\n",
    "np.dot(v1,v2)"
   ]
  },
  {
   "cell_type": "code",
   "execution_count": 88,
   "metadata": {},
   "outputs": [
    {
     "name": "stdout",
     "output_type": "stream",
     "text": [
      "[1 2 3]\n",
      "[ 2  0 -4]\n"
     ]
    },
    {
     "data": {
      "text/plain": [
       "-10"
      ]
     },
     "execution_count": 88,
     "metadata": {},
     "output_type": "execute_result"
    }
   ],
   "source": [
    "print(v1)\n",
    "print(v2)\n",
    "\n",
    "v1 @ v2"
   ]
  },
  {
   "cell_type": "markdown",
   "metadata": {},
   "source": [
    "### Producto vectorial de dos vectores o producto cruz"
   ]
  },
  {
   "cell_type": "markdown",
   "metadata": {},
   "source": [
    "Se puede utilizar la función np.cross(v1,v2)"
   ]
  },
  {
   "cell_type": "code",
   "execution_count": 89,
   "metadata": {},
   "outputs": [
    {
     "name": "stdout",
     "output_type": "stream",
     "text": [
      "[1 2 3]\n",
      "[ 2  0 -4]\n"
     ]
    },
    {
     "data": {
      "text/plain": [
       "array([-8, 10, -4])"
      ]
     },
     "execution_count": 89,
     "metadata": {},
     "output_type": "execute_result"
    }
   ],
   "source": [
    "print(v1)\n",
    "print(v2)\n",
    "\n",
    "np.cross(v1,v2)"
   ]
  },
  {
   "cell_type": "markdown",
   "metadata": {},
   "source": [
    "### Módulo o norma de un vector"
   ]
  },
  {
   "cell_type": "markdown",
   "metadata": {},
   "source": [
    "En álgebra se define el Módulo o norma de un vector como un número positivo que representa la longitud del mismo.\n",
    "\n",
    "Si el vector es $ u=(u_1,u_2,...,u_n)$\n",
    "\n",
    "Su módulo o norma se calcula como:\n",
    "\n",
    "$$||u||=\\sqrt[]{u^2_1+u^2_2+...+u^2_n}$$  "
   ]
  },
  {
   "cell_type": "markdown",
   "metadata": {},
   "source": [
    "Si lo pensamos un poco, calcular la norma de un vector con los métodos de programación tradicionales requiere efectuar algún loop recorriendo todos los elementos del vector, elevándolos al cuadrado, sumándolos a un acumulador y luego de recorrer todo el vector deberíamos calcular su raíz cuadrada.  \n",
    "\n",
    "Un poco pesado, por suerte pensando algebraicamente y usando NumPy tenemos opciones muy sencillas que nos permitirán focalizarnos en las operaciones matemáticas y no en la programación en sí. \n",
    "\n",
    "\n"
   ]
  },
  {
   "cell_type": "markdown",
   "metadata": {},
   "source": [
    "El módulo de un vector se podía calcular también como la raíza cuadrada del producto interno del vector con sí mismo:\n",
    "\n",
    "$$ ||u||=\\sqrt[]{u . u} $$\n",
    "\n",
    "\n",
    "Entonces podríamos calcular el módulo del vecto v1 como:"
   ]
  },
  {
   "cell_type": "code",
   "execution_count": 108,
   "metadata": {},
   "outputs": [
    {
     "data": {
      "text/plain": [
       "3.7416573867739413"
      ]
     },
     "execution_count": 108,
     "metadata": {},
     "output_type": "execute_result"
    }
   ],
   "source": [
    "np.sqrt(v1@v1)"
   ]
  },
  {
   "cell_type": "markdown",
   "metadata": {},
   "source": [
    "Bastante más sencillo, no es cierto?"
   ]
  },
  {
   "cell_type": "markdown",
   "metadata": {},
   "source": [
    "Pero además, dentro de NumPy existe una librería dedicada a operaciones específicas de álgebra lineal denominada **linalg**, y entre ellas se encuentra el cáclulo del módulo o norma de un vector, así que podemos efectuar el cálculo en forma más elegante y legible para quien lee el código:\n"
   ]
  },
  {
   "cell_type": "code",
   "execution_count": 109,
   "metadata": {},
   "outputs": [
    {
     "data": {
      "text/plain": [
       "3.7416573867739413"
      ]
     },
     "execution_count": 109,
     "metadata": {},
     "output_type": "execute_result"
    }
   ],
   "source": [
    "np.linalg.norm(v1)"
   ]
  },
  {
   "cell_type": "markdown",
   "metadata": {},
   "source": [
    "### Distancia entre dos vectores o dos puntos"
   ]
  },
  {
   "cell_type": "markdown",
   "metadata": {},
   "source": [
    "En álgebra se define la distancia (euclídea) entre dos puntos o entre 2 vectores como el módulo o norma de su diferencia:  \n",
    "\n",
    "distancia(u,v) = ||u-v||  \n",
    "\n",
    "Se anima a calcular la distancia entre los vectores v1 y v2 que definimos con anterioridad?\n",
    "\n",
    "Resuelva el problema primero manualmente con papel y lápiz ... y luego en la celda siguiente"
   ]
  },
  {
   "cell_type": "code",
   "execution_count": 12,
   "metadata": {},
   "outputs": [
    {
     "data": {
      "text/plain": [
       "7.3484692283495345"
      ]
     },
     "execution_count": 12,
     "metadata": {},
     "output_type": "execute_result"
    }
   ],
   "source": [
    "# Escriba en esta celda su código\n",
    "import numpy as np\n",
    "v1=np.array([1,2,3])\n",
    "v2=np.array([2,0,-4])\n",
    "np.linalg.norm(v1-v2)"
   ]
  },
  {
   "cell_type": "markdown",
   "metadata": {},
   "source": [
    "## EJERCICIOS"
   ]
  },
  {
   "cell_type": "markdown",
   "metadata": {},
   "source": [
    "Supongamos que tenemos la intención de crear un **Sistema de Recomendaciones** para los clientes de nuestro servicio de streaming de películas.  \n",
    "\n",
    "Para ello, decidimos recabar información de nuestros clientes, por ejemplo le solicitamos que califique qué tanto le gustó cada película después de que la vio.  \n",
    "\n",
    "Elaboramos un ranking de 1 a 5 siendo 1 que le gustó poco y 5 que le gustó muchísimo.  \n",
    "\n",
    "Después de un tiempo tendremos el puntaje asignado a muchas películas por muchos clientes.  \n",
    "Supongamos que nuestros clientes son A,B,C,D, etc y las películas son P1,P2, P3, nuestra información podría verse como en la siguiente tabla.\n"
   ]
  },
  {
   "cell_type": "raw",
   "metadata": {},
   "source": [
    "\n",
    "|   | P1 | P2 | P3 | P4 |\n",
    "|---|----|----|----|----|\n",
    "| A | 5  | 1  | 3  | 1  |\n",
    "| B | 3  | 5  | 4  | 4  |\n",
    "| C | 1  | 3  | 5  | 3  |\n",
    "| D | 4  | 2  | 1  | ?  |\n"
   ]
  },
  {
   "cell_type": "markdown",
   "metadata": {},
   "source": [
    "Nuestro objetivo es determinar si le recomendamos o no al cliente D la P4.  \n",
    "\n",
    "Nuestra hipótesis es que el gusto del cliente D será similar al del cliente que haya calificado más parecido a D las películas P1, P2 y P3, es decir al cliente más cercano a D considerando sólo las películas de 1 a 3.  \n",
    "\n",
    "Entonces crearemos un vector para cada cliente con las calificaciones que dio para las películas 1 a 3 y calcularemos la distancia entre el vector del cliente D y cada uno de los otros clientes. \n",
    "\n",
    "Esto nos permitirá determinar cuál de los clientes A, B o C es el más cercano a D, y asumiremos que el cliente D tendrá una calificación de P4 parecida al del más cercano a él.\n"
   ]
  },
  {
   "cell_type": "code",
   "execution_count": null,
   "metadata": {},
   "outputs": [],
   "source": []
  },
  {
   "cell_type": "code",
   "execution_count": 119,
   "metadata": {},
   "outputs": [],
   "source": [
    "# Cree aquí los vectores considerando sólo las películas P1 a P3 para los cuatro clientes\n",
    "import numpy as np\n",
    "cliente_a= np.array([5,1,3])\n",
    "cliente_b= np.array([3,5,4])\n",
    "cliente_c= np.array([1,3,5])\n",
    "cliente_d= np.array([4,2,1])"
   ]
  },
  {
   "cell_type": "code",
   "execution_count": 14,
   "metadata": {},
   "outputs": [
    {
     "data": {
      "text/plain": [
       "2.449489742783178"
      ]
     },
     "execution_count": 14,
     "metadata": {},
     "output_type": "execute_result"
    }
   ],
   "source": [
    "#Calcule la distancia entre el vector del cliente D y el cliente A\n",
    "import numpy as np\n",
    "cliente_a= np.array([5,1,3])\n",
    "cliente_d= np.array([4,2,1])\n",
    "np.linalg.norm(cliente_d-cliente_a)"
   ]
  },
  {
   "cell_type": "code",
   "execution_count": 15,
   "metadata": {},
   "outputs": [
    {
     "data": {
      "text/plain": [
       "4.358898943540674"
      ]
     },
     "execution_count": 15,
     "metadata": {},
     "output_type": "execute_result"
    }
   ],
   "source": [
    "#Calcule la distancia entre el vector del cliente D y el cliente B\n",
    "import numpy as np\n",
    "cliente_b= np.array([3,5,4])\n",
    "cliente_d= np.array([4,2,1])\n",
    "np.linalg.norm(cliente_d-cliente_b)"
   ]
  },
  {
   "cell_type": "code",
   "execution_count": 16,
   "metadata": {},
   "outputs": [
    {
     "data": {
      "text/plain": [
       "5.0990195135927845"
      ]
     },
     "execution_count": 16,
     "metadata": {},
     "output_type": "execute_result"
    }
   ],
   "source": [
    "#Calcule la distancia entre el vector del cliente D y el cliente C\n",
    "import numpy as np\n",
    "cliente_c= np.array([1,3,5])\n",
    "cliente_d= np.array([4,2,1])\n",
    "np.linalg.norm(cliente_d-cliente_c)"
   ]
  },
  {
   "cell_type": "markdown",
   "metadata": {},
   "source": [
    "Cuál es el cliente más cercano a C4? En base a esta cercanía, cree que la P4 le gustará o no a C4?"
   ]
  },
  {
   "cell_type": "markdown",
   "metadata": {},
   "source": [
    "Rta: El cliente mas cercano es el cliente A. Y segun lo que el cliente A puso para p4 (valor de 1), creo que al cliente D no le gustará."
   ]
  },
  {
   "cell_type": "markdown",
   "metadata": {},
   "source": [
    "### Operaciones elemento a elemento o element - wise operations "
   ]
  },
  {
   "cell_type": "code",
   "execution_count": null,
   "metadata": {},
   "outputs": [],
   "source": []
  },
  {
   "cell_type": "markdown",
   "metadata": {},
   "source": [
    "Los arrays de NumPy también incluyen otras operaciones que no están definidas en álgebra, pero que pueden resultarnos de utilidad al programar. "
   ]
  },
  {
   "cell_type": "markdown",
   "metadata": {},
   "source": [
    "Por ejemplo, para calcular la potencia de un número en Python se utiliza doble asterisco **"
   ]
  },
  {
   "cell_type": "code",
   "execution_count": 92,
   "metadata": {},
   "outputs": [
    {
     "data": {
      "text/plain": [
       "25"
      ]
     },
     "execution_count": 92,
     "metadata": {},
     "output_type": "execute_result"
    }
   ],
   "source": [
    "5**2"
   ]
  },
  {
   "cell_type": "code",
   "execution_count": 93,
   "metadata": {},
   "outputs": [
    {
     "data": {
      "text/plain": [
       "125"
      ]
     },
     "execution_count": 93,
     "metadata": {},
     "output_type": "execute_result"
    }
   ],
   "source": [
    "5**3"
   ]
  },
  {
   "cell_type": "markdown",
   "metadata": {},
   "source": [
    "NumPy permite aplicar esta operación a todos los elementos de un vector (o de un array en general)"
   ]
  },
  {
   "cell_type": "code",
   "execution_count": 94,
   "metadata": {},
   "outputs": [
    {
     "name": "stdout",
     "output_type": "stream",
     "text": [
      "[1 2 3]\n"
     ]
    },
    {
     "data": {
      "text/plain": [
       "array([1, 4, 9], dtype=int32)"
      ]
     },
     "execution_count": 94,
     "metadata": {},
     "output_type": "execute_result"
    }
   ],
   "source": [
    "print(v1)\n",
    "v1**2"
   ]
  },
  {
   "cell_type": "markdown",
   "metadata": {},
   "source": [
    "El mismmo concepto se aplica a operaciones como:  \n",
    "\n",
    "- raíz cuadrada: np.sqrt()\n",
    "- funciones trigonométricas como sin(), cos(), tan()\n",
    "- exponenciales"
   ]
  },
  {
   "cell_type": "code",
   "execution_count": 96,
   "metadata": {},
   "outputs": [
    {
     "name": "stdout",
     "output_type": "stream",
     "text": [
      "[1 2 3]\n"
     ]
    },
    {
     "data": {
      "text/plain": [
       "array([1.        , 1.41421356, 1.73205081])"
      ]
     },
     "execution_count": 96,
     "metadata": {},
     "output_type": "execute_result"
    }
   ],
   "source": [
    "print(v1)\n",
    "np.sqrt(v1)"
   ]
  },
  {
   "cell_type": "code",
   "execution_count": 99,
   "metadata": {},
   "outputs": [
    {
     "name": "stdout",
     "output_type": "stream",
     "text": [
      "[1 2 3]\n"
     ]
    },
    {
     "data": {
      "text/plain": [
       "array([0.84147098, 0.90929743, 0.14112001])"
      ]
     },
     "execution_count": 99,
     "metadata": {},
     "output_type": "execute_result"
    }
   ],
   "source": [
    "print(v1)\n",
    "np.sin(v1)      # toma los ángulos en radianes"
   ]
  },
  {
   "cell_type": "code",
   "execution_count": 100,
   "metadata": {},
   "outputs": [
    {
     "name": "stdout",
     "output_type": "stream",
     "text": [
      "[1 2 3]\n"
     ]
    },
    {
     "data": {
      "text/plain": [
       "array([ 0.54030231, -0.41614684, -0.9899925 ])"
      ]
     },
     "execution_count": 100,
     "metadata": {},
     "output_type": "execute_result"
    }
   ],
   "source": [
    "print(v1)\n",
    "np.cos(v1)      # toma los ángulos en radianes"
   ]
  },
  {
   "cell_type": "code",
   "execution_count": 101,
   "metadata": {},
   "outputs": [
    {
     "name": "stdout",
     "output_type": "stream",
     "text": [
      "[1 2 3]\n"
     ]
    },
    {
     "data": {
      "text/plain": [
       "array([ 1.55740772, -2.18503986, -0.14254654])"
      ]
     },
     "execution_count": 101,
     "metadata": {},
     "output_type": "execute_result"
    }
   ],
   "source": [
    "print(v1)\n",
    "np.tan(v1)      # toma los ángulos en radianes"
   ]
  },
  {
   "cell_type": "code",
   "execution_count": 102,
   "metadata": {},
   "outputs": [
    {
     "name": "stdout",
     "output_type": "stream",
     "text": [
      "[1 2 3]\n"
     ]
    },
    {
     "data": {
      "text/plain": [
       "array([ 2.71828183,  7.3890561 , 20.08553692])"
      ]
     },
     "execution_count": 102,
     "metadata": {},
     "output_type": "execute_result"
    }
   ],
   "source": [
    "print(v1)\n",
    "np.exp(v1)      "
   ]
  },
  {
   "cell_type": "code",
   "execution_count": 105,
   "metadata": {},
   "outputs": [
    {
     "name": "stdout",
     "output_type": "stream",
     "text": [
      "[1 2 3]\n"
     ]
    },
    {
     "data": {
      "text/plain": [
       "array([2, 4, 8], dtype=int32)"
      ]
     },
     "execution_count": 105,
     "metadata": {},
     "output_type": "execute_result"
    }
   ],
   "source": [
    "print(v1)\n",
    "2**v1      "
   ]
  },
  {
   "cell_type": "markdown",
   "metadata": {},
   "source": [
    "### Cuidado: element - wise product"
   ]
  },
  {
   "cell_type": "markdown",
   "metadata": {},
   "source": [
    "Por ejemplo en álgebra no está definida la operación de \"producto de dos vectores\", pero en NumPy sí podemos multiplicarlos: "
   ]
  },
  {
   "cell_type": "markdown",
   "metadata": {},
   "source": [
    "Recordemos quiénes son v1 y v2 y veamos qué hace NumPy cuando los multiplicamos:"
   ]
  },
  {
   "cell_type": "code",
   "execution_count": 86,
   "metadata": {},
   "outputs": [
    {
     "name": "stdout",
     "output_type": "stream",
     "text": [
      "[1 2 3]\n",
      "[ 2  0 -4]\n",
      "[  2   0 -12]\n"
     ]
    }
   ],
   "source": [
    "print(v1)\n",
    "print(v2)\n",
    "\n",
    "print(v1*v2)"
   ]
  },
  {
   "cell_type": "markdown",
   "metadata": {},
   "source": [
    "Observamos que el resultado es otro vector, cuyas componentes surgen de multiplicar componente a componente ambos vectores. "
   ]
  },
  {
   "cell_type": "code",
   "execution_count": null,
   "metadata": {},
   "outputs": [],
   "source": []
  }
 ],
 "metadata": {
  "hide_input": false,
  "kernelspec": {
   "display_name": "Python 3",
   "language": "python",
   "name": "python3"
  },
  "language_info": {
   "codemirror_mode": {
    "name": "ipython",
    "version": 3
   },
   "file_extension": ".py",
   "mimetype": "text/x-python",
   "name": "python",
   "nbconvert_exporter": "python",
   "pygments_lexer": "ipython3",
   "version": "3.8.5"
  },
  "toc": {
   "base_numbering": 1,
   "nav_menu": {},
   "number_sections": true,
   "sideBar": true,
   "skip_h1_title": true,
   "title_cell": "Tabla de Contenidos",
   "title_sidebar": "Contenidos",
   "toc_cell": true,
   "toc_position": {
    "height": "calc(100% - 180px)",
    "left": "10px",
    "top": "150px",
    "width": "165px"
   },
   "toc_section_display": true,
   "toc_window_display": true
  },
  "varInspector": {
   "cols": {
    "lenName": 16,
    "lenType": 16,
    "lenVar": 40
   },
   "kernels_config": {
    "python": {
     "delete_cmd_postfix": "",
     "delete_cmd_prefix": "del ",
     "library": "var_list.py",
     "varRefreshCmd": "print(var_dic_list())"
    },
    "r": {
     "delete_cmd_postfix": ") ",
     "delete_cmd_prefix": "rm(",
     "library": "var_list.r",
     "varRefreshCmd": "cat(var_dic_list()) "
    }
   },
   "types_to_exclude": [
    "module",
    "function",
    "builtin_function_or_method",
    "instance",
    "_Feature"
   ],
   "window_display": false
  }
 },
 "nbformat": 4,
 "nbformat_minor": 2
}
